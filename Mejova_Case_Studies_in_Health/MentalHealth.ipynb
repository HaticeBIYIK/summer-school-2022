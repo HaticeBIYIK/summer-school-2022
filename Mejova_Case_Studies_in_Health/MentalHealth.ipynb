{
 "cells": [
  {
   "cell_type": "code",
   "execution_count": 1,
   "metadata": {
    "executionInfo": {
     "elapsed": 1556,
     "status": "ok",
     "timestamp": 1657876548709,
     "user": {
      "displayName": "Yelena Mejova",
      "userId": "11766611928577248962"
     },
     "user_tz": -120
    },
    "id": "_4buibihLxas"
   },
   "outputs": [
    {
     "data": {
      "text/html": [
       "<style>.container { width:100% !important; }</style>"
      ],
      "text/plain": [
       "<IPython.core.display.HTML object>"
      ]
     },
     "metadata": {},
     "output_type": "display_data"
    }
   ],
   "source": [
    "from datetime import datetime, date\n",
    "import pandas as pd\n",
    "import numpy as np\n",
    "from scipy import stats\n",
    "import re, os, nltk, math, csv, json\n",
    "import matplotlib.pyplot as plt\n",
    "from nltk.tokenize import RegexpTokenizer\n",
    "from nltk.corpus import stopwords\n",
    "from collections import Counter\n",
    "from sklearn.feature_extraction.text import CountVectorizer\n",
    "\n",
    "from IPython.core.display import display, HTML\n",
    "display(HTML(\"<style>.container { width:100% !important; }</style>\"))"
   ]
  },
  {
   "cell_type": "code",
   "execution_count": 2,
   "metadata": {
    "colab": {
     "base_uri": "https://localhost:8080/"
    },
    "executionInfo": {
     "elapsed": 22196,
     "status": "ok",
     "timestamp": 1657876570901,
     "user": {
      "displayName": "Yelena Mejova",
      "userId": "11766611928577248962"
     },
     "user_tz": -120
    },
    "id": "R3jrz24TL4ux",
    "outputId": "07b529cb-f5ff-4728-c10c-8dd4db5c1df4"
   },
   "outputs": [
    {
     "name": "stdout",
     "output_type": "stream",
     "text": [
      "Mounted at /content/drive\n"
     ]
    }
   ],
   "source": [
    "# Google Drive - This will prompt you to click a link to authorize\n",
    "# (don't execute if running on own machine)\n",
    "from google.colab import drive, auth, files\n",
    "from oauth2client.client import GoogleCredentials\n",
    "drive.mount('/content/drive')"
   ]
  },
  {
   "cell_type": "code",
   "execution_count": 3,
   "metadata": {
    "colab": {
     "base_uri": "https://localhost:8080/"
    },
    "collapsed": true,
    "executionInfo": {
     "elapsed": 456,
     "status": "ok",
     "timestamp": 1657876571339,
     "user": {
      "displayName": "Yelena Mejova",
      "userId": "11766611928577248962"
     },
     "user_tz": -120
    },
    "id": "ivDnZCUHL6gv",
    "outputId": "59dd41f1-0256-4724-e62a-d9273953ec19"
   },
   "outputs": [
    {
     "data": {
      "text/plain": [
       "['Data',\n",
       " 'Resources_geolocation',\n",
       " 'Resources_nutrition',\n",
       " 'Obesity.ipynb',\n",
       " 'Resources_sentiment',\n",
       " 'MentalHealth.ipynb']"
      ]
     },
     "execution_count": 3,
     "metadata": {},
     "output_type": "execute_result"
    }
   ],
   "source": [
    "# Google Drive - Navigate to directory\n",
    "# (don't execute if running on own machine)\n",
    "os.chdir('drive/MyDrive/SocialComQuant22/')\n",
    "os.listdir('.')"
   ]
  },
  {
   "cell_type": "markdown",
   "metadata": {
    "id": "-FkILlEMMHIE"
   },
   "source": [
    "# NLP for health -- case study of Eating Disorders \n",
    "\n",
    "Sometimes we want to understand the linguistic features of a group, compared to some other group, and summarize the content of their discussion.\n",
    "\n",
    "1. Difference in word frequency using Odds Ratio\n",
    "2. Exploring topics using co-occurrence networks\n",
    "3. Linguistic analysis using LIWC"
   ]
  },
  {
   "cell_type": "code",
   "execution_count": 2,
   "metadata": {
    "executionInfo": {
     "elapsed": 1198,
     "status": "ok",
     "timestamp": 1657880105361,
     "user": {
      "displayName": "Yelena Mejova",
      "userId": "11766611928577248962"
     },
     "user_tz": -120
    },
    "id": "hl_1mNqfMASm"
   },
   "outputs": [],
   "source": [
    "# Read in tweets posted around anorexia in before and during COVID lockdowns\n",
    "tweets_beforeCOVID = pd.read_csv(\"Data/anorexic_2020_jan_feb_text.tsv\", sep=\"\\t\", lineterminator='\\n',\n",
    "                  low_memory=False, quoting=csv.QUOTE_NONE, escapechar=None, header=None, \n",
    "                  names=[\"text\", \"id\"], dtype={'id': object})\n",
    "tweets_duringCOVID = pd.read_csv(\"Data/anorexic_2020_apr_may_text.tsv\", sep=\"\\t\", lineterminator='\\n',\n",
    "                  low_memory=False, quoting=csv.QUOTE_NONE, escapechar=None, header=None, \n",
    "                  names=[\"text\", \"id\"], dtype={'id': object})"
   ]
  },
  {
   "cell_type": "code",
   "execution_count": 3,
   "metadata": {
    "colab": {
     "base_uri": "https://localhost:8080/"
    },
    "executionInfo": {
     "elapsed": 4,
     "status": "ok",
     "timestamp": 1657880106762,
     "user": {
      "displayName": "Yelena Mejova",
      "userId": "11766611928577248962"
     },
     "user_tz": -120
    },
    "id": "pbc8Er6IUPTw",
    "outputId": "b52fcc90-ee6f-4505-cafd-81ea36304ea5"
   },
   "outputs": [
    {
     "name": "stdout",
     "output_type": "stream",
     "text": [
      "(15727, 2)\n",
      "(12561, 2)\n"
     ]
    }
   ],
   "source": [
    "print(tweets_beforeCOVID.shape)\n",
    "print(tweets_duringCOVID.shape)"
   ]
  },
  {
   "cell_type": "code",
   "execution_count": 4,
   "metadata": {
    "colab": {
     "base_uri": "https://localhost:8080/",
     "height": 302
    },
    "executionInfo": {
     "elapsed": 3,
     "status": "ok",
     "timestamp": 1657880107094,
     "user": {
      "displayName": "Yelena Mejova",
      "userId": "11766611928577248962"
     },
     "user_tz": -120
    },
    "id": "Ze_uPUdG2RPk",
    "outputId": "d3b452ea-1555-47ca-bdea-09f213ee0e0c"
   },
   "outputs": [
    {
     "data": {
      "text/html": [
       "<div>\n",
       "<style scoped>\n",
       "    .dataframe tbody tr th:only-of-type {\n",
       "        vertical-align: middle;\n",
       "    }\n",
       "\n",
       "    .dataframe tbody tr th {\n",
       "        vertical-align: top;\n",
       "    }\n",
       "\n",
       "    .dataframe thead th {\n",
       "        text-align: right;\n",
       "    }\n",
       "</style>\n",
       "<table border=\"1\" class=\"dataframe\">\n",
       "  <thead>\n",
       "    <tr style=\"text-align: right;\">\n",
       "      <th></th>\n",
       "      <th>text</th>\n",
       "      <th>id</th>\n",
       "    </tr>\n",
       "  </thead>\n",
       "  <tbody>\n",
       "    <tr>\n",
       "      <th>6792</th>\n",
       "      <td>Eating disorders have the highest mortality rate of any mental illness. No one ever talks about them and they are not taken seriously whatsoever. I am an anorexia survivor and I’m not ashamed of it. #BellLetsTalk</td>\n",
       "      <td>1222549040614793216</td>\n",
       "    </tr>\n",
       "    <tr>\n",
       "      <th>14860</th>\n",
       "      <td>🥕TW🥕tbh theres no such thing as weight/fat that u cant lose. ur just not losing it bc u keep stuffing ur face w food. as long as ur not eating, theres rlly no excuse for u to not lose weight/fat. (this is more like a note-to-self thing &amp;amp; is NOT a proana acc) #thinspo #edtwt https://t.co/Bs0Dk6hVKa</td>\n",
       "      <td>1232683409115418625</td>\n",
       "    </tr>\n",
       "    <tr>\n",
       "      <th>8800</th>\n",
       "      <td>@AltAvenged I know 😭 trust me I know and I wanna stop. I wanna be normal again. I fucking hate anorexia. I thought I beat. I thought I was over it. But here we are.</td>\n",
       "      <td>1222921243806126081</td>\n",
       "    </tr>\n",
       "    <tr>\n",
       "      <th>7818</th>\n",
       "      <td>Eating disorders have the highest mortality rate of any mental illness. No one ever talks about them and they are not taken seriously whatsoever. I am an anorexia survivor and I’m not ashamed of it. #BellLetsTalk</td>\n",
       "      <td>1222605832593997827</td>\n",
       "    </tr>\n",
       "    <tr>\n",
       "      <th>4167</th>\n",
       "      <td>I smashed my scale that I had through the majority of my time before recovering from anorexia!! I cut you out of my life, bitch!!</td>\n",
       "      <td>1219066009958723585</td>\n",
       "    </tr>\n",
       "  </tbody>\n",
       "</table>\n",
       "</div>"
      ],
      "text/plain": [
       "                                                                                                                                                                                                                                                                                                                 text  \\\n",
       "6792                                                                                             Eating disorders have the highest mortality rate of any mental illness. No one ever talks about them and they are not taken seriously whatsoever. I am an anorexia survivor and I’m not ashamed of it. #BellLetsTalk   \n",
       "14860  🥕TW🥕tbh theres no such thing as weight/fat that u cant lose. ur just not losing it bc u keep stuffing ur face w food. as long as ur not eating, theres rlly no excuse for u to not lose weight/fat. (this is more like a note-to-self thing &amp; is NOT a proana acc) #thinspo #edtwt https://t.co/Bs0Dk6hVKa   \n",
       "8800                                                                                                                                             @AltAvenged I know 😭 trust me I know and I wanna stop. I wanna be normal again. I fucking hate anorexia. I thought I beat. I thought I was over it. But here we are.   \n",
       "7818                                                                                             Eating disorders have the highest mortality rate of any mental illness. No one ever talks about them and they are not taken seriously whatsoever. I am an anorexia survivor and I’m not ashamed of it. #BellLetsTalk   \n",
       "4167                                                                                                                                                                                I smashed my scale that I had through the majority of my time before recovering from anorexia!! I cut you out of my life, bitch!!   \n",
       "\n",
       "                        id  \n",
       "6792   1222549040614793216  \n",
       "14860  1232683409115418625  \n",
       "8800   1222921243806126081  \n",
       "7818   1222605832593997827  \n",
       "4167   1219066009958723585  "
      ]
     },
     "execution_count": 4,
     "metadata": {},
     "output_type": "execute_result"
    }
   ],
   "source": [
    "pd.options.display.max_colwidth = 1000\n",
    "tweets_beforeCOVID.sample(5)"
   ]
  },
  {
   "cell_type": "markdown",
   "metadata": {
    "id": "3O5Dt84O0XZR"
   },
   "source": [
    "## 2.1 Most distinguishing terms\n",
    "\n",
    "Odds ratio is a measure that quantifies the strength of the association between two events, A and B. We want to know, how likely is a word to occur, given we are looking at tweets during COVID, compared to before COVID?\n",
    "\n",
    "More on odds ratio: https://en.wikipedia.org/wiki/Odds_ratio"
   ]
  },
  {
   "cell_type": "markdown",
   "metadata": {
    "id": "mmqYch_sD30i"
   },
   "source": [
    "### Text pre-processing"
   ]
  },
  {
   "cell_type": "code",
   "execution_count": 5,
   "metadata": {
    "executionInfo": {
     "elapsed": 1,
     "status": "ok",
     "timestamp": 1657880109966,
     "user": {
      "displayName": "Yelena Mejova",
      "userId": "11766611928577248962"
     },
     "user_tz": -120
    },
    "id": "YINaIBkXUUzQ"
   },
   "outputs": [],
   "source": [
    "# Function to clean the text\n",
    "re_url = re.compile(r'https?:\\/\\/.*[\\r\\n]*', flags=re.U)\n",
    "re_rtw = re.compile(r'RT', flags=re.U)\n",
    "re_htg = re.compile(r'#', flags=re.U) # remove hashtag sign\n",
    "#re_htg = re.compile(r'#[\\w]+ ?', flags=re.U)   # remove hashtags\n",
    "re_hnd = re.compile(r'@\\w+ ?', flags=re.U)\n",
    "re_wrd = re.compile(r'[^\\w]+ ', flags=re.U)\n",
    "re_num = re.compile(r'[0-9]+', flags=re.U)\n",
    "\n",
    "def cleantext(txt):\n",
    "    t = txt\n",
    "    t = re_url.sub('', t)\n",
    "    t = re_htg.sub('', t)\n",
    "    t = re_rtw.sub(' ', t)\n",
    "    t = re_hnd.sub(' ', t)\n",
    "    t = re_wrd.sub(' ', t)\n",
    "    t = re_num.sub(' ', t)\n",
    "    \n",
    "    return t.strip().lower()"
   ]
  },
  {
   "cell_type": "code",
   "execution_count": 6,
   "metadata": {
    "executionInfo": {
     "elapsed": 480,
     "status": "ok",
     "timestamp": 1657880110857,
     "user": {
      "displayName": "Yelena Mejova",
      "userId": "11766611928577248962"
     },
     "user_tz": -120
    },
    "id": "5b6n2ZeE1n7_"
   },
   "outputs": [],
   "source": [
    "# Clean the text\n",
    "tweets_beforeCOVID[\"text_clean\"] = tweets_beforeCOVID.text.apply(lambda x: cleantext(x))\n",
    "tweets_duringCOVID[\"text_clean\"] = tweets_duringCOVID.text.apply(lambda x: cleantext(x))"
   ]
  },
  {
   "cell_type": "code",
   "execution_count": 7,
   "metadata": {
    "colab": {
     "base_uri": "https://localhost:8080/",
     "height": 458
    },
    "executionInfo": {
     "elapsed": 3,
     "status": "ok",
     "timestamp": 1657880110857,
     "user": {
      "displayName": "Yelena Mejova",
      "userId": "11766611928577248962"
     },
     "user_tz": -120
    },
    "id": "pjbOpBPp4GA8",
    "outputId": "ebfd5a47-e072-4706-9579-c739dbeb9cc7"
   },
   "outputs": [
    {
     "data": {
      "text/html": [
       "<div>\n",
       "<style scoped>\n",
       "    .dataframe tbody tr th:only-of-type {\n",
       "        vertical-align: middle;\n",
       "    }\n",
       "\n",
       "    .dataframe tbody tr th {\n",
       "        vertical-align: top;\n",
       "    }\n",
       "\n",
       "    .dataframe thead th {\n",
       "        text-align: right;\n",
       "    }\n",
       "</style>\n",
       "<table border=\"1\" class=\"dataframe\">\n",
       "  <thead>\n",
       "    <tr style=\"text-align: right;\">\n",
       "      <th></th>\n",
       "      <th>text</th>\n",
       "      <th>id</th>\n",
       "      <th>text_clean</th>\n",
       "    </tr>\n",
       "  </thead>\n",
       "  <tbody>\n",
       "    <tr>\n",
       "      <th>1205</th>\n",
       "      <td>I was diagnosed with anorexia a few years back whenever I was like ten and it got worse but I just wanted to let y’all know so you all won’t freak out if I’m not active I love you all and I will be keeping in touch and giving updates I’ll try to come on Twitter atleast</td>\n",
       "      <td>1214466484531019781</td>\n",
       "      <td>i was diagnosed with anorexia a few years back whenever i was like ten and it got worse but i just wanted to let y’all know so you all won’t freak out if i’m not active i love you all and i will be keeping in touch and giving updates i’ll try to come on twitter atleast</td>\n",
       "    </tr>\n",
       "    <tr>\n",
       "      <th>2313</th>\n",
       "      <td>my bpd and anorexia when i’m just trying to have a good time https://t.co/TJOdWjSjsg</td>\n",
       "      <td>1215791024896868353</td>\n",
       "      <td>my bpd and anorexia when i’m just trying to have a good time</td>\n",
       "    </tr>\n",
       "    <tr>\n",
       "      <th>751</th>\n",
       "      <td>1) Was in the schools Irish national finals for swimming. 2) Used to have really bad anorexia. 3) Supported Liverpool all my life. 4) Parents tried to get me tested for ADHD twice but they refused bc I was in a top school, got kicked out with the lowest grades 3 years later.</td>\n",
       "      <td>1213790273165254656</td>\n",
       "      <td>was in the schools irish national finals for swimming   used to have really bad anorexia   supported liverpool all my life   parents tried to get me tested for adhd twice but they refused bc i was in a top school got kicked out with the lowest grades   years later.</td>\n",
       "    </tr>\n",
       "    <tr>\n",
       "      <th>9097</th>\n",
       "      <td>I'm a19 yo female I've been diagnosed with Anorexia Nervosa. There isn't any eating disorder centers in Sudan Psychiatrists are with little to no expert regarding this category And CVS complications that showed lately put me at a higher risk of sudden heart stop. Help please</td>\n",
       "      <td>1223289953804849152</td>\n",
       "      <td>i'm a  yo female i've been diagnosed with anorexia nervosa there isn't any eating disorder centers in sudan psychiatrists are with little to no expert regarding this category and cvs complications that showed lately put me at a higher risk of sudden heart stop help please</td>\n",
       "    </tr>\n",
       "    <tr>\n",
       "      <th>6663</th>\n",
       "      <td>Eating disorders have the highest mortality rate of any mental illness. No one ever talks about them and they are not taken seriously whatsoever. I am an anorexia survivor and I’m not ashamed of it. #BellLetsTalk</td>\n",
       "      <td>1222544117911244800</td>\n",
       "      <td>eating disorders have the highest mortality rate of any mental illness no one ever talks about them and they are not taken seriously whatsoever i am an anorexia survivor and i’m not ashamed of it bellletstalk</td>\n",
       "    </tr>\n",
       "  </tbody>\n",
       "</table>\n",
       "</div>"
      ],
      "text/plain": [
       "                                                                                                                                                                                                                                                                                     text  \\\n",
       "1205        I was diagnosed with anorexia a few years back whenever I was like ten and it got worse but I just wanted to let y’all know so you all won’t freak out if I’m not active I love you all and I will be keeping in touch and giving updates I’ll try to come on Twitter atleast   \n",
       "2313                                                                                                                                                                                                 my bpd and anorexia when i’m just trying to have a good time https://t.co/TJOdWjSjsg   \n",
       "751   1) Was in the schools Irish national finals for swimming. 2) Used to have really bad anorexia. 3) Supported Liverpool all my life. 4) Parents tried to get me tested for ADHD twice but they refused bc I was in a top school, got kicked out with the lowest grades 3 years later.   \n",
       "9097  I'm a19 yo female I've been diagnosed with Anorexia Nervosa. There isn't any eating disorder centers in Sudan Psychiatrists are with little to no expert regarding this category And CVS complications that showed lately put me at a higher risk of sudden heart stop. Help please   \n",
       "6663                                                                 Eating disorders have the highest mortality rate of any mental illness. No one ever talks about them and they are not taken seriously whatsoever. I am an anorexia survivor and I’m not ashamed of it. #BellLetsTalk   \n",
       "\n",
       "                       id  \\\n",
       "1205  1214466484531019781   \n",
       "2313  1215791024896868353   \n",
       "751   1213790273165254656   \n",
       "9097  1223289953804849152   \n",
       "6663  1222544117911244800   \n",
       "\n",
       "                                                                                                                                                                                                                                                                            text_clean  \n",
       "1205     i was diagnosed with anorexia a few years back whenever i was like ten and it got worse but i just wanted to let y’all know so you all won’t freak out if i’m not active i love you all and i will be keeping in touch and giving updates i’ll try to come on twitter atleast  \n",
       "2313                                                                                                                                                                                                                      my bpd and anorexia when i’m just trying to have a good time  \n",
       "751          was in the schools irish national finals for swimming   used to have really bad anorexia   supported liverpool all my life   parents tried to get me tested for adhd twice but they refused bc i was in a top school got kicked out with the lowest grades   years later.  \n",
       "9097  i'm a  yo female i've been diagnosed with anorexia nervosa there isn't any eating disorder centers in sudan psychiatrists are with little to no expert regarding this category and cvs complications that showed lately put me at a higher risk of sudden heart stop help please  \n",
       "6663                                                                  eating disorders have the highest mortality rate of any mental illness no one ever talks about them and they are not taken seriously whatsoever i am an anorexia survivor and i’m not ashamed of it bellletstalk  "
      ]
     },
     "execution_count": 7,
     "metadata": {},
     "output_type": "execute_result"
    }
   ],
   "source": [
    "tweets_beforeCOVID.sample(5)"
   ]
  },
  {
   "cell_type": "code",
   "execution_count": 8,
   "metadata": {
    "executionInfo": {
     "elapsed": 3,
     "status": "ok",
     "timestamp": 1657880110857,
     "user": {
      "displayName": "Yelena Mejova",
      "userId": "11766611928577248962"
     },
     "user_tz": -120
    },
    "id": "LD1Ms2iP6CwE"
   },
   "outputs": [],
   "source": [
    "# Remove duplicates after cleaning\n",
    "tweets_beforeCOVID = tweets_beforeCOVID.drop_duplicates(\"text_clean\")\n",
    "tweets_duringCOVID = tweets_duringCOVID.drop_duplicates(\"text_clean\")"
   ]
  },
  {
   "cell_type": "code",
   "execution_count": 9,
   "metadata": {
    "colab": {
     "base_uri": "https://localhost:8080/"
    },
    "executionInfo": {
     "elapsed": 402,
     "status": "ok",
     "timestamp": 1657880111257,
     "user": {
      "displayName": "Yelena Mejova",
      "userId": "11766611928577248962"
     },
     "user_tz": -120
    },
    "id": "4JsCVmdz4IzH",
    "outputId": "9cab039a-cafb-40e7-b310-d8955e1f9ba7"
   },
   "outputs": [],
   "source": [
    "# Tokenize the text\n",
    "tokenizer = RegexpTokenizer(r'\\w+')\n",
    "tweets_beforeCOVID[\"text_tokens\"] = tweets_beforeCOVID[\"text_clean\"].apply(lambda x: tokenizer.tokenize(x))\n",
    "tweets_beforeCOVID = tweets_beforeCOVID.dropna(subset=['text_tokens'])\n",
    "tweets_duringCOVID[\"text_tokens\"] = tweets_duringCOVID[\"text_clean\"].apply(lambda x: tokenizer.tokenize(x))\n",
    "tweets_duringCOVID = tweets_duringCOVID.dropna(subset=['text_tokens'])"
   ]
  },
  {
   "cell_type": "code",
   "execution_count": 10,
   "metadata": {
    "colab": {
     "base_uri": "https://localhost:8080/",
     "height": 545
    },
    "executionInfo": {
     "elapsed": 6,
     "status": "ok",
     "timestamp": 1657880111258,
     "user": {
      "displayName": "Yelena Mejova",
      "userId": "11766611928577248962"
     },
     "user_tz": -120
    },
    "id": "NmdgCpBR4ZDq",
    "outputId": "cd2ee5f2-de56-4bd8-fca9-fd17f1323705"
   },
   "outputs": [
    {
     "data": {
      "text/html": [
       "<div>\n",
       "<style scoped>\n",
       "    .dataframe tbody tr th:only-of-type {\n",
       "        vertical-align: middle;\n",
       "    }\n",
       "\n",
       "    .dataframe tbody tr th {\n",
       "        vertical-align: top;\n",
       "    }\n",
       "\n",
       "    .dataframe thead th {\n",
       "        text-align: right;\n",
       "    }\n",
       "</style>\n",
       "<table border=\"1\" class=\"dataframe\">\n",
       "  <thead>\n",
       "    <tr style=\"text-align: right;\">\n",
       "      <th></th>\n",
       "      <th>text</th>\n",
       "      <th>id</th>\n",
       "      <th>text_clean</th>\n",
       "      <th>text_tokens</th>\n",
       "    </tr>\n",
       "  </thead>\n",
       "  <tbody>\n",
       "    <tr>\n",
       "      <th>11668</th>\n",
       "      <td>\"\"\"\"\"\"\"The only person allowed to be mean to My Sister was Me! Oh Hell No!\"\"\"\"  I was rather emotionally unstable. Mother's Death was Devastating. I was doing this for Her.  As I recall, I stayed about 5 weeks on that particular visit. 1st bout of Anorexia surfaced soon thereafter.\"\"\"</td>\n",
       "      <td>1226824115576823809</td>\n",
       "      <td>\"\"\"\"\"\"\"the only person allowed to be mean to my sister was me oh hell no i was rather emotionally unstable mother's death was devastating i was doing this for her as i recall i stayed about   weeks on that particular visit  st bout of anorexia surfaced soon thereafter.\"\"\"</td>\n",
       "      <td>[the, only, person, allowed, to, be, mean, to, my, sister, was, me, oh, hell, no, i, was, rather, emotionally, unstable, mother, s, death, was, devastating, i, was, doing, this, for, her, as, i, recall, i, stayed, about, weeks, on, that, particular, visit, st, bout, of, anorexia, surfaced, soon, thereafter]</td>\n",
       "    </tr>\n",
       "    <tr>\n",
       "      <th>4546</th>\n",
       "      <td>I would like to take credit for curing my moms ed  She was a die hard, og proana in the 80s and 90s, but then she got pregnant and it was either recover or lose me</td>\n",
       "      <td>1219706233298571264</td>\n",
       "      <td>i would like to take credit for curing my moms ed she was a die hard og proana in the  s and  s but then she got pregnant and it was either recover or lose me</td>\n",
       "      <td>[i, would, like, to, take, credit, for, curing, my, moms, ed, she, was, a, die, hard, og, proana, in, the, s, and, s, but, then, she, got, pregnant, and, it, was, either, recover, or, lose, me]</td>\n",
       "    </tr>\n",
       "    <tr>\n",
       "      <th>3223</th>\n",
       "      <td>The evolution of my ed has basically been “oh hi I’m going to be orthorexia nice to- I mean binge eating disorder, no anorexia, no wait I think I’ll be buli- oh you got tired of doing one extreme? Fine let’s do all extremes, ednos it is”</td>\n",
       "      <td>1217549503852613635</td>\n",
       "      <td>the evolution of my ed has basically been “oh hi i’m going to be orthorexia nice to i mean binge eating disorder no anorexia no wait i think i’ll be buli oh you got tired of doing one extreme fine let’s do all extremes ednos it is”</td>\n",
       "      <td>[the, evolution, of, my, ed, has, basically, been, oh, hi, i, m, going, to, be, orthorexia, nice, to, i, mean, binge, eating, disorder, no, anorexia, no, wait, i, think, i, ll, be, buli, oh, you, got, tired, of, doing, one, extreme, fine, let, s, do, all, extremes, ednos, it, is]</td>\n",
       "    </tr>\n",
       "    <tr>\n",
       "      <th>1903</th>\n",
       "      <td>to jillian michaels workout videos for the 3rd time in a day at 2 am and spiriling into anorexia i could have been celebrating my body for what it was and who I was</td>\n",
       "      <td>1215293581130227712</td>\n",
       "      <td>to jillian michaels workout videos for the  rd time in a day at   am and spiriling into anorexia i could have been celebrating my body for what it was and who i was</td>\n",
       "      <td>[to, jillian, michaels, workout, videos, for, the, rd, time, in, a, day, at, am, and, spiriling, into, anorexia, i, could, have, been, celebrating, my, body, for, what, it, was, and, who, i, was]</td>\n",
       "    </tr>\n",
       "    <tr>\n",
       "      <th>57</th>\n",
       "      <td>First 2020 goal is to control my anorexia</td>\n",
       "      <td>1212224711981195264</td>\n",
       "      <td>first   goal is to control my anorexia</td>\n",
       "      <td>[first, goal, is, to, control, my, anorexia]</td>\n",
       "    </tr>\n",
       "  </tbody>\n",
       "</table>\n",
       "</div>"
      ],
      "text/plain": [
       "                                                                                                                                                                                                                                                                                                text  \\\n",
       "11668  \"\"\"\"\"\"\"The only person allowed to be mean to My Sister was Me! Oh Hell No!\"\"\"\"  I was rather emotionally unstable. Mother's Death was Devastating. I was doing this for Her.  As I recall, I stayed about 5 weeks on that particular visit. 1st bout of Anorexia surfaced soon thereafter.\"\"\"   \n",
       "4546                                                                                                                             I would like to take credit for curing my moms ed  She was a die hard, og proana in the 80s and 90s, but then she got pregnant and it was either recover or lose me   \n",
       "3223                                                   The evolution of my ed has basically been “oh hi I’m going to be orthorexia nice to- I mean binge eating disorder, no anorexia, no wait I think I’ll be buli- oh you got tired of doing one extreme? Fine let’s do all extremes, ednos it is”   \n",
       "1903                                                                                                                            to jillian michaels workout videos for the 3rd time in a day at 2 am and spiriling into anorexia i could have been celebrating my body for what it was and who I was   \n",
       "57                                                                                                                                                                                                                                                         First 2020 goal is to control my anorexia   \n",
       "\n",
       "                        id  \\\n",
       "11668  1226824115576823809   \n",
       "4546   1219706233298571264   \n",
       "3223   1217549503852613635   \n",
       "1903   1215293581130227712   \n",
       "57     1212224711981195264   \n",
       "\n",
       "                                                                                                                                                                                                                                                                             text_clean  \\\n",
       "11668  \"\"\"\"\"\"\"the only person allowed to be mean to my sister was me oh hell no i was rather emotionally unstable mother's death was devastating i was doing this for her as i recall i stayed about   weeks on that particular visit  st bout of anorexia surfaced soon thereafter.\"\"\"   \n",
       "4546                                                                                                                     i would like to take credit for curing my moms ed she was a die hard og proana in the  s and  s but then she got pregnant and it was either recover or lose me   \n",
       "3223                                            the evolution of my ed has basically been “oh hi i’m going to be orthorexia nice to i mean binge eating disorder no anorexia no wait i think i’ll be buli oh you got tired of doing one extreme fine let’s do all extremes ednos it is”   \n",
       "1903                                                                                                               to jillian michaels workout videos for the  rd time in a day at   am and spiriling into anorexia i could have been celebrating my body for what it was and who i was   \n",
       "57                                                                                                                                                                                                                                               first   goal is to control my anorexia   \n",
       "\n",
       "                                                                                                                                                                                                                                                                                                                text_tokens  \n",
       "11668  [the, only, person, allowed, to, be, mean, to, my, sister, was, me, oh, hell, no, i, was, rather, emotionally, unstable, mother, s, death, was, devastating, i, was, doing, this, for, her, as, i, recall, i, stayed, about, weeks, on, that, particular, visit, st, bout, of, anorexia, surfaced, soon, thereafter]  \n",
       "4546                                                                                                                      [i, would, like, to, take, credit, for, curing, my, moms, ed, she, was, a, die, hard, og, proana, in, the, s, and, s, but, then, she, got, pregnant, and, it, was, either, recover, or, lose, me]  \n",
       "3223                               [the, evolution, of, my, ed, has, basically, been, oh, hi, i, m, going, to, be, orthorexia, nice, to, i, mean, binge, eating, disorder, no, anorexia, no, wait, i, think, i, ll, be, buli, oh, you, got, tired, of, doing, one, extreme, fine, let, s, do, all, extremes, ednos, it, is]  \n",
       "1903                                                                                                                    [to, jillian, michaels, workout, videos, for, the, rd, time, in, a, day, at, am, and, spiriling, into, anorexia, i, could, have, been, celebrating, my, body, for, what, it, was, and, who, i, was]  \n",
       "57                                                                                                                                                                                                                                                                             [first, goal, is, to, control, my, anorexia]  "
      ]
     },
     "execution_count": 10,
     "metadata": {},
     "output_type": "execute_result"
    }
   ],
   "source": [
    "tweets_beforeCOVID.sample(5)"
   ]
  },
  {
   "cell_type": "code",
   "execution_count": 11,
   "metadata": {
    "executionInfo": {
     "elapsed": 414,
     "status": "ok",
     "timestamp": 1657891620919,
     "user": {
      "displayName": "Yelena Mejova",
      "userId": "11766611928577248962"
     },
     "user_tz": -120
    },
    "id": "kXto-sXV4Z2_"
   },
   "outputs": [],
   "source": [
    "# Create a frequency table for each dataset\n",
    "c_before = Counter(tokenizer.tokenize(tweets_beforeCOVID[\"text_clean\"].str.cat(sep=' ')))\n",
    "c_during = Counter(tokenizer.tokenize(tweets_duringCOVID[\"text_clean\"].str.cat(sep=' ')))\n",
    "counts_before = pd.DataFrame(list(dict(c_before.most_common()).items()), columns=[\"word\",\"cnt_before\"])\n",
    "counts_during = pd.DataFrame(list(dict(c_during.most_common()).items()), columns=[\"word\",\"cnt_during\"])"
   ]
  },
  {
   "cell_type": "code",
   "execution_count": 12,
   "metadata": {
    "colab": {
     "base_uri": "https://localhost:8080/",
     "height": 363
    },
    "executionInfo": {
     "elapsed": 3,
     "status": "ok",
     "timestamp": 1657891620919,
     "user": {
      "displayName": "Yelena Mejova",
      "userId": "11766611928577248962"
     },
     "user_tz": -120
    },
    "id": "KHXPmGSS5GBB",
    "outputId": "9495fc41-2611-46ac-c007-cf9db7fe121f"
   },
   "outputs": [
    {
     "data": {
      "text/html": [
       "<div>\n",
       "<style scoped>\n",
       "    .dataframe tbody tr th:only-of-type {\n",
       "        vertical-align: middle;\n",
       "    }\n",
       "\n",
       "    .dataframe tbody tr th {\n",
       "        vertical-align: top;\n",
       "    }\n",
       "\n",
       "    .dataframe thead th {\n",
       "        text-align: right;\n",
       "    }\n",
       "</style>\n",
       "<table border=\"1\" class=\"dataframe\">\n",
       "  <thead>\n",
       "    <tr style=\"text-align: right;\">\n",
       "      <th></th>\n",
       "      <th>word</th>\n",
       "      <th>cnt_before</th>\n",
       "    </tr>\n",
       "  </thead>\n",
       "  <tbody>\n",
       "    <tr>\n",
       "      <th>0</th>\n",
       "      <td>i</td>\n",
       "      <td>13212</td>\n",
       "    </tr>\n",
       "    <tr>\n",
       "      <th>1</th>\n",
       "      <td>and</td>\n",
       "      <td>5922</td>\n",
       "    </tr>\n",
       "    <tr>\n",
       "      <th>2</th>\n",
       "      <td>my</td>\n",
       "      <td>5906</td>\n",
       "    </tr>\n",
       "    <tr>\n",
       "      <th>3</th>\n",
       "      <td>to</td>\n",
       "      <td>5812</td>\n",
       "    </tr>\n",
       "    <tr>\n",
       "      <th>4</th>\n",
       "      <td>anorexia</td>\n",
       "      <td>5537</td>\n",
       "    </tr>\n",
       "    <tr>\n",
       "      <th>5</th>\n",
       "      <td>a</td>\n",
       "      <td>3750</td>\n",
       "    </tr>\n",
       "    <tr>\n",
       "      <th>6</th>\n",
       "      <td>the</td>\n",
       "      <td>3130</td>\n",
       "    </tr>\n",
       "    <tr>\n",
       "      <th>7</th>\n",
       "      <td>it</td>\n",
       "      <td>3080</td>\n",
       "    </tr>\n",
       "    <tr>\n",
       "      <th>8</th>\n",
       "      <td>me</td>\n",
       "      <td>2874</td>\n",
       "    </tr>\n",
       "    <tr>\n",
       "      <th>9</th>\n",
       "      <td>of</td>\n",
       "      <td>2814</td>\n",
       "    </tr>\n",
       "  </tbody>\n",
       "</table>\n",
       "</div>"
      ],
      "text/plain": [
       "       word  cnt_before\n",
       "0         i       13212\n",
       "1       and        5922\n",
       "2        my        5906\n",
       "3        to        5812\n",
       "4  anorexia        5537\n",
       "5         a        3750\n",
       "6       the        3130\n",
       "7        it        3080\n",
       "8        me        2874\n",
       "9        of        2814"
      ]
     },
     "execution_count": 12,
     "metadata": {},
     "output_type": "execute_result"
    }
   ],
   "source": [
    "# Top words in tweets before COVID\n",
    "counts_before.head(10)"
   ]
  },
  {
   "cell_type": "code",
   "execution_count": 13,
   "metadata": {
    "colab": {
     "base_uri": "https://localhost:8080/",
     "height": 363
    },
    "executionInfo": {
     "elapsed": 3,
     "status": "ok",
     "timestamp": 1657891620920,
     "user": {
      "displayName": "Yelena Mejova",
      "userId": "11766611928577248962"
     },
     "user_tz": -120
    },
    "id": "KoC7pzqQ5NSE",
    "outputId": "f550485f-e71d-4894-8e6d-4413772020fc"
   },
   "outputs": [
    {
     "data": {
      "text/html": [
       "<div>\n",
       "<style scoped>\n",
       "    .dataframe tbody tr th:only-of-type {\n",
       "        vertical-align: middle;\n",
       "    }\n",
       "\n",
       "    .dataframe tbody tr th {\n",
       "        vertical-align: top;\n",
       "    }\n",
       "\n",
       "    .dataframe thead th {\n",
       "        text-align: right;\n",
       "    }\n",
       "</style>\n",
       "<table border=\"1\" class=\"dataframe\">\n",
       "  <thead>\n",
       "    <tr style=\"text-align: right;\">\n",
       "      <th></th>\n",
       "      <th>word</th>\n",
       "      <th>cnt_during</th>\n",
       "    </tr>\n",
       "  </thead>\n",
       "  <tbody>\n",
       "    <tr>\n",
       "      <th>0</th>\n",
       "      <td>i</td>\n",
       "      <td>13934</td>\n",
       "    </tr>\n",
       "    <tr>\n",
       "      <th>1</th>\n",
       "      <td>and</td>\n",
       "      <td>6444</td>\n",
       "    </tr>\n",
       "    <tr>\n",
       "      <th>2</th>\n",
       "      <td>my</td>\n",
       "      <td>6230</td>\n",
       "    </tr>\n",
       "    <tr>\n",
       "      <th>3</th>\n",
       "      <td>to</td>\n",
       "      <td>5939</td>\n",
       "    </tr>\n",
       "    <tr>\n",
       "      <th>4</th>\n",
       "      <td>anorexia</td>\n",
       "      <td>5766</td>\n",
       "    </tr>\n",
       "    <tr>\n",
       "      <th>5</th>\n",
       "      <td>a</td>\n",
       "      <td>3889</td>\n",
       "    </tr>\n",
       "    <tr>\n",
       "      <th>6</th>\n",
       "      <td>me</td>\n",
       "      <td>3308</td>\n",
       "    </tr>\n",
       "    <tr>\n",
       "      <th>7</th>\n",
       "      <td>the</td>\n",
       "      <td>3218</td>\n",
       "    </tr>\n",
       "    <tr>\n",
       "      <th>8</th>\n",
       "      <td>it</td>\n",
       "      <td>3214</td>\n",
       "    </tr>\n",
       "    <tr>\n",
       "      <th>9</th>\n",
       "      <td>of</td>\n",
       "      <td>2888</td>\n",
       "    </tr>\n",
       "  </tbody>\n",
       "</table>\n",
       "</div>"
      ],
      "text/plain": [
       "       word  cnt_during\n",
       "0         i       13934\n",
       "1       and        6444\n",
       "2        my        6230\n",
       "3        to        5939\n",
       "4  anorexia        5766\n",
       "5         a        3889\n",
       "6        me        3308\n",
       "7       the        3218\n",
       "8        it        3214\n",
       "9        of        2888"
      ]
     },
     "execution_count": 13,
     "metadata": {},
     "output_type": "execute_result"
    }
   ],
   "source": [
    "# Top words in tweets during COVID\n",
    "counts_during.head(10)"
   ]
  },
  {
   "cell_type": "code",
   "execution_count": 14,
   "metadata": {
    "colab": {
     "base_uri": "https://localhost:8080/"
    },
    "executionInfo": {
     "elapsed": 4,
     "status": "ok",
     "timestamp": 1657891621378,
     "user": {
      "displayName": "Yelena Mejova",
      "userId": "11766611928577248962"
     },
     "user_tz": -120
    },
    "id": "Esd-lTCB5Pzk",
    "outputId": "53ff8767-0d26-4b50-97b8-1467129cdcfa"
   },
   "outputs": [
    {
     "name": "stderr",
     "output_type": "stream",
     "text": [
      "[nltk_data] Downloading package stopwords to\n",
      "[nltk_data]     /Users/ymejova/nltk_data...\n",
      "[nltk_data]   Package stopwords is already up-to-date!\n"
     ]
    }
   ],
   "source": [
    "# Remove stopwords\n",
    "nltk.download('stopwords')\n",
    "stop = stopwords.words('english')\n",
    "stop.append(\"amp\")\n",
    "stop.append(\"rt\")"
   ]
  },
  {
   "cell_type": "code",
   "execution_count": 15,
   "metadata": {
    "executionInfo": {
     "elapsed": 396,
     "status": "ok",
     "timestamp": 1657891621772,
     "user": {
      "displayName": "Yelena Mejova",
      "userId": "11766611928577248962"
     },
     "user_tz": -120
    },
    "id": "QH1f0-sI5h57"
   },
   "outputs": [],
   "source": [
    "counts_before = counts_before[~counts_before.word.isin(stop)]\n",
    "counts_during = counts_during[~counts_during.word.isin(stop)]"
   ]
  },
  {
   "cell_type": "code",
   "execution_count": 16,
   "metadata": {
    "colab": {
     "base_uri": "https://localhost:8080/",
     "height": 363
    },
    "executionInfo": {
     "elapsed": 5,
     "status": "ok",
     "timestamp": 1657891621772,
     "user": {
      "displayName": "Yelena Mejova",
      "userId": "11766611928577248962"
     },
     "user_tz": -120
    },
    "id": "e_FEGlnA5l3_",
    "outputId": "68e0f6c5-c096-4ad5-96cd-dc7996c27f0c"
   },
   "outputs": [
    {
     "data": {
      "text/html": [
       "<div>\n",
       "<style scoped>\n",
       "    .dataframe tbody tr th:only-of-type {\n",
       "        vertical-align: middle;\n",
       "    }\n",
       "\n",
       "    .dataframe tbody tr th {\n",
       "        vertical-align: top;\n",
       "    }\n",
       "\n",
       "    .dataframe thead th {\n",
       "        text-align: right;\n",
       "    }\n",
       "</style>\n",
       "<table border=\"1\" class=\"dataframe\">\n",
       "  <thead>\n",
       "    <tr style=\"text-align: right;\">\n",
       "      <th></th>\n",
       "      <th>word</th>\n",
       "      <th>cnt_before</th>\n",
       "    </tr>\n",
       "  </thead>\n",
       "  <tbody>\n",
       "    <tr>\n",
       "      <th>4</th>\n",
       "      <td>anorexia</td>\n",
       "      <td>5537</td>\n",
       "    </tr>\n",
       "    <tr>\n",
       "      <th>25</th>\n",
       "      <td>like</td>\n",
       "      <td>1208</td>\n",
       "    </tr>\n",
       "    <tr>\n",
       "      <th>32</th>\n",
       "      <td>eating</td>\n",
       "      <td>925</td>\n",
       "    </tr>\n",
       "    <tr>\n",
       "      <th>34</th>\n",
       "      <td>weight</td>\n",
       "      <td>846</td>\n",
       "    </tr>\n",
       "    <tr>\n",
       "      <th>42</th>\n",
       "      <td>years</td>\n",
       "      <td>727</td>\n",
       "    </tr>\n",
       "    <tr>\n",
       "      <th>47</th>\n",
       "      <td>get</td>\n",
       "      <td>634</td>\n",
       "    </tr>\n",
       "    <tr>\n",
       "      <th>51</th>\n",
       "      <td>ed</td>\n",
       "      <td>571</td>\n",
       "    </tr>\n",
       "    <tr>\n",
       "      <th>55</th>\n",
       "      <td>life</td>\n",
       "      <td>529</td>\n",
       "    </tr>\n",
       "    <tr>\n",
       "      <th>57</th>\n",
       "      <td>want</td>\n",
       "      <td>517</td>\n",
       "    </tr>\n",
       "    <tr>\n",
       "      <th>60</th>\n",
       "      <td>know</td>\n",
       "      <td>507</td>\n",
       "    </tr>\n",
       "  </tbody>\n",
       "</table>\n",
       "</div>"
      ],
      "text/plain": [
       "        word  cnt_before\n",
       "4   anorexia        5537\n",
       "25      like        1208\n",
       "32    eating         925\n",
       "34    weight         846\n",
       "42     years         727\n",
       "47       get         634\n",
       "51        ed         571\n",
       "55      life         529\n",
       "57      want         517\n",
       "60      know         507"
      ]
     },
     "execution_count": 16,
     "metadata": {},
     "output_type": "execute_result"
    }
   ],
   "source": [
    "# Top words in tweets before COVID\n",
    "counts_before.head(10)"
   ]
  },
  {
   "cell_type": "code",
   "execution_count": 17,
   "metadata": {
    "colab": {
     "base_uri": "https://localhost:8080/",
     "height": 363
    },
    "executionInfo": {
     "elapsed": 4,
     "status": "ok",
     "timestamp": 1657891621772,
     "user": {
      "displayName": "Yelena Mejova",
      "userId": "11766611928577248962"
     },
     "user_tz": -120
    },
    "id": "q9tmAcSb5wWG",
    "outputId": "971a0ae1-c8c9-42e0-ed61-ec6e948f522e"
   },
   "outputs": [
    {
     "data": {
      "text/html": [
       "<div>\n",
       "<style scoped>\n",
       "    .dataframe tbody tr th:only-of-type {\n",
       "        vertical-align: middle;\n",
       "    }\n",
       "\n",
       "    .dataframe tbody tr th {\n",
       "        vertical-align: top;\n",
       "    }\n",
       "\n",
       "    .dataframe thead th {\n",
       "        text-align: right;\n",
       "    }\n",
       "</style>\n",
       "<table border=\"1\" class=\"dataframe\">\n",
       "  <thead>\n",
       "    <tr style=\"text-align: right;\">\n",
       "      <th></th>\n",
       "      <th>word</th>\n",
       "      <th>cnt_during</th>\n",
       "    </tr>\n",
       "  </thead>\n",
       "  <tbody>\n",
       "    <tr>\n",
       "      <th>4</th>\n",
       "      <td>anorexia</td>\n",
       "      <td>5766</td>\n",
       "    </tr>\n",
       "    <tr>\n",
       "      <th>24</th>\n",
       "      <td>like</td>\n",
       "      <td>1438</td>\n",
       "    </tr>\n",
       "    <tr>\n",
       "      <th>31</th>\n",
       "      <td>eating</td>\n",
       "      <td>1007</td>\n",
       "    </tr>\n",
       "    <tr>\n",
       "      <th>33</th>\n",
       "      <td>weight</td>\n",
       "      <td>987</td>\n",
       "    </tr>\n",
       "    <tr>\n",
       "      <th>39</th>\n",
       "      <td>years</td>\n",
       "      <td>823</td>\n",
       "    </tr>\n",
       "    <tr>\n",
       "      <th>45</th>\n",
       "      <td>proana</td>\n",
       "      <td>721</td>\n",
       "    </tr>\n",
       "    <tr>\n",
       "      <th>46</th>\n",
       "      <td>ed</td>\n",
       "      <td>699</td>\n",
       "    </tr>\n",
       "    <tr>\n",
       "      <th>50</th>\n",
       "      <td>get</td>\n",
       "      <td>614</td>\n",
       "    </tr>\n",
       "    <tr>\n",
       "      <th>54</th>\n",
       "      <td>eat</td>\n",
       "      <td>593</td>\n",
       "    </tr>\n",
       "    <tr>\n",
       "      <th>56</th>\n",
       "      <td>time</td>\n",
       "      <td>575</td>\n",
       "    </tr>\n",
       "  </tbody>\n",
       "</table>\n",
       "</div>"
      ],
      "text/plain": [
       "        word  cnt_during\n",
       "4   anorexia        5766\n",
       "24      like        1438\n",
       "31    eating        1007\n",
       "33    weight         987\n",
       "39     years         823\n",
       "45    proana         721\n",
       "46        ed         699\n",
       "50       get         614\n",
       "54       eat         593\n",
       "56      time         575"
      ]
     },
     "execution_count": 17,
     "metadata": {},
     "output_type": "execute_result"
    }
   ],
   "source": [
    "# Top words in tweets during COVID\n",
    "counts_during.head(10)"
   ]
  },
  {
   "cell_type": "markdown",
   "metadata": {
    "id": "Ousd6fz25-dx"
   },
   "source": [
    "### Top used words during COVID by odds ratio\n",
    "\n",
    "Probability is the probability an event happens. For example, there might be an 80% chance of rain today.\n",
    "\n",
    "Odds (more technically the odds of success) is defined as probability of success/probability of failure. So the odds of a success (80% chance of rain) has an accompanying odds of failure (20% chance it doesn’t rain); as an equation (the “odds ratio“), that’s .8/.2 = 4.\n",
    "\n",
    "Log odds is the logarithm of the odds. Ln(4) = 1.38629436 ≅ 1.386.\n",
    "\n",
    "Conversion to log odds results in symmetry around zero, which is easier for analysis.\n",
    "\n",
    "For more, see https://www.statisticshowto.com/log-odds/\n",
    "\n",
    "Definition from Wikipedia https://en.wikipedia.org/wiki/Odds_ratio\n",
    "\n",
    "w = word, \n",
    "n = not word, \n",
    "d = during COVID, \n",
    "b = before COVID\n",
    "\n",
    "```\n",
    "      w    n\n",
    "d    pwd  pnd\n",
    "b    pwb  pnb\n",
    "\n",
    "     pwd pnb\n",
    "OR = -------\n",
    "     pnd pwb\n",
    "```"
   ]
  },
  {
   "cell_type": "code",
   "execution_count": 18,
   "metadata": {
    "colab": {
     "base_uri": "https://localhost:8080/"
    },
    "executionInfo": {
     "elapsed": 2,
     "status": "ok",
     "timestamp": 1657891622107,
     "user": {
      "displayName": "Yelena Mejova",
      "userId": "11766611928577248962"
     },
     "user_tz": -120
    },
    "id": "YCr15F6x6q49",
    "outputId": "8e1779da-d5fe-4492-c6d0-59642ac2de93"
   },
   "outputs": [
    {
     "data": {
      "text/plain": [
       "(14639, 3)"
      ]
     },
     "execution_count": 18,
     "metadata": {},
     "output_type": "execute_result"
    }
   ],
   "source": [
    "# Put together the vocabularies from both datasets\n",
    "wordtable = pd.merge(counts_during, counts_before, on=\"word\", how=\"outer\").fillna(0)\n",
    "wordtable.shape"
   ]
  },
  {
   "cell_type": "code",
   "execution_count": 19,
   "metadata": {
    "executionInfo": {
     "elapsed": 2,
     "status": "ok",
     "timestamp": 1657891622108,
     "user": {
      "displayName": "Yelena Mejova",
      "userId": "11766611928577248962"
     },
     "user_tz": -120
    },
    "id": "_w3QbVFn_hRh"
   },
   "outputs": [],
   "source": [
    "# Compute counts of other words for each word\n",
    "wordtable[\"cnt_before_not\"] = wordtable.cnt_before.sum() - wordtable[\"cnt_before\"]\n",
    "wordtable[\"cnt_during_not\"] = wordtable.cnt_during.sum() - wordtable[\"cnt_during\"]"
   ]
  },
  {
   "cell_type": "code",
   "execution_count": 20,
   "metadata": {
    "colab": {
     "base_uri": "https://localhost:8080/",
     "height": 81
    },
    "executionInfo": {
     "elapsed": 2,
     "status": "ok",
     "timestamp": 1657891622844,
     "user": {
      "displayName": "Yelena Mejova",
      "userId": "11766611928577248962"
     },
     "user_tz": -120
    },
    "id": "pQFA1t8T_8iL",
    "outputId": "1fcf5c8d-92b9-4211-ba09-b2adacfeaaaa"
   },
   "outputs": [
    {
     "data": {
      "text/html": [
       "<div>\n",
       "<style scoped>\n",
       "    .dataframe tbody tr th:only-of-type {\n",
       "        vertical-align: middle;\n",
       "    }\n",
       "\n",
       "    .dataframe tbody tr th {\n",
       "        vertical-align: top;\n",
       "    }\n",
       "\n",
       "    .dataframe thead th {\n",
       "        text-align: right;\n",
       "    }\n",
       "</style>\n",
       "<table border=\"1\" class=\"dataframe\">\n",
       "  <thead>\n",
       "    <tr style=\"text-align: right;\">\n",
       "      <th></th>\n",
       "      <th>word</th>\n",
       "      <th>cnt_during</th>\n",
       "      <th>cnt_before</th>\n",
       "      <th>cnt_before_not</th>\n",
       "      <th>cnt_during_not</th>\n",
       "    </tr>\n",
       "  </thead>\n",
       "  <tbody>\n",
       "    <tr>\n",
       "      <th>581</th>\n",
       "      <td>covid</td>\n",
       "      <td>33.0</td>\n",
       "      <td>0.0</td>\n",
       "      <td>99989.0</td>\n",
       "      <td>107983.0</td>\n",
       "    </tr>\n",
       "  </tbody>\n",
       "</table>\n",
       "</div>"
      ],
      "text/plain": [
       "      word  cnt_during  cnt_before  cnt_before_not  cnt_during_not\n",
       "581  covid        33.0         0.0         99989.0        107983.0"
      ]
     },
     "execution_count": 20,
     "metadata": {},
     "output_type": "execute_result"
    }
   ],
   "source": [
    "wordtable[wordtable.word==\"covid\"]"
   ]
  },
  {
   "cell_type": "code",
   "execution_count": 21,
   "metadata": {
    "executionInfo": {
     "elapsed": 2,
     "status": "ok",
     "timestamp": 1657891623314,
     "user": {
      "displayName": "Yelena Mejova",
      "userId": "11766611928577248962"
     },
     "user_tz": -120
    },
    "id": "V-psEhCS62DT"
   },
   "outputs": [],
   "source": [
    "# Compute the odds ratio\n",
    "wordtable[\"oddsratio\"] = ((wordtable['cnt_during']+1) * wordtable['cnt_before_not']) / ((wordtable['cnt_before']+1) * wordtable['cnt_during_not'])\n",
    "wordtable[\"logoddsratio\"] = wordtable[\"oddsratio\"].apply(lambda x: math.log(x))"
   ]
  },
  {
   "cell_type": "code",
   "execution_count": 22,
   "metadata": {
    "colab": {
     "base_uri": "https://localhost:8080/",
     "height": 677
    },
    "executionInfo": {
     "elapsed": 2,
     "status": "ok",
     "timestamp": 1657891623314,
     "user": {
      "displayName": "Yelena Mejova",
      "userId": "11766611928577248962"
     },
     "user_tz": -120
    },
    "id": "NB96oWe87EJX",
    "outputId": "c5ac675a-fdd4-4737-a629-a4a3ca70b2be"
   },
   "outputs": [
    {
     "data": {
      "text/html": [
       "<div>\n",
       "<style scoped>\n",
       "    .dataframe tbody tr th:only-of-type {\n",
       "        vertical-align: middle;\n",
       "    }\n",
       "\n",
       "    .dataframe tbody tr th {\n",
       "        vertical-align: top;\n",
       "    }\n",
       "\n",
       "    .dataframe thead th {\n",
       "        text-align: right;\n",
       "    }\n",
       "</style>\n",
       "<table border=\"1\" class=\"dataframe\">\n",
       "  <thead>\n",
       "    <tr style=\"text-align: right;\">\n",
       "      <th></th>\n",
       "      <th>word</th>\n",
       "      <th>cnt_during</th>\n",
       "      <th>cnt_before</th>\n",
       "      <th>cnt_before_not</th>\n",
       "      <th>cnt_during_not</th>\n",
       "      <th>oddsratio</th>\n",
       "      <th>logoddsratio</th>\n",
       "    </tr>\n",
       "  </thead>\n",
       "  <tbody>\n",
       "    <tr>\n",
       "      <th>222</th>\n",
       "      <td>hiya</td>\n",
       "      <td>89.0</td>\n",
       "      <td>0.0</td>\n",
       "      <td>99989.0</td>\n",
       "      <td>107927.0</td>\n",
       "      <td>83.380526</td>\n",
       "      <td>4.423415</td>\n",
       "    </tr>\n",
       "    <tr>\n",
       "      <th>224</th>\n",
       "      <td>cards</td>\n",
       "      <td>89.0</td>\n",
       "      <td>0.0</td>\n",
       "      <td>99989.0</td>\n",
       "      <td>107927.0</td>\n",
       "      <td>83.380526</td>\n",
       "      <td>4.423415</td>\n",
       "    </tr>\n",
       "    <tr>\n",
       "      <th>246</th>\n",
       "      <td>quarantine</td>\n",
       "      <td>81.0</td>\n",
       "      <td>0.0</td>\n",
       "      <td>99989.0</td>\n",
       "      <td>107935.0</td>\n",
       "      <td>75.963293</td>\n",
       "      <td>4.330250</td>\n",
       "    </tr>\n",
       "    <tr>\n",
       "      <th>581</th>\n",
       "      <td>covid</td>\n",
       "      <td>33.0</td>\n",
       "      <td>0.0</td>\n",
       "      <td>99989.0</td>\n",
       "      <td>107983.0</td>\n",
       "      <td>31.482974</td>\n",
       "      <td>3.449447</td>\n",
       "    </tr>\n",
       "    <tr>\n",
       "      <th>670</th>\n",
       "      <td>lockdown</td>\n",
       "      <td>27.0</td>\n",
       "      <td>0.0</td>\n",
       "      <td>99989.0</td>\n",
       "      <td>107989.0</td>\n",
       "      <td>25.925715</td>\n",
       "      <td>3.255235</td>\n",
       "    </tr>\n",
       "    <tr>\n",
       "      <th>827</th>\n",
       "      <td>madisonbeerlisteningparty</td>\n",
       "      <td>22.0</td>\n",
       "      <td>0.0</td>\n",
       "      <td>99989.0</td>\n",
       "      <td>107994.0</td>\n",
       "      <td>21.295137</td>\n",
       "      <td>3.058479</td>\n",
       "    </tr>\n",
       "    <tr>\n",
       "      <th>223</th>\n",
       "      <td>football</td>\n",
       "      <td>89.0</td>\n",
       "      <td>3.0</td>\n",
       "      <td>99986.0</td>\n",
       "      <td>107927.0</td>\n",
       "      <td>20.844506</td>\n",
       "      <td>3.037090</td>\n",
       "    </tr>\n",
       "    <tr>\n",
       "      <th>937</th>\n",
       "      <td>ramadan</td>\n",
       "      <td>19.0</td>\n",
       "      <td>0.0</td>\n",
       "      <td>99989.0</td>\n",
       "      <td>107997.0</td>\n",
       "      <td>18.516996</td>\n",
       "      <td>2.918689</td>\n",
       "    </tr>\n",
       "    <tr>\n",
       "      <th>1020</th>\n",
       "      <td>scares</td>\n",
       "      <td>17.0</td>\n",
       "      <td>0.0</td>\n",
       "      <td>99989.0</td>\n",
       "      <td>107999.0</td>\n",
       "      <td>16.664988</td>\n",
       "      <td>2.813310</td>\n",
       "    </tr>\n",
       "    <tr>\n",
       "      <th>985</th>\n",
       "      <td>pandemic</td>\n",
       "      <td>17.0</td>\n",
       "      <td>0.0</td>\n",
       "      <td>99989.0</td>\n",
       "      <td>107999.0</td>\n",
       "      <td>16.664988</td>\n",
       "      <td>2.813310</td>\n",
       "    </tr>\n",
       "    <tr>\n",
       "      <th>85</th>\n",
       "      <td>wondering</td>\n",
       "      <td>186.0</td>\n",
       "      <td>11.0</td>\n",
       "      <td>99978.0</td>\n",
       "      <td>107830.0</td>\n",
       "      <td>14.448581</td>\n",
       "      <td>2.670596</td>\n",
       "    </tr>\n",
       "    <tr>\n",
       "      <th>1358</th>\n",
       "      <td>mentalhealthawarenessweek</td>\n",
       "      <td>12.0</td>\n",
       "      <td>0.0</td>\n",
       "      <td>99989.0</td>\n",
       "      <td>108004.0</td>\n",
       "      <td>12.035267</td>\n",
       "      <td>2.487841</td>\n",
       "    </tr>\n",
       "    <tr>\n",
       "      <th>202</th>\n",
       "      <td>sign</td>\n",
       "      <td>95.0</td>\n",
       "      <td>7.0</td>\n",
       "      <td>99982.0</td>\n",
       "      <td>107921.0</td>\n",
       "      <td>11.117243</td>\n",
       "      <td>2.408497</td>\n",
       "    </tr>\n",
       "    <tr>\n",
       "      <th>1438</th>\n",
       "      <td>confidences</td>\n",
       "      <td>11.0</td>\n",
       "      <td>0.0</td>\n",
       "      <td>99989.0</td>\n",
       "      <td>108005.0</td>\n",
       "      <td>11.109375</td>\n",
       "      <td>2.407789</td>\n",
       "    </tr>\n",
       "    <tr>\n",
       "      <th>1646</th>\n",
       "      <td>sunday</td>\n",
       "      <td>9.0</td>\n",
       "      <td>0.0</td>\n",
       "      <td>99989.0</td>\n",
       "      <td>108007.0</td>\n",
       "      <td>9.257641</td>\n",
       "      <td>2.225449</td>\n",
       "    </tr>\n",
       "    <tr>\n",
       "      <th>1718</th>\n",
       "      <td>acne</td>\n",
       "      <td>8.0</td>\n",
       "      <td>0.0</td>\n",
       "      <td>99989.0</td>\n",
       "      <td>108008.0</td>\n",
       "      <td>8.331799</td>\n",
       "      <td>2.120079</td>\n",
       "    </tr>\n",
       "    <tr>\n",
       "      <th>1938</th>\n",
       "      <td>strangehoney</td>\n",
       "      <td>7.0</td>\n",
       "      <td>0.0</td>\n",
       "      <td>99989.0</td>\n",
       "      <td>108009.0</td>\n",
       "      <td>7.405975</td>\n",
       "      <td>2.002287</td>\n",
       "    </tr>\n",
       "    <tr>\n",
       "      <th>1919</th>\n",
       "      <td>zoom</td>\n",
       "      <td>7.0</td>\n",
       "      <td>0.0</td>\n",
       "      <td>99989.0</td>\n",
       "      <td>108009.0</td>\n",
       "      <td>7.405975</td>\n",
       "      <td>2.002287</td>\n",
       "    </tr>\n",
       "    <tr>\n",
       "      <th>1922</th>\n",
       "      <td>easter</td>\n",
       "      <td>7.0</td>\n",
       "      <td>0.0</td>\n",
       "      <td>99989.0</td>\n",
       "      <td>108009.0</td>\n",
       "      <td>7.405975</td>\n",
       "      <td>2.002287</td>\n",
       "    </tr>\n",
       "    <tr>\n",
       "      <th>1950</th>\n",
       "      <td>director</td>\n",
       "      <td>7.0</td>\n",
       "      <td>0.0</td>\n",
       "      <td>99989.0</td>\n",
       "      <td>108009.0</td>\n",
       "      <td>7.405975</td>\n",
       "      <td>2.002287</td>\n",
       "    </tr>\n",
       "  </tbody>\n",
       "</table>\n",
       "</div>"
      ],
      "text/plain": [
       "                           word  cnt_during  cnt_before  cnt_before_not  \\\n",
       "222                        hiya        89.0         0.0         99989.0   \n",
       "224                       cards        89.0         0.0         99989.0   \n",
       "246                  quarantine        81.0         0.0         99989.0   \n",
       "581                       covid        33.0         0.0         99989.0   \n",
       "670                    lockdown        27.0         0.0         99989.0   \n",
       "827   madisonbeerlisteningparty        22.0         0.0         99989.0   \n",
       "223                    football        89.0         3.0         99986.0   \n",
       "937                     ramadan        19.0         0.0         99989.0   \n",
       "1020                     scares        17.0         0.0         99989.0   \n",
       "985                    pandemic        17.0         0.0         99989.0   \n",
       "85                    wondering       186.0        11.0         99978.0   \n",
       "1358  mentalhealthawarenessweek        12.0         0.0         99989.0   \n",
       "202                        sign        95.0         7.0         99982.0   \n",
       "1438                confidences        11.0         0.0         99989.0   \n",
       "1646                     sunday         9.0         0.0         99989.0   \n",
       "1718                       acne         8.0         0.0         99989.0   \n",
       "1938               strangehoney         7.0         0.0         99989.0   \n",
       "1919                       zoom         7.0         0.0         99989.0   \n",
       "1922                     easter         7.0         0.0         99989.0   \n",
       "1950                   director         7.0         0.0         99989.0   \n",
       "\n",
       "      cnt_during_not  oddsratio  logoddsratio  \n",
       "222         107927.0  83.380526      4.423415  \n",
       "224         107927.0  83.380526      4.423415  \n",
       "246         107935.0  75.963293      4.330250  \n",
       "581         107983.0  31.482974      3.449447  \n",
       "670         107989.0  25.925715      3.255235  \n",
       "827         107994.0  21.295137      3.058479  \n",
       "223         107927.0  20.844506      3.037090  \n",
       "937         107997.0  18.516996      2.918689  \n",
       "1020        107999.0  16.664988      2.813310  \n",
       "985         107999.0  16.664988      2.813310  \n",
       "85          107830.0  14.448581      2.670596  \n",
       "1358        108004.0  12.035267      2.487841  \n",
       "202         107921.0  11.117243      2.408497  \n",
       "1438        108005.0  11.109375      2.407789  \n",
       "1646        108007.0   9.257641      2.225449  \n",
       "1718        108008.0   8.331799      2.120079  \n",
       "1938        108009.0   7.405975      2.002287  \n",
       "1919        108009.0   7.405975      2.002287  \n",
       "1922        108009.0   7.405975      2.002287  \n",
       "1950        108009.0   7.405975      2.002287  "
      ]
     },
     "execution_count": 22,
     "metadata": {},
     "output_type": "execute_result"
    }
   ],
   "source": [
    "# Sort the words by odds ratio\n",
    "wordtable = wordtable.sort_values(by = \"oddsratio\", ascending=False)\n",
    "wordtable.head(20)"
   ]
  },
  {
   "cell_type": "code",
   "execution_count": 23,
   "metadata": {
    "colab": {
     "base_uri": "https://localhost:8080/"
    },
    "executionInfo": {
     "elapsed": 4,
     "status": "ok",
     "timestamp": 1657891623634,
     "user": {
      "displayName": "Yelena Mejova",
      "userId": "11766611928577248962"
     },
     "user_tz": -120
    },
    "id": "xCU0W-pF7EHS",
    "outputId": "38e3d2df-dda2-4bf4-9b89-b316499baf98"
   },
   "outputs": [
    {
     "data": {
      "text/plain": [
       "4101                                                                                                                                                                                         tw//ed  years of anorexia and i’m only pretty during quarantine when i’ve gained too many pounds to count. sexy.\n",
       "1939                                                                                                                                                           get me OUT OF QUARANTINE block me from certain communities and tags i can't take it djjcchxxh h i keep looking at proana tags i'm gonna go mad\n",
       "1                                                                                                                                                                                                        does anyone wanna be in a quarantine proana gc? Like/rt to join!   #thinspo #proana #skinny #meanspo\n",
       "7472                                                                                                                                                                                                                     TW ED// - - - - - - - - - - the way quarantine is triggering my anorexia is not okay\n",
       "6043                              Hi to my like three followers but my new low was having to delete Instagram and tik tok from my phone because those apps romanticize anorexia imo (it’s already hard enough recovering during quarantine when you aren’t seeing your loved ones). I’m a sad melon honestly.\n",
       "6201                                                                                                      I don’t rlly like opening up but this quarantine for me has been shit, I’ve relapsed and have anorexia Again. I’m struggling so hard rn and just want y’all to know if u ever need to talk I’m here\n",
       "3880                                                        Tw: Anorexia.  Before this quarantine I was starting to find more “safe foods” (since I’ve recently had an influx in severe food allergies) and recognising the signs of when I needed to actually eat something more than a handful of crackers.\n",
       "5412                          This is the first time I’ve been to Starbucks since March...11th? Ish? You couldn’t have known that. Or that my therapist &amp; I talked this morning about how badly I wanted a caramel macchiato but quarantine has given my anorexia excellent justification to deny myself.\n",
       "12463                                                                                                                                                                                                   anorexia recovery is jus drowning in cum, nd having it double my body weight, once quarantine is over\n",
       "1776     @lovelltrin tw// ed  hi trini, first ily, second , fuck that person. okay so. i have anorexia, and since this quarantine started i was feeling really anxious and guilty bc of eating more and not working on losing weight like “i should”. your tweet helped a lot , thank u for that and i love u\n",
       "Name: text, dtype: object"
      ]
     },
     "execution_count": 23,
     "metadata": {},
     "output_type": "execute_result"
    }
   ],
   "source": [
    "# Look at examples of word use\n",
    "tweets_duringCOVID.loc[tweets_duringCOVID.text_clean.str.contains(\"quarantine\"), \"text\"].sample(10)"
   ]
  },
  {
   "cell_type": "code",
   "execution_count": 24,
   "metadata": {
    "colab": {
     "base_uri": "https://localhost:8080/"
    },
    "executionInfo": {
     "elapsed": 4,
     "status": "ok",
     "timestamp": 1657891623635,
     "user": {
      "displayName": "Yelena Mejova",
      "userId": "11766611928577248962"
     },
     "user_tz": -120
    },
    "id": "y5Mrk43X7EEj",
    "outputId": "c8a6dff4-a856-4b0f-ae14-99ebb4158b12"
   },
   "outputs": [
    {
     "data": {
      "text/plain": [
       "11735                                                                                                                                                                                                                               \"\"\"\"\"\"\"OH MY GODDDDD DO U KNOW I DID RAMADAN THIS YEAR?W&gt;@!!?\"\"\"\"   No becky its anorexia\"\"\"\n",
       "2529                                                 Tw:// eating disorder  I love how my parents have to check that I’m having a proper suhoor when I’m fasting because I have a tendency to just not and my anorexia literally started during Ramadan like on top of not eating during the day I ate barely anything after sunset\n",
       "5677                                                                                                                                                                                                                                               Every Ramadan my white cousin makes the same anorexia joke in our fam group chat\n",
       "3890                                                                                                                                                                                                              i think i have a huge resentment towards ramadan because its one of the biggest things that triggered my anorexia\n",
       "5676                                                                                                                                                                                                                                               Every Ramadan my white cousin makes the same anorexia joke in our fam group text\n",
       "9922                                                                                                                                                                                                                       I decided to stick to my training plan during Ramadan and now I’m dangerously close to athletic anorexia\n",
       "4603     \"\"\"\"\"\"\"I was fasting simply because I really wanted to lose weight. I wanted to feed into my eating disorder. And I wasn't fasting for God.\"\"\"\"  Maha has been living with anorexia nervosa since she was 15. For her, one of the hardest parts of having an eating disorder is during Ramadan. https://t.co/E6Noe8nRPt\"\"\"\n",
       "10034                                                                                                                                                                                                                                                            Before Ramadan my weight was 63 kg now it’s 56 kg. Anorexia otw ✌️\n",
       "5763                                                                                                                                                                                                                                                                                Ramadan is so triggering when you have anorexia\n",
       "4880                                                                                                                        i just want to break my fasts with a salad but my mom keeps yelling at me to eat which is funny bc any other time besides ramadan she very proana and constantly suffocates me by telling me not to eat\n",
       "Name: text, dtype: object"
      ]
     },
     "execution_count": 24,
     "metadata": {},
     "output_type": "execute_result"
    }
   ],
   "source": [
    "# Look at examples of word use\n",
    "tweets_duringCOVID.loc[tweets_duringCOVID.text_clean.str.contains(\"ramadan\"), \"text\"].sample(10)"
   ]
  },
  {
   "cell_type": "code",
   "execution_count": 25,
   "metadata": {
    "colab": {
     "base_uri": "https://localhost:8080/"
    },
    "executionInfo": {
     "elapsed": 2,
     "status": "ok",
     "timestamp": 1657891623964,
     "user": {
      "displayName": "Yelena Mejova",
      "userId": "11766611928577248962"
     },
     "user_tz": -120
    },
    "id": "cQHWoUaLkRSe",
    "outputId": "9003c01a-8653-4cf4-f6e8-e18449f7c5d1"
   },
   "outputs": [
    {
     "data": {
      "text/plain": [
       "4176               @ClinganS Hiya Sammy just wondering if you could sign a couple of football cards for me as i have been trying for 7 years it’s ok if not I suffer with anorexia nervosa and was wondering if you could help me in this dark time stay safe thank you https://t.co/TaQZCVI5A3\n",
       "4716              @KJMonkou Hiya Kenny just wondering if you could sign a couple of football cards for me as i have been trying for 13 years it’s ok if not I suffer with anorexia nervosa and was wondering if you could help me in this dark time stay safe thank you https://t.co/tLg8SrSQqb\n",
       "4180           @KGDikgacoi Hiya Kagisho just wondering if you could sign a couple of football cards for me as i have been trying for 7 years it’s ok if not I suffer with anorexia nervosa and was wondering if you could help me in this dark time stay safe thank you https://t.co/Na2DW9DeTt\n",
       "4700           @NigelWinty3 Hiya Nigel just wondering if you could sign a couple of football cards for me as i have been trying for 13 years it’s ok if not I suffer with anorexia nervosa and was wondering if you could help me in this dark time stay safe thank you https://t.co/2mHR0kmG7r\n",
       "4397             @alexrae1969 Hiya Alex just wondering if you could sign a couple of football cards for me as i have been trying for 7 years it’s ok if not I suffer with anorexia nervosa and was wondering if you could help me in this dark time stay safe thank you https://t.co/OO28b3mdul\n",
       "4733           @Mark__Bright Hiya Mark just wondering if you could sign a couple of football cards for me as i have been trying for 13 years it’s ok if not I suffer with anorexia nervosa and was wondering if you could help me in this dark time stay safe thank you https://t.co/EXZhzXN4j8\n",
       "12542                                    @gudnibergs Hiya gudni just wondering if you could sign a couple of football cards for me as i have been trying for 7 years it’s ok if not I suffer with anorexia nervosa and was wondering if you could help me in this dark time stay safe thank you\n",
       "4735        @ProSoccerSessio Hiya Neil just wondering if you could sign a couple of football cards for me as i have been trying for 13 years it’s ok if not I suffer with anorexia nervosa and was wondering if you could help me in this dark time stay safe thank you https://t.co/huuAnXy9Xu\n",
       "4734     @NevilleSouthall Hiya Neville just wondering if you could sign a couple of football cards for me as i have been trying for 13 years it’s ok if not I suffer with anorexia nervosa and was wondering if you could help me in this dark time stay safe thank you https://t.co/6n1KfDlFWw\n",
       "4699               @LeeDixon2 Hiya Lee just wondering if you could sign a couple of football cards for me as i have been trying for 13 years it’s ok if not I suffer with anorexia nervosa and was wondering if you could help me in this dark time stay safe thank you https://t.co/WemLYzp1xA\n",
       "Name: text, dtype: object"
      ]
     },
     "execution_count": 25,
     "metadata": {},
     "output_type": "execute_result"
    }
   ],
   "source": [
    "# Look at examples of word use\n",
    "tweets_duringCOVID.loc[tweets_duringCOVID.text_clean.str.contains(\"cards\"), \"text\"].sample(10)"
   ]
  },
  {
   "cell_type": "code",
   "execution_count": 26,
   "metadata": {
    "colab": {
     "base_uri": "https://localhost:8080/"
    },
    "executionInfo": {
     "elapsed": 3,
     "status": "ok",
     "timestamp": 1657891624681,
     "user": {
      "displayName": "Yelena Mejova",
      "userId": "11766611928577248962"
     },
     "user_tz": -120
    },
    "id": "UnVsxRzQBhzU",
    "outputId": "31dfa01f-8e4d-4a57-f640-a0d105fff752"
   },
   "outputs": [
    {
     "data": {
      "text/plain": [
       "12383                                  @vince_bartram Hiya Vince just wondering if you could sign a couple of football cards for me as i have been trying for 7 years it’s ok if not I suffer with anorexia nervosa and was wondering if you could help me in this dark time stay safe thank you\n",
       "4394                 @SNewts7 Hiya Shaun just wondering if you could sign a couple of football cards for me as i have been trying for 7 years it’s ok if not I suffer with anorexia nervosa and was wondering if you could help me in this dark time stay safe thank you https://t.co/oYyQ0UCdw0\n",
       "12407    @SueJones19 Hiya Sue just wondering if you could pass a message on to rob for me to sign a couple of football cards for me as i have been trying for 7 years it’s ok if not I suffer with anorexia nervosa and was wondering if you could help me in this dark time stay safe thank you\n",
       "4167             @Keith_Fahey Hiya Keith just wondering if you could sign a couple of football cards for me as i have been trying for 7 years it’s ok if not I suffer with anorexia nervosa and was wondering if you could help me in this dark time stay safe thank you https://t.co/PLDH9dUJB6\n",
       "4220                 @LDX2012 Hiya Lloyd just wondering if you could sign a couple of football cards for me as i have been trying for 7 years it’s ok if not I suffer with anorexia nervosa and was wondering if you could help me in this dark time stay safe thank you https://t.co/JymIRO9K71\n",
       "4398                 @PaulInce Hiya Paul just wondering if you could sign a couple of football cards for me as i have been trying for 7 years it’s ok if not I suffer with anorexia nervosa and was wondering if you could help me in this dark time stay safe thank you https://t.co/huIxPJE1cR\n",
       "4382     @Christian_Ziege Hiya Christine just wondering if you could sign a couple of football cards for me as i have been trying for 7 years it’s ok if not I suffer with anorexia nervosa and was wondering if you could help me in this dark time stay safe thank you https://t.co/5PDdAmysSM\n",
       "12387                               @RobbieDennison4 Hiya Robert just wondering if you could sign a couple of football cards for me as i have been trying for 7 years it’s ok if not I suffer with anorexia nervosa and was wondering if you could help me in this dark time stay safe thank you\n",
       "4730         @GeoffThomasGTF Hiya Geoff just wondering if you could sign a couple of football cards for me as i have been trying for 13 years it’s ok if not I suffer with anorexia nervosa and was wondering if you could help me in this dark time stay safe thank you https://t.co/DFJ1Ke0X5E\n",
       "12555                                     @jonsarno Hiya Michael just wondering if you could sign a couple of football cards for me as i have been trying for 7 years it’s ok if not I suffer with anorexia nervosa and was wondering if you could help me in this dark time stay safe thank you\n",
       "Name: text, dtype: object"
      ]
     },
     "execution_count": 26,
     "metadata": {},
     "output_type": "execute_result"
    }
   ],
   "source": [
    "# Look at examples of word use\n",
    "tweets_duringCOVID.loc[tweets_duringCOVID.text_clean.str.contains(\"hiya\"), \"text\"].sample(10)"
   ]
  },
  {
   "cell_type": "code",
   "execution_count": 27,
   "metadata": {
    "colab": {
     "base_uri": "https://localhost:8080/"
    },
    "executionInfo": {
     "elapsed": 2,
     "status": "ok",
     "timestamp": 1657891624999,
     "user": {
      "displayName": "Yelena Mejova",
      "userId": "11766611928577248962"
     },
     "user_tz": -120
    },
    "id": "ZisqXb5-7EBj",
    "outputId": "37bd18d5-339b-4534-e8cf-695a00c8744a"
   },
   "outputs": [
    {
     "data": {
      "text/plain": [
       "5821                                                                                                                                                                                                                   @Gothmilkymommy almond cake triggers my anorexia but if we can do almond chocolate halo top i’m in\n",
       "3689                                   tw !! ed  why is there so much anorexia bs on my tl?? it’s not that fucking hard to at least put trigger warnings when talking about ed related shit. some people are already really fucking struggling and trying not to relapse during quarantine so please don’t make it harder\n",
       "126                                          tw / eating disorders, body image  someone i was following (who i quickly unf) retweeted from an ed account and i ended up looking at a tag filled with proana posts from people who are a part of ‘ed twt’ and it was the single most triggering thing i’ve seen in months.\n",
       "10592                                                                 @StruggleBusEq I doubt anyone even remotely thinks you look heavy on her because you are quite petite (skinny). I’ve have Anorexia as well and it makes me kinda triggered seeing this. Yet tbh it’s my biggest fear to look big on my horse to :,(\n",
       "5194                                                                                                                                                                                                                          literally got the most triggering mf tik tok ever during my anorexia relapse brooo not cool\n",
       "3832                                                                                                                                                                                                                                 that nakedreams_ account used to retweet bonespo and rlly triggering pics onto my tl\n",
       "3724                                                                                                                                                                     I’m seeing a lot of girls post “I want to gain weight for much thicker thighs” and It’s really triggering my anorexia psychosis... what a world.\n",
       "11024                                                                                                                                                                                                                               My past self really got triggered by that scene coz I experienced anorexia back then.\n",
       "1134     been the worst day of my life in a longtime with my anorexia didnt realise how one of my triggers anorexia causes could distress me as much as it has2night @beatED @BeatEDSupport @CPriceBeatED @lizziespeller19 @jessthegriff @AdrienneRennie @RebelBarefoot thanku 4being here 2night https://t.co/ZSUHqTSJB5\n",
       "1188                                                                                                                                                                                          @cuteskinnyhoe im not proana and ill never be but ty for posting these bc i need to get triggered to get 👏 back 👏 at 👏 it 👏\n",
       "Name: text, dtype: object"
      ]
     },
     "execution_count": 27,
     "metadata": {},
     "output_type": "execute_result"
    }
   ],
   "source": [
    "# Look at examples of word use\n",
    "tweets_duringCOVID.loc[tweets_duringCOVID.text_clean.str.contains(\"trigger\"), \"text\"].sample(10)"
   ]
  },
  {
   "cell_type": "markdown",
   "metadata": {
    "id": "3G4Drj_gD9pC"
   },
   "source": [
    "### Visualize the words"
   ]
  },
  {
   "cell_type": "code",
   "execution_count": 28,
   "metadata": {
    "executionInfo": {
     "elapsed": 1,
     "status": "ok",
     "timestamp": 1657891625322,
     "user": {
      "displayName": "Yelena Mejova",
      "userId": "11766611928577248962"
     },
     "user_tz": -120
    },
    "id": "HQe7sywz-rzZ"
   },
   "outputs": [],
   "source": [
    "# Import libraries for wordcloud visualization\n",
    "from wordcloud import WordCloud\n",
    "#from matplotlib import cm\n",
    "#from matplotlib.colors import ListedColormap, LinearSegmentedColormap\n",
    "import random\n",
    "def grey_color_func(word, font_size, position, orientation, random_state=None, **kwargs): return \"hsl(0, 0%%, %d%%)\" % random.randint(0, 5)"
   ]
  },
  {
   "cell_type": "code",
   "execution_count": 29,
   "metadata": {
    "executionInfo": {
     "elapsed": 2,
     "status": "ok",
     "timestamp": 1657891625656,
     "user": {
      "displayName": "Yelena Mejova",
      "userId": "11766611928577248962"
     },
     "user_tz": -120
    },
    "id": "HV6-wUsqoI3R"
   },
   "outputs": [],
   "source": [
    "# Prepare data\n",
    "d = {}\n",
    "s = wordtable.head(30)\n",
    "s = s[s.word!=\"hiya\"]\n",
    "s = s[s.word!=\"cards\"]\n",
    "for i, x in s.iterrows():\n",
    "    d[x[\"word\"]] = x[\"oddsratio\"] "
   ]
  },
  {
   "cell_type": "code",
   "execution_count": 30,
   "metadata": {
    "colab": {
     "base_uri": "https://localhost:8080/",
     "height": 194
    },
    "executionInfo": {
     "elapsed": 875,
     "status": "ok",
     "timestamp": 1657891627196,
     "user": {
      "displayName": "Yelena Mejova",
      "userId": "11766611928577248962"
     },
     "user_tz": -120
    },
    "id": "8U_zI2-3n722",
    "outputId": "803656f7-849b-4405-a68e-fbdbcce5b573"
   },
   "outputs": [
    {
     "data": {
      "image/png": "[encoded data removed]",
      "text/plain": [
       "<Figure size 432x288 with 1 Axes>"
      ]
     },
     "metadata": {
      "needs_background": "light"
     },
     "output_type": "display_data"
    }
   ],
   "source": [
    "wordcloud = WordCloud(background_color = \"white\", color_func=grey_color_func, max_font_size = 60, prefer_horizontal = 1.0, width=600, height=300)\n",
    "wordcloud.generate_from_frequencies(frequencies=d)\n",
    "plt.figure()\n",
    "plt.imshow(wordcloud, interpolation=\"bilinear\")\n",
    "plt.axis(\"off\")\n",
    "plt.show()"
   ]
  },
  {
   "cell_type": "markdown",
   "metadata": {
    "id": "LvB411iKkAkl"
   },
   "source": [
    "## 2.2 Text summarization/exploration with word co-ccurence networks\n",
    "\n",
    "Say, we want to understand better what words are associated with triggers. We can find the words most associated with triggers.\n",
    "\n"
   ]
  },
  {
   "cell_type": "markdown",
   "metadata": {
    "id": "T6OBXlEMEWBs"
   },
   "source": [
    "### Compare words in trigger to non-trigger tweets"
   ]
  },
  {
   "cell_type": "code",
   "execution_count": 31,
   "metadata": {
    "colab": {
     "base_uri": "https://localhost:8080/"
    },
    "executionInfo": {
     "elapsed": 361,
     "status": "ok",
     "timestamp": 1657891649560,
     "user": {
      "displayName": "Yelena Mejova",
      "userId": "11766611928577248962"
     },
     "user_tz": -120
    },
    "id": "hi-Ep9YRkvY0",
    "outputId": "009eeca3-3d47-4da5-9a1f-61baefbff6ae"
   },
   "outputs": [
    {
     "data": {
      "text/plain": [
       "(407, 4)"
      ]
     },
     "execution_count": 31,
     "metadata": {},
     "output_type": "execute_result"
    }
   ],
   "source": [
    "# Find tweets that mention a \"trigger\"\n",
    "tweets_trigger = pd.concat([tweets_beforeCOVID[tweets_beforeCOVID.text_clean.str.contains(\"trigger\")], \n",
    "                            tweets_duringCOVID[tweets_duringCOVID.text_clean.str.contains(\"trigger\")]])\n",
    "tweets_trigger.shape"
   ]
  },
  {
   "cell_type": "code",
   "execution_count": 32,
   "metadata": {
    "colab": {
     "base_uri": "https://localhost:8080/",
     "height": 363
    },
    "executionInfo": {
     "elapsed": 2,
     "status": "ok",
     "timestamp": 1657891649882,
     "user": {
      "displayName": "Yelena Mejova",
      "userId": "11766611928577248962"
     },
     "user_tz": -120
    },
    "id": "R7Eu_2opmag6",
    "outputId": "a01497de-051f-41c6-f940-276dd82bebdc"
   },
   "outputs": [
    {
     "data": {
      "text/html": [
       "<div>\n",
       "<style scoped>\n",
       "    .dataframe tbody tr th:only-of-type {\n",
       "        vertical-align: middle;\n",
       "    }\n",
       "\n",
       "    .dataframe tbody tr th {\n",
       "        vertical-align: top;\n",
       "    }\n",
       "\n",
       "    .dataframe thead th {\n",
       "        text-align: right;\n",
       "    }\n",
       "</style>\n",
       "<table border=\"1\" class=\"dataframe\">\n",
       "  <thead>\n",
       "    <tr style=\"text-align: right;\">\n",
       "      <th></th>\n",
       "      <th>word</th>\n",
       "      <th>cnt_trigger</th>\n",
       "    </tr>\n",
       "  </thead>\n",
       "  <tbody>\n",
       "    <tr>\n",
       "      <th>4</th>\n",
       "      <td>anorexia</td>\n",
       "      <td>364</td>\n",
       "    </tr>\n",
       "    <tr>\n",
       "      <th>15</th>\n",
       "      <td>trigger</td>\n",
       "      <td>147</td>\n",
       "    </tr>\n",
       "    <tr>\n",
       "      <th>21</th>\n",
       "      <td>triggered</td>\n",
       "      <td>123</td>\n",
       "    </tr>\n",
       "    <tr>\n",
       "      <th>26</th>\n",
       "      <td>triggering</td>\n",
       "      <td>105</td>\n",
       "    </tr>\n",
       "    <tr>\n",
       "      <th>29</th>\n",
       "      <td>eating</td>\n",
       "      <td>88</td>\n",
       "    </tr>\n",
       "    <tr>\n",
       "      <th>32</th>\n",
       "      <td>like</td>\n",
       "      <td>83</td>\n",
       "    </tr>\n",
       "    <tr>\n",
       "      <th>35</th>\n",
       "      <td>ed</td>\n",
       "      <td>74</td>\n",
       "    </tr>\n",
       "    <tr>\n",
       "      <th>41</th>\n",
       "      <td>weight</td>\n",
       "      <td>57</td>\n",
       "    </tr>\n",
       "    <tr>\n",
       "      <th>43</th>\n",
       "      <td>get</td>\n",
       "      <td>54</td>\n",
       "    </tr>\n",
       "    <tr>\n",
       "      <th>46</th>\n",
       "      <td>proana</td>\n",
       "      <td>52</td>\n",
       "    </tr>\n",
       "  </tbody>\n",
       "</table>\n",
       "</div>"
      ],
      "text/plain": [
       "          word  cnt_trigger\n",
       "4     anorexia          364\n",
       "15     trigger          147\n",
       "21   triggered          123\n",
       "26  triggering          105\n",
       "29      eating           88\n",
       "32        like           83\n",
       "35          ed           74\n",
       "41      weight           57\n",
       "43         get           54\n",
       "46      proana           52"
      ]
     },
     "execution_count": 32,
     "metadata": {},
     "output_type": "execute_result"
    }
   ],
   "source": [
    "wordfreq_trigger = pd.DataFrame(list(dict(Counter(tokenizer.tokenize(tweets_trigger.text_clean.str.cat(sep=' '))).most_common()).items()), columns=[\"word\",\"cnt_trigger\"])\n",
    "wordfreq_trigger = wordfreq_trigger[~wordfreq_trigger.word.isin(stop)]\n",
    "wordfreq_trigger.head(10)"
   ]
  },
  {
   "cell_type": "code",
   "execution_count": 33,
   "metadata": {
    "colab": {
     "base_uri": "https://localhost:8080/"
    },
    "executionInfo": {
     "elapsed": 3,
     "status": "ok",
     "timestamp": 1657891650602,
     "user": {
      "displayName": "Yelena Mejova",
      "userId": "11766611928577248962"
     },
     "user_tz": -120
    },
    "id": "t8Ml2C6XmbRB",
    "outputId": "92d99971-ca7a-456d-d846-1e2f1096fde1"
   },
   "outputs": [
    {
     "data": {
      "text/plain": [
       "(11566, 4)"
      ]
     },
     "execution_count": 33,
     "metadata": {},
     "output_type": "execute_result"
    }
   ],
   "source": [
    "# Find tweets that DO NOT mention a \"trigger\"\n",
    "tweets_baseline = pd.concat([tweets_beforeCOVID[~tweets_beforeCOVID.text_clean.str.contains(\"trigger\")], \n",
    "                             tweets_duringCOVID[~tweets_duringCOVID.text_clean.str.contains(\"trigger\")]])\n",
    "tweets_baseline.shape"
   ]
  },
  {
   "cell_type": "code",
   "execution_count": 34,
   "metadata": {
    "colab": {
     "base_uri": "https://localhost:8080/",
     "height": 363
    },
    "executionInfo": {
     "elapsed": 2,
     "status": "ok",
     "timestamp": 1657891650602,
     "user": {
      "displayName": "Yelena Mejova",
      "userId": "11766611928577248962"
     },
     "user_tz": -120
    },
    "id": "hBhQHU5AtT_Q",
    "outputId": "32eb9589-226e-4e5d-b921-40667ad04cf8"
   },
   "outputs": [
    {
     "data": {
      "text/html": [
       "<div>\n",
       "<style scoped>\n",
       "    .dataframe tbody tr th:only-of-type {\n",
       "        vertical-align: middle;\n",
       "    }\n",
       "\n",
       "    .dataframe tbody tr th {\n",
       "        vertical-align: top;\n",
       "    }\n",
       "\n",
       "    .dataframe thead th {\n",
       "        text-align: right;\n",
       "    }\n",
       "</style>\n",
       "<table border=\"1\" class=\"dataframe\">\n",
       "  <thead>\n",
       "    <tr style=\"text-align: right;\">\n",
       "      <th></th>\n",
       "      <th>word</th>\n",
       "      <th>cnt_baseline</th>\n",
       "    </tr>\n",
       "  </thead>\n",
       "  <tbody>\n",
       "    <tr>\n",
       "      <th>4</th>\n",
       "      <td>anorexia</td>\n",
       "      <td>10939</td>\n",
       "    </tr>\n",
       "    <tr>\n",
       "      <th>24</th>\n",
       "      <td>like</td>\n",
       "      <td>2563</td>\n",
       "    </tr>\n",
       "    <tr>\n",
       "      <th>32</th>\n",
       "      <td>eating</td>\n",
       "      <td>1844</td>\n",
       "    </tr>\n",
       "    <tr>\n",
       "      <th>33</th>\n",
       "      <td>weight</td>\n",
       "      <td>1776</td>\n",
       "    </tr>\n",
       "    <tr>\n",
       "      <th>42</th>\n",
       "      <td>years</td>\n",
       "      <td>1506</td>\n",
       "    </tr>\n",
       "    <tr>\n",
       "      <th>47</th>\n",
       "      <td>ed</td>\n",
       "      <td>1196</td>\n",
       "    </tr>\n",
       "    <tr>\n",
       "      <th>48</th>\n",
       "      <td>get</td>\n",
       "      <td>1194</td>\n",
       "    </tr>\n",
       "    <tr>\n",
       "      <th>53</th>\n",
       "      <td>proana</td>\n",
       "      <td>1114</td>\n",
       "    </tr>\n",
       "    <tr>\n",
       "      <th>55</th>\n",
       "      <td>eat</td>\n",
       "      <td>1066</td>\n",
       "    </tr>\n",
       "    <tr>\n",
       "      <th>58</th>\n",
       "      <td>time</td>\n",
       "      <td>1035</td>\n",
       "    </tr>\n",
       "  </tbody>\n",
       "</table>\n",
       "</div>"
      ],
      "text/plain": [
       "        word  cnt_baseline\n",
       "4   anorexia         10939\n",
       "24      like          2563\n",
       "32    eating          1844\n",
       "33    weight          1776\n",
       "42     years          1506\n",
       "47        ed          1196\n",
       "48       get          1194\n",
       "53    proana          1114\n",
       "55       eat          1066\n",
       "58      time          1035"
      ]
     },
     "execution_count": 34,
     "metadata": {},
     "output_type": "execute_result"
    }
   ],
   "source": [
    "wordfreq_baseline = pd.DataFrame(list(dict(Counter(tokenizer.tokenize(tweets_baseline.text_clean.str.cat(sep=' '))).most_common()).items()), columns=[\"word\",\"cnt_baseline\"])\n",
    "wordfreq_baseline = wordfreq_baseline[~wordfreq_baseline.word.isin(stop)]\n",
    "wordfreq_baseline.head(10)"
   ]
  },
  {
   "cell_type": "code",
   "execution_count": 35,
   "metadata": {
    "colab": {
     "base_uri": "https://localhost:8080/",
     "height": 677
    },
    "executionInfo": {
     "elapsed": 5,
     "status": "ok",
     "timestamp": 1657891651085,
     "user": {
      "displayName": "Yelena Mejova",
      "userId": "11766611928577248962"
     },
     "user_tz": -120
    },
    "id": "oc77Ew54te5C",
    "outputId": "b83b88d3-8dc0-4c0c-f1f1-b4bf20a6f9e3"
   },
   "outputs": [
    {
     "data": {
      "text/html": [
       "<div>\n",
       "<style scoped>\n",
       "    .dataframe tbody tr th:only-of-type {\n",
       "        vertical-align: middle;\n",
       "    }\n",
       "\n",
       "    .dataframe tbody tr th {\n",
       "        vertical-align: top;\n",
       "    }\n",
       "\n",
       "    .dataframe thead th {\n",
       "        text-align: right;\n",
       "    }\n",
       "</style>\n",
       "<table border=\"1\" class=\"dataframe\">\n",
       "  <thead>\n",
       "    <tr style=\"text-align: right;\">\n",
       "      <th></th>\n",
       "      <th>word</th>\n",
       "      <th>cnt_trigger</th>\n",
       "      <th>cnt_baseline</th>\n",
       "      <th>cnt_trigger_not</th>\n",
       "      <th>cnt_baseline_not</th>\n",
       "      <th>oddsratio</th>\n",
       "      <th>logoddsratio</th>\n",
       "    </tr>\n",
       "  </thead>\n",
       "  <tbody>\n",
       "    <tr>\n",
       "      <th>1</th>\n",
       "      <td>trigger</td>\n",
       "      <td>147.0</td>\n",
       "      <td>0.0</td>\n",
       "      <td>7297.0</td>\n",
       "      <td>200561.0</td>\n",
       "      <td>4067.839934</td>\n",
       "      <td>8.310867</td>\n",
       "    </tr>\n",
       "    <tr>\n",
       "      <th>2</th>\n",
       "      <td>triggered</td>\n",
       "      <td>123.0</td>\n",
       "      <td>0.0</td>\n",
       "      <td>7321.0</td>\n",
       "      <td>200561.0</td>\n",
       "      <td>3397.017347</td>\n",
       "      <td>8.130653</td>\n",
       "    </tr>\n",
       "    <tr>\n",
       "      <th>3</th>\n",
       "      <td>triggering</td>\n",
       "      <td>105.0</td>\n",
       "      <td>0.0</td>\n",
       "      <td>7339.0</td>\n",
       "      <td>200561.0</td>\n",
       "      <td>2896.779670</td>\n",
       "      <td>7.971355</td>\n",
       "    </tr>\n",
       "    <tr>\n",
       "      <th>10</th>\n",
       "      <td>triggers</td>\n",
       "      <td>50.0</td>\n",
       "      <td>0.0</td>\n",
       "      <td>7394.0</td>\n",
       "      <td>200561.0</td>\n",
       "      <td>1383.366378</td>\n",
       "      <td>7.232275</td>\n",
       "    </tr>\n",
       "    <tr>\n",
       "      <th>182</th>\n",
       "      <td>warnings</td>\n",
       "      <td>7.0</td>\n",
       "      <td>1.0</td>\n",
       "      <td>7437.0</td>\n",
       "      <td>200560.0</td>\n",
       "      <td>107.871454</td>\n",
       "      <td>4.680940</td>\n",
       "    </tr>\n",
       "    <tr>\n",
       "      <th>469</th>\n",
       "      <td>choc</td>\n",
       "      <td>3.0</td>\n",
       "      <td>0.0</td>\n",
       "      <td>7441.0</td>\n",
       "      <td>200561.0</td>\n",
       "      <td>107.814003</td>\n",
       "      <td>4.680408</td>\n",
       "    </tr>\n",
       "    <tr>\n",
       "      <th>887</th>\n",
       "      <td>witchcraft</td>\n",
       "      <td>2.0</td>\n",
       "      <td>0.0</td>\n",
       "      <td>7442.0</td>\n",
       "      <td>200561.0</td>\n",
       "      <td>80.849637</td>\n",
       "      <td>4.392591</td>\n",
       "    </tr>\n",
       "    <tr>\n",
       "      <th>612</th>\n",
       "      <td>confiding</td>\n",
       "      <td>2.0</td>\n",
       "      <td>0.0</td>\n",
       "      <td>7442.0</td>\n",
       "      <td>200561.0</td>\n",
       "      <td>80.849637</td>\n",
       "      <td>4.392591</td>\n",
       "    </tr>\n",
       "    <tr>\n",
       "      <th>691</th>\n",
       "      <td>aba</td>\n",
       "      <td>2.0</td>\n",
       "      <td>0.0</td>\n",
       "      <td>7442.0</td>\n",
       "      <td>200561.0</td>\n",
       "      <td>80.849637</td>\n",
       "      <td>4.392591</td>\n",
       "    </tr>\n",
       "    <tr>\n",
       "      <th>697</th>\n",
       "      <td>oomfs</td>\n",
       "      <td>2.0</td>\n",
       "      <td>0.0</td>\n",
       "      <td>7442.0</td>\n",
       "      <td>200561.0</td>\n",
       "      <td>80.849637</td>\n",
       "      <td>4.392591</td>\n",
       "    </tr>\n",
       "    <tr>\n",
       "      <th>745</th>\n",
       "      <td>format</td>\n",
       "      <td>2.0</td>\n",
       "      <td>0.0</td>\n",
       "      <td>7442.0</td>\n",
       "      <td>200561.0</td>\n",
       "      <td>80.849637</td>\n",
       "      <td>4.392591</td>\n",
       "    </tr>\n",
       "    <tr>\n",
       "      <th>841</th>\n",
       "      <td>greg</td>\n",
       "      <td>2.0</td>\n",
       "      <td>0.0</td>\n",
       "      <td>7442.0</td>\n",
       "      <td>200561.0</td>\n",
       "      <td>80.849637</td>\n",
       "      <td>4.392591</td>\n",
       "    </tr>\n",
       "    <tr>\n",
       "      <th>844</th>\n",
       "      <td>disposition</td>\n",
       "      <td>2.0</td>\n",
       "      <td>0.0</td>\n",
       "      <td>7442.0</td>\n",
       "      <td>200561.0</td>\n",
       "      <td>80.849637</td>\n",
       "      <td>4.392591</td>\n",
       "    </tr>\n",
       "    <tr>\n",
       "      <th>849</th>\n",
       "      <td>fvcking</td>\n",
       "      <td>2.0</td>\n",
       "      <td>0.0</td>\n",
       "      <td>7442.0</td>\n",
       "      <td>200561.0</td>\n",
       "      <td>80.849637</td>\n",
       "      <td>4.392591</td>\n",
       "    </tr>\n",
       "    <tr>\n",
       "      <th>707</th>\n",
       "      <td>𝙒𝘼𝙍𝙉𝙄𝙉𝙂</td>\n",
       "      <td>2.0</td>\n",
       "      <td>0.0</td>\n",
       "      <td>7442.0</td>\n",
       "      <td>200561.0</td>\n",
       "      <td>80.849637</td>\n",
       "      <td>4.392591</td>\n",
       "    </tr>\n",
       "    <tr>\n",
       "      <th>761</th>\n",
       "      <td>jogging</td>\n",
       "      <td>2.0</td>\n",
       "      <td>0.0</td>\n",
       "      <td>7442.0</td>\n",
       "      <td>200561.0</td>\n",
       "      <td>80.849637</td>\n",
       "      <td>4.392591</td>\n",
       "    </tr>\n",
       "    <tr>\n",
       "      <th>727</th>\n",
       "      <td>armys</td>\n",
       "      <td>2.0</td>\n",
       "      <td>0.0</td>\n",
       "      <td>7442.0</td>\n",
       "      <td>200561.0</td>\n",
       "      <td>80.849637</td>\n",
       "      <td>4.392591</td>\n",
       "    </tr>\n",
       "    <tr>\n",
       "      <th>886</th>\n",
       "      <td>mysticmessenger</td>\n",
       "      <td>2.0</td>\n",
       "      <td>0.0</td>\n",
       "      <td>7442.0</td>\n",
       "      <td>200561.0</td>\n",
       "      <td>80.849637</td>\n",
       "      <td>4.392591</td>\n",
       "    </tr>\n",
       "    <tr>\n",
       "      <th>889</th>\n",
       "      <td>triggerd</td>\n",
       "      <td>2.0</td>\n",
       "      <td>0.0</td>\n",
       "      <td>7442.0</td>\n",
       "      <td>200561.0</td>\n",
       "      <td>80.849637</td>\n",
       "      <td>4.392591</td>\n",
       "    </tr>\n",
       "    <tr>\n",
       "      <th>747</th>\n",
       "      <td>substituting</td>\n",
       "      <td>2.0</td>\n",
       "      <td>0.0</td>\n",
       "      <td>7442.0</td>\n",
       "      <td>200561.0</td>\n",
       "      <td>80.849637</td>\n",
       "      <td>4.392591</td>\n",
       "    </tr>\n",
       "  </tbody>\n",
       "</table>\n",
       "</div>"
      ],
      "text/plain": [
       "                word  cnt_trigger  cnt_baseline  cnt_trigger_not  \\\n",
       "1            trigger        147.0           0.0           7297.0   \n",
       "2          triggered        123.0           0.0           7321.0   \n",
       "3         triggering        105.0           0.0           7339.0   \n",
       "10          triggers         50.0           0.0           7394.0   \n",
       "182         warnings          7.0           1.0           7437.0   \n",
       "469             choc          3.0           0.0           7441.0   \n",
       "887       witchcraft          2.0           0.0           7442.0   \n",
       "612        confiding          2.0           0.0           7442.0   \n",
       "691              aba          2.0           0.0           7442.0   \n",
       "697            oomfs          2.0           0.0           7442.0   \n",
       "745           format          2.0           0.0           7442.0   \n",
       "841             greg          2.0           0.0           7442.0   \n",
       "844      disposition          2.0           0.0           7442.0   \n",
       "849          fvcking          2.0           0.0           7442.0   \n",
       "707          𝙒𝘼𝙍𝙉𝙄𝙉𝙂          2.0           0.0           7442.0   \n",
       "761          jogging          2.0           0.0           7442.0   \n",
       "727            armys          2.0           0.0           7442.0   \n",
       "886  mysticmessenger          2.0           0.0           7442.0   \n",
       "889         triggerd          2.0           0.0           7442.0   \n",
       "747     substituting          2.0           0.0           7442.0   \n",
       "\n",
       "     cnt_baseline_not    oddsratio  logoddsratio  \n",
       "1            200561.0  4067.839934      8.310867  \n",
       "2            200561.0  3397.017347      8.130653  \n",
       "3            200561.0  2896.779670      7.971355  \n",
       "10           200561.0  1383.366378      7.232275  \n",
       "182          200560.0   107.871454      4.680940  \n",
       "469          200561.0   107.814003      4.680408  \n",
       "887          200561.0    80.849637      4.392591  \n",
       "612          200561.0    80.849637      4.392591  \n",
       "691          200561.0    80.849637      4.392591  \n",
       "697          200561.0    80.849637      4.392591  \n",
       "745          200561.0    80.849637      4.392591  \n",
       "841          200561.0    80.849637      4.392591  \n",
       "844          200561.0    80.849637      4.392591  \n",
       "849          200561.0    80.849637      4.392591  \n",
       "707          200561.0    80.849637      4.392591  \n",
       "761          200561.0    80.849637      4.392591  \n",
       "727          200561.0    80.849637      4.392591  \n",
       "886          200561.0    80.849637      4.392591  \n",
       "889          200561.0    80.849637      4.392591  \n",
       "747          200561.0    80.849637      4.392591  "
      ]
     },
     "execution_count": 35,
     "metadata": {},
     "output_type": "execute_result"
    }
   ],
   "source": [
    "# Use odds ratio to find words most associated with \"trigger\"\n",
    "wordtable = pd.merge(wordfreq_trigger, wordfreq_baseline, on=\"word\", how=\"outer\").fillna(0)\n",
    "wordtable[\"cnt_trigger_not\"] = wordtable.cnt_trigger.sum() - wordtable[\"cnt_trigger\"]\n",
    "wordtable[\"cnt_baseline_not\"] = wordtable.cnt_baseline.sum() - wordtable[\"cnt_baseline\"]\n",
    "wordtable[\"oddsratio\"] = ((wordtable['cnt_trigger']+1) * wordtable['cnt_baseline_not']) / ((wordtable['cnt_baseline']+1) * wordtable['cnt_trigger_not'])\n",
    "wordtable[\"logoddsratio\"] = wordtable[\"oddsratio\"].apply(lambda x: math.log(x))\n",
    "wordtable = wordtable.sort_values(by = \"oddsratio\", ascending=False)\n",
    "wordtable.head(20)"
   ]
  },
  {
   "cell_type": "code",
   "execution_count": 36,
   "metadata": {
    "colab": {
     "base_uri": "https://localhost:8080/",
     "height": 677
    },
    "executionInfo": {
     "elapsed": 2,
     "status": "ok",
     "timestamp": 1657891651410,
     "user": {
      "displayName": "Yelena Mejova",
      "userId": "11766611928577248962"
     },
     "user_tz": -120
    },
    "id": "sBsC31b7usu0",
    "outputId": "d70e9e46-73c3-4a66-c27d-2df5d150545f"
   },
   "outputs": [
    {
     "data": {
      "text/html": [
       "<div>\n",
       "<style scoped>\n",
       "    .dataframe tbody tr th:only-of-type {\n",
       "        vertical-align: middle;\n",
       "    }\n",
       "\n",
       "    .dataframe tbody tr th {\n",
       "        vertical-align: top;\n",
       "    }\n",
       "\n",
       "    .dataframe thead th {\n",
       "        text-align: right;\n",
       "    }\n",
       "</style>\n",
       "<table border=\"1\" class=\"dataframe\">\n",
       "  <thead>\n",
       "    <tr style=\"text-align: right;\">\n",
       "      <th></th>\n",
       "      <th>word</th>\n",
       "      <th>cnt_trigger</th>\n",
       "      <th>cnt_baseline</th>\n",
       "      <th>cnt_trigger_not</th>\n",
       "      <th>cnt_baseline_not</th>\n",
       "      <th>oddsratio</th>\n",
       "      <th>logoddsratio</th>\n",
       "    </tr>\n",
       "  </thead>\n",
       "  <tbody>\n",
       "    <tr>\n",
       "      <th>1</th>\n",
       "      <td>trigger</td>\n",
       "      <td>147.0</td>\n",
       "      <td>0.0</td>\n",
       "      <td>7297.0</td>\n",
       "      <td>200561.0</td>\n",
       "      <td>4067.839934</td>\n",
       "      <td>8.310867</td>\n",
       "    </tr>\n",
       "    <tr>\n",
       "      <th>2</th>\n",
       "      <td>triggered</td>\n",
       "      <td>123.0</td>\n",
       "      <td>0.0</td>\n",
       "      <td>7321.0</td>\n",
       "      <td>200561.0</td>\n",
       "      <td>3397.017347</td>\n",
       "      <td>8.130653</td>\n",
       "    </tr>\n",
       "    <tr>\n",
       "      <th>3</th>\n",
       "      <td>triggering</td>\n",
       "      <td>105.0</td>\n",
       "      <td>0.0</td>\n",
       "      <td>7339.0</td>\n",
       "      <td>200561.0</td>\n",
       "      <td>2896.779670</td>\n",
       "      <td>7.971355</td>\n",
       "    </tr>\n",
       "    <tr>\n",
       "      <th>10</th>\n",
       "      <td>triggers</td>\n",
       "      <td>50.0</td>\n",
       "      <td>0.0</td>\n",
       "      <td>7394.0</td>\n",
       "      <td>200561.0</td>\n",
       "      <td>1383.366378</td>\n",
       "      <td>7.232275</td>\n",
       "    </tr>\n",
       "    <tr>\n",
       "      <th>182</th>\n",
       "      <td>warnings</td>\n",
       "      <td>7.0</td>\n",
       "      <td>1.0</td>\n",
       "      <td>7437.0</td>\n",
       "      <td>200560.0</td>\n",
       "      <td>107.871454</td>\n",
       "      <td>4.680940</td>\n",
       "    </tr>\n",
       "    <tr>\n",
       "      <th>469</th>\n",
       "      <td>choc</td>\n",
       "      <td>3.0</td>\n",
       "      <td>0.0</td>\n",
       "      <td>7441.0</td>\n",
       "      <td>200561.0</td>\n",
       "      <td>107.814003</td>\n",
       "      <td>4.680408</td>\n",
       "    </tr>\n",
       "    <tr>\n",
       "      <th>225</th>\n",
       "      <td>yoghurt</td>\n",
       "      <td>6.0</td>\n",
       "      <td>2.0</td>\n",
       "      <td>7438.0</td>\n",
       "      <td>200559.0</td>\n",
       "      <td>62.916241</td>\n",
       "      <td>4.141804</td>\n",
       "    </tr>\n",
       "    <tr>\n",
       "      <th>472</th>\n",
       "      <td>cop</td>\n",
       "      <td>3.0</td>\n",
       "      <td>1.0</td>\n",
       "      <td>7441.0</td>\n",
       "      <td>200560.0</td>\n",
       "      <td>53.906733</td>\n",
       "      <td>3.987255</td>\n",
       "    </tr>\n",
       "    <tr>\n",
       "      <th>546</th>\n",
       "      <td>alphabet</td>\n",
       "      <td>3.0</td>\n",
       "      <td>1.0</td>\n",
       "      <td>7441.0</td>\n",
       "      <td>200560.0</td>\n",
       "      <td>53.906733</td>\n",
       "      <td>3.987255</td>\n",
       "    </tr>\n",
       "    <tr>\n",
       "      <th>452</th>\n",
       "      <td>sickening</td>\n",
       "      <td>3.0</td>\n",
       "      <td>1.0</td>\n",
       "      <td>7441.0</td>\n",
       "      <td>200560.0</td>\n",
       "      <td>53.906733</td>\n",
       "      <td>3.987255</td>\n",
       "    </tr>\n",
       "    <tr>\n",
       "      <th>18</th>\n",
       "      <td>warning</td>\n",
       "      <td>36.0</td>\n",
       "      <td>24.0</td>\n",
       "      <td>7408.0</td>\n",
       "      <td>200537.0</td>\n",
       "      <td>40.064087</td>\n",
       "      <td>3.690480</td>\n",
       "    </tr>\n",
       "    <tr>\n",
       "      <th>438</th>\n",
       "      <td>purposefully</td>\n",
       "      <td>3.0</td>\n",
       "      <td>2.0</td>\n",
       "      <td>7441.0</td>\n",
       "      <td>200559.0</td>\n",
       "      <td>35.937643</td>\n",
       "      <td>3.581785</td>\n",
       "    </tr>\n",
       "    <tr>\n",
       "      <th>353</th>\n",
       "      <td>minding</td>\n",
       "      <td>4.0</td>\n",
       "      <td>3.0</td>\n",
       "      <td>7440.0</td>\n",
       "      <td>200558.0</td>\n",
       "      <td>33.695901</td>\n",
       "      <td>3.517376</td>\n",
       "    </tr>\n",
       "    <tr>\n",
       "      <th>470</th>\n",
       "      <td>actor</td>\n",
       "      <td>3.0</td>\n",
       "      <td>3.0</td>\n",
       "      <td>7441.0</td>\n",
       "      <td>200558.0</td>\n",
       "      <td>26.953098</td>\n",
       "      <td>3.294098</td>\n",
       "    </tr>\n",
       "    <tr>\n",
       "      <th>468</th>\n",
       "      <td>smoked</td>\n",
       "      <td>3.0</td>\n",
       "      <td>4.0</td>\n",
       "      <td>7441.0</td>\n",
       "      <td>200557.0</td>\n",
       "      <td>21.562371</td>\n",
       "      <td>3.070950</td>\n",
       "    </tr>\n",
       "    <tr>\n",
       "      <th>513</th>\n",
       "      <td>documentaries</td>\n",
       "      <td>3.0</td>\n",
       "      <td>4.0</td>\n",
       "      <td>7441.0</td>\n",
       "      <td>200557.0</td>\n",
       "      <td>21.562371</td>\n",
       "      <td>3.070950</td>\n",
       "    </tr>\n",
       "    <tr>\n",
       "      <th>490</th>\n",
       "      <td>chunky</td>\n",
       "      <td>3.0</td>\n",
       "      <td>4.0</td>\n",
       "      <td>7441.0</td>\n",
       "      <td>200557.0</td>\n",
       "      <td>21.562371</td>\n",
       "      <td>3.070950</td>\n",
       "    </tr>\n",
       "    <tr>\n",
       "      <th>564</th>\n",
       "      <td>potentially</td>\n",
       "      <td>3.0</td>\n",
       "      <td>4.0</td>\n",
       "      <td>7441.0</td>\n",
       "      <td>200557.0</td>\n",
       "      <td>21.562371</td>\n",
       "      <td>3.070950</td>\n",
       "    </tr>\n",
       "    <tr>\n",
       "      <th>322</th>\n",
       "      <td>muted</td>\n",
       "      <td>5.0</td>\n",
       "      <td>8.0</td>\n",
       "      <td>7439.0</td>\n",
       "      <td>200553.0</td>\n",
       "      <td>17.973115</td>\n",
       "      <td>2.888877</td>\n",
       "    </tr>\n",
       "    <tr>\n",
       "      <th>503</th>\n",
       "      <td>unnecessary</td>\n",
       "      <td>3.0</td>\n",
       "      <td>6.0</td>\n",
       "      <td>7441.0</td>\n",
       "      <td>200555.0</td>\n",
       "      <td>15.401540</td>\n",
       "      <td>2.734467</td>\n",
       "    </tr>\n",
       "  </tbody>\n",
       "</table>\n",
       "</div>"
      ],
      "text/plain": [
       "              word  cnt_trigger  cnt_baseline  cnt_trigger_not  \\\n",
       "1          trigger        147.0           0.0           7297.0   \n",
       "2        triggered        123.0           0.0           7321.0   \n",
       "3       triggering        105.0           0.0           7339.0   \n",
       "10        triggers         50.0           0.0           7394.0   \n",
       "182       warnings          7.0           1.0           7437.0   \n",
       "469           choc          3.0           0.0           7441.0   \n",
       "225        yoghurt          6.0           2.0           7438.0   \n",
       "472            cop          3.0           1.0           7441.0   \n",
       "546       alphabet          3.0           1.0           7441.0   \n",
       "452      sickening          3.0           1.0           7441.0   \n",
       "18         warning         36.0          24.0           7408.0   \n",
       "438   purposefully          3.0           2.0           7441.0   \n",
       "353        minding          4.0           3.0           7440.0   \n",
       "470          actor          3.0           3.0           7441.0   \n",
       "468         smoked          3.0           4.0           7441.0   \n",
       "513  documentaries          3.0           4.0           7441.0   \n",
       "490         chunky          3.0           4.0           7441.0   \n",
       "564    potentially          3.0           4.0           7441.0   \n",
       "322          muted          5.0           8.0           7439.0   \n",
       "503    unnecessary          3.0           6.0           7441.0   \n",
       "\n",
       "     cnt_baseline_not    oddsratio  logoddsratio  \n",
       "1            200561.0  4067.839934      8.310867  \n",
       "2            200561.0  3397.017347      8.130653  \n",
       "3            200561.0  2896.779670      7.971355  \n",
       "10           200561.0  1383.366378      7.232275  \n",
       "182          200560.0   107.871454      4.680940  \n",
       "469          200561.0   107.814003      4.680408  \n",
       "225          200559.0    62.916241      4.141804  \n",
       "472          200560.0    53.906733      3.987255  \n",
       "546          200560.0    53.906733      3.987255  \n",
       "452          200560.0    53.906733      3.987255  \n",
       "18           200537.0    40.064087      3.690480  \n",
       "438          200559.0    35.937643      3.581785  \n",
       "353          200558.0    33.695901      3.517376  \n",
       "470          200558.0    26.953098      3.294098  \n",
       "468          200557.0    21.562371      3.070950  \n",
       "513          200557.0    21.562371      3.070950  \n",
       "490          200557.0    21.562371      3.070950  \n",
       "564          200557.0    21.562371      3.070950  \n",
       "322          200553.0    17.973115      2.888877  \n",
       "503          200555.0    15.401540      2.734467  "
      ]
     },
     "execution_count": 36,
     "metadata": {},
     "output_type": "execute_result"
    }
   ],
   "source": [
    "# There are many words that occur very few times, let's give a frequency constraint\n",
    "freq = 2\n",
    "wordtable[wordtable.cnt_trigger>freq].sort_values(by = \"oddsratio\", ascending=False).head(20)"
   ]
  },
  {
   "cell_type": "code",
   "execution_count": 37,
   "metadata": {
    "executionInfo": {
     "elapsed": 1,
     "status": "ok",
     "timestamp": 1657891652052,
     "user": {
      "displayName": "Yelena Mejova",
      "userId": "11766611928577248962"
     },
     "user_tz": -120
    },
    "id": "pY9bfolb444y"
   },
   "outputs": [],
   "source": [
    "# Remove 1 letter entries\n",
    "wordtable = wordtable[wordtable.word.str.len() > 1]"
   ]
  },
  {
   "cell_type": "code",
   "execution_count": 38,
   "metadata": {
    "colab": {
     "base_uri": "https://localhost:8080/"
    },
    "executionInfo": {
     "elapsed": 305,
     "status": "ok",
     "timestamp": 1657891677733,
     "user": {
      "displayName": "Yelena Mejova",
      "userId": "11766611928577248962"
     },
     "user_tz": -120
    },
    "id": "q9M8Nylz0H0R",
    "outputId": "17452d50-4415-449c-f90f-2f40c329d018"
   },
   "outputs": [
    {
     "data": {
      "text/plain": [
       "['trigger',\n",
       " 'triggered',\n",
       " 'triggering',\n",
       " 'triggers',\n",
       " 'warnings',\n",
       " 'choc',\n",
       " 'yoghurt',\n",
       " 'cop',\n",
       " 'alphabet',\n",
       " 'sickening',\n",
       " 'warning',\n",
       " 'purposefully',\n",
       " 'minding',\n",
       " 'actor',\n",
       " 'smoked',\n",
       " 'documentaries',\n",
       " 'chunky',\n",
       " 'potentially',\n",
       " 'muted',\n",
       " 'unnecessary',\n",
       " 'trending',\n",
       " 'discuss',\n",
       " 'genetic',\n",
       " 'fyp',\n",
       " 'sending',\n",
       " 'smoking',\n",
       " 'vids',\n",
       " 'movie',\n",
       " 'sh',\n",
       " 'watch',\n",
       " 'zero',\n",
       " 'nutrition',\n",
       " 'myproana',\n",
       " 'recommended',\n",
       " 'bathroom',\n",
       " 'irl',\n",
       " 'quick',\n",
       " 'tiktok',\n",
       " 'ramadan',\n",
       " 'obsessive',\n",
       " 'opened',\n",
       " 'business',\n",
       " 'remind',\n",
       " 'hurting',\n",
       " 'extremely',\n",
       " 'unfollow',\n",
       " 'deleted',\n",
       " 'report',\n",
       " 'caught',\n",
       " 'avoid']"
      ]
     },
     "execution_count": 38,
     "metadata": {},
     "output_type": "execute_result"
    }
   ],
   "source": [
    "# Let's select few top ones as \"words of interest\"\n",
    "words_of_interest = list(wordtable[wordtable.cnt_trigger>freq].sort_values(by = \"oddsratio\", ascending=False).head(50).word)\n",
    "words_of_interest"
   ]
  },
  {
   "cell_type": "code",
   "execution_count": 39,
   "metadata": {
    "colab": {
     "base_uri": "https://localhost:8080/"
    },
    "executionInfo": {
     "elapsed": 1,
     "status": "ok",
     "timestamp": 1657891678071,
     "user": {
      "displayName": "Yelena Mejova",
      "userId": "11766611928577248962"
     },
     "user_tz": -120
    },
    "id": "WhXKTa9HD_Bp",
    "outputId": "6d2f3fc0-45af-4318-f737-74ae137759c2"
   },
   "outputs": [
    {
     "data": {
      "text/plain": [
       "{'trigger': 147.0,\n",
       " 'triggered': 123.0,\n",
       " 'triggering': 105.0,\n",
       " 'triggers': 50.0,\n",
       " 'warnings': 7.0,\n",
       " 'choc': 3.0,\n",
       " 'yoghurt': 6.0,\n",
       " 'cop': 3.0,\n",
       " 'alphabet': 3.0,\n",
       " 'sickening': 3.0,\n",
       " 'warning': 36.0,\n",
       " 'purposefully': 3.0,\n",
       " 'minding': 4.0,\n",
       " 'actor': 3.0,\n",
       " 'smoked': 3.0,\n",
       " 'documentaries': 3.0,\n",
       " 'chunky': 3.0,\n",
       " 'potentially': 3.0,\n",
       " 'muted': 5.0,\n",
       " 'unnecessary': 3.0,\n",
       " 'trending': 3.0,\n",
       " 'discuss': 3.0,\n",
       " 'genetic': 3.0,\n",
       " 'fyp': 4.0,\n",
       " 'sending': 4.0,\n",
       " 'smoking': 3.0,\n",
       " 'vids': 4.0,\n",
       " 'movie': 6.0,\n",
       " 'sh': 3.0,\n",
       " 'watch': 19.0,\n",
       " 'zero': 3.0,\n",
       " 'nutrition': 5.0,\n",
       " 'myproana': 3.0,\n",
       " 'recommended': 3.0,\n",
       " 'bathroom': 3.0,\n",
       " 'irl': 6.0,\n",
       " 'quick': 5.0,\n",
       " 'tiktok': 9.0,\n",
       " 'ramadan': 3.0,\n",
       " 'obsessive': 3.0,\n",
       " 'opened': 3.0,\n",
       " 'business': 6.0,\n",
       " 'remind': 5.0,\n",
       " 'hurting': 3.0,\n",
       " 'extremely': 12.0,\n",
       " 'unfollow': 3.0,\n",
       " 'deleted': 3.0,\n",
       " 'report': 3.0,\n",
       " 'caught': 3.0,\n",
       " 'avoid': 3.0}"
      ]
     },
     "execution_count": 39,
     "metadata": {},
     "output_type": "execute_result"
    }
   ],
   "source": [
    "words_of_interest_weight = wordtable[wordtable.cnt_trigger>freq].sort_values(by = \"oddsratio\", ascending=False).head(50)[[\"word\", \"cnt_trigger\"]]\n",
    "words_of_interest_weight = dict(zip(words_of_interest_weight.word, words_of_interest_weight.cnt_trigger))\n",
    "words_of_interest_weight"
   ]
  },
  {
   "cell_type": "markdown",
   "metadata": {
    "id": "Wkd-8XONEbmN"
   },
   "source": [
    "### Calculate word co-occurrence"
   ]
  },
  {
   "cell_type": "code",
   "execution_count": 40,
   "metadata": {
    "colab": {
     "base_uri": "https://localhost:8080/"
    },
    "executionInfo": {
     "elapsed": 1,
     "status": "ok",
     "timestamp": 1657891678798,
     "user": {
      "displayName": "Yelena Mejova",
      "userId": "11766611928577248962"
     },
     "user_tz": -120
    },
    "id": "NXs3YnXHvLQZ",
    "outputId": "245077dc-a8e7-48ea-8bcf-e35e08fc7944"
   },
   "outputs": [
    {
     "data": {
      "text/plain": [
       "<407x2232 sparse matrix of type '<class 'numpy.int64'>'\n",
       "\twith 12130 stored elements in Compressed Sparse Row format>"
      ]
     },
     "execution_count": 40,
     "metadata": {},
     "output_type": "execute_result"
    }
   ],
   "source": [
    "# To calculate the co-occurrence of words in the tweets about triggers\n",
    "# First, create a frequency vector for each document:\n",
    "count_model = CountVectorizer(ngram_range=(1,1)) # considering unigrams only\n",
    "X = count_model.fit_transform(tweets_trigger.text_clean)\n",
    "X"
   ]
  },
  {
   "cell_type": "code",
   "execution_count": 41,
   "metadata": {
    "colab": {
     "base_uri": "https://localhost:8080/"
    },
    "executionInfo": {
     "elapsed": 1,
     "status": "ok",
     "timestamp": 1657891679463,
     "user": {
      "displayName": "Yelena Mejova",
      "userId": "11766611928577248962"
     },
     "user_tz": -120
    },
    "id": "rVGx_WTg0waD",
    "outputId": "a7218e23-aa3b-4533-e24a-69f26c5f92e9"
   },
   "outputs": [
    {
     "name": "stdout",
     "output_type": "stream",
     "text": [
      "[[0 0 0 ... 0 0 0]\n",
      " [0 0 0 ... 0 0 0]\n",
      " [0 0 0 ... 0 0 0]\n",
      " ...\n",
      " [0 0 0 ... 0 0 0]\n",
      " [0 0 0 ... 0 0 0]\n",
      " [0 0 0 ... 0 0 0]]\n"
     ]
    }
   ],
   "source": [
    "# Compute a co-occurrence matrix \n",
    "cooc = (X.T * X) \n",
    "# Set same word cooccurence to 0\n",
    "cooc.setdiag(0) \n",
    "# Print in dense format\n",
    "print(cooc.todense()) "
   ]
  },
  {
   "cell_type": "code",
   "execution_count": 42,
   "metadata": {
    "colab": {
     "base_uri": "https://localhost:8080/"
    },
    "executionInfo": {
     "elapsed": 5,
     "status": "ok",
     "timestamp": 1657891680183,
     "user": {
      "displayName": "Yelena Mejova",
      "userId": "11766611928577248962"
     },
     "user_tz": -120
    },
    "id": "dSew0EE5xQkH",
    "outputId": "6d70fed4-f2cd-44b1-a03e-612239b5c6b3"
   },
   "outputs": [
    {
     "data": {
      "text/plain": [
       "{'am': 84,\n",
       " 'pro': 1442,\n",
       " 'recovery': 1530,\n",
       " 'have': 852,\n",
       " 'anorexia': 96,\n",
       " 'currently': 431,\n",
       " 'struggling': 1813,\n",
       " 'posting': 1421,\n",
       " 'thinspo': 1936,\n",
       " 'for': 719,\n",
       " 'my': 1236,\n",
       " 'own': 1345,\n",
       " 'personal': 1382,\n",
       " 'use': 2076,\n",
       " 'seriously': 1660,\n",
       " 'don': 534,\n",
       " 'follow': 714,\n",
       " 'if': 932,\n",
       " 'triggering': 2009,\n",
       " 'you': 2220,\n",
       " 'stay': 1789,\n",
       " 'safe': 1605,\n",
       " 'loves': 1114,\n",
       " 'deserve': 477,\n",
       " 'food': 718,\n",
       " 'today': 1968,\n",
       " 'is': 980,\n",
       " 'worth': 2192,\n",
       " 'it': 988,\n",
       " 'auntie': 149,\n",
       " 'reqlly': 1560,\n",
       " 'said': 1607,\n",
       " 'im': 942,\n",
       " 'skinny': 1718,\n",
       " 'but': 278,\n",
       " 'not': 1275,\n",
       " 'that': 1909,\n",
       " 'was': 2116,\n",
       " 'so': 1739,\n",
       " 'whos': 2158,\n",
       " 'gonna': 795,\n",
       " 'tell': 1888,\n",
       " 'ha': 826,\n",
       " 'why': 2160,\n",
       " 'the': 1911,\n",
       " 'fuckjjeiajjwbwhw': 748,\n",
       " 'me': 1151,\n",
       " 'searching': 1635,\n",
       " 'meanspo': 1156,\n",
       " 'to': 1967,\n",
       " 'trigger': 2006,\n",
       " 'vs': 2101,\n",
       " 'when': 2147,\n",
       " 'proana': 1443,\n",
       " 'sends': 1653,\n",
       " 'since': 1700,\n",
       " 'camhs': 291,\n",
       " 'trending': 2003,\n",
       " 'been': 187,\n",
       " 'in': 948,\n",
       " 'from': 742,\n",
       " 'over': 1339,\n",
       " 'year': 2212,\n",
       " 'swear': 1851,\n",
       " 'come': 354,\n",
       " 'out': 1337,\n",
       " 'more': 1214,\n",
       " 'triggered': 2008,\n",
       " 'being': 193,\n",
       " 'told': 1972,\n",
       " 'maybe': 1150,\n",
       " 'looked': 1102,\n",
       " 'how': 917,\n",
       " 'did': 492,\n",
       " 'years': 2213,\n",
       " 'ago': 56,\n",
       " 'because': 183,\n",
       " 'had': 828,\n",
       " 'treats': 2001,\n",
       " 'etc': 614,\n",
       " 'sure': 1844,\n",
       " 'what': 2144,\n",
       " 'they': 1925,\n",
       " 'should': 1679,\n",
       " 'be': 177,\n",
       " 'telling': 1889,\n",
       " 'patient': 1368,\n",
       " 'with': 2169,\n",
       " 'think': 1932,\n",
       " 'then': 1917,\n",
       " 'pls': 1410,\n",
       " 'just': 1006,\n",
       " 'unfollow': 2054,\n",
       " 'only': 1317,\n",
       " 'post': 1420,\n",
       " 'complain': 366,\n",
       " 'amp': 87,\n",
       " 'make': 1136,\n",
       " 'myself': 1239,\n",
       " 'feel': 682,\n",
       " 'worse': 2190,\n",
       " 'an': 88,\n",
       " 'eating': 571,\n",
       " 'disorder': 517,\n",
       " 'want': 2109,\n",
       " 'anyone': 105,\n",
       " 'else': 585,\n",
       " 'seeing': 1639,\n",
       " 'brings': 257,\n",
       " 'mixed': 1203,\n",
       " 'emotions': 588,\n",
       " 'hands': 839,\n",
       " 'down': 539,\n",
       " 'were': 2142,\n",
       " 'of': 1298,\n",
       " 'early': 564,\n",
       " 'fixated': 708,\n",
       " 'on': 1311,\n",
       " 'naturally': 1246,\n",
       " 'smaller': 1727,\n",
       " 'frame': 729,\n",
       " 'even': 617,\n",
       " 'though': 1940,\n",
       " 'under': 2047,\n",
       " 'their': 1912,\n",
       " 'care': 297,\n",
       " 'due': 556,\n",
       " 'suicide': 1832,\n",
       " 'attempt': 144,\n",
       " 'offering': 1301,\n",
       " 'meal': 1152,\n",
       " 'plans': 1404,\n",
       " 'and': 90,\n",
       " 'no': 1269,\n",
       " 'therapy': 1921,\n",
       " 'depression': 471,\n",
       " 'also': 81,\n",
       " 'didnt': 494,\n",
       " 'enough': 602,\n",
       " 'room': 1591,\n",
       " 'back': 160,\n",
       " 'ed': 572,\n",
       " 'would': 2194,\n",
       " 'purposefully': 1471,\n",
       " 'look': 1101,\n",
       " 'up': 2071,\n",
       " 'non': 1270,\n",
       " 'accounts': 17,\n",
       " 'felt': 686,\n",
       " 'like': 1067,\n",
       " 'reason': 1515,\n",
       " 'other': 1333,\n",
       " 'than': 1904,\n",
       " 'fat': 670,\n",
       " 'ugly': 2039,\n",
       " 'warning': 2114,\n",
       " 'self': 1647,\n",
       " 'harm': 848,\n",
       " 'ive': 991,\n",
       " 'struggled': 1811,\n",
       " 'body': 229,\n",
       " 'image': 943,\n",
       " 'whole': 2156,\n",
       " 'life': 1063,\n",
       " 'seen': 1643,\n",
       " 'lot': 1110,\n",
       " 'toxicity': 1987,\n",
       " 'concerning': 374,\n",
       " 'healthy': 861,\n",
       " 'weight': 2133,\n",
       " 'shit': 1674,\n",
       " 'tl': 1966,\n",
       " 'wanted': 2110,\n",
       " 'share': 1670,\n",
       " 'these': 1924,\n",
       " 'before': 189,\n",
       " 'after': 51,\n",
       " 'photos': 1392,\n",
       " 'first': 702,\n",
       " 'are': 121,\n",
       " 'second': 1636,\n",
       " 'now': 1280,\n",
       " 'stop': 1799,\n",
       " 'recommending': 1526,\n",
       " 'anorexic': 97,\n",
       " 'vegan': 2081,\n",
       " 'loss': 1108,\n",
       " 'meat': 1160,\n",
       " 'cooking': 395,\n",
       " 'articles': 127,\n",
       " 'get': 773,\n",
       " 'every': 620,\n",
       " 'day': 448,\n",
       " 'which': 2151,\n",
       " 'triggers': 2010,\n",
       " 'topic': 1980,\n",
       " 'can': 294,\n",
       " 'block': 219,\n",
       " 'blog': 222,\n",
       " 'drive': 548,\n",
       " 'speak': 1762,\n",
       " 'frankly': 730,\n",
       " 'destigmatize': 480,\n",
       " 'mental': 1168,\n",
       " 'health': 858,\n",
       " 'there': 1922,\n",
       " 'warnings': 2115,\n",
       " 'suicidal': 1831,\n",
       " 'thoughts': 1942,\n",
       " 'honestly': 906,\n",
       " 've': 2080,\n",
       " 'treading': 1998,\n",
       " 'water': 2123,\n",
       " 'recovering': 1529,\n",
       " 'relapsing': 1545,\n",
       " 'regrouping': 1538,\n",
       " 'redefining': 1531,\n",
       " 'amount': 85,\n",
       " 'people': 1374,\n",
       " 'who': 2154,\n",
       " 'calling': 286,\n",
       " 'lately': 1040,\n",
       " 'has': 850,\n",
       " 'head': 857,\n",
       " 'about': 5,\n",
       " 'flip': 712,\n",
       " 'hell': 871,\n",
       " 'this': 1937,\n",
       " 'ain': 61,\n",
       " 'remember': 1549,\n",
       " 'isn': 983,\n",
       " 'lifestyle': 1064,\n",
       " 'tw': 2023,\n",
       " 'able': 4,\n",
       " 'eat': 568,\n",
       " 'regularly': 1539,\n",
       " 'lack': 1036,\n",
       " 'funds': 755,\n",
       " 'nothing': 1277,\n",
       " 'few': 689,\n",
       " 'biscuits': 209,\n",
       " 'need': 1256,\n",
       " 'top': 1979,\n",
       " 'everything': 623,\n",
       " 'hard': 845,\n",
       " 'positive': 1418,\n",
       " 'days': 449,\n",
       " 'yeah': 2211,\n",
       " 'ofc': 1299,\n",
       " 'know': 1028,\n",
       " 'rly': 1587,\n",
       " 'big': 200,\n",
       " 'some': 1745,\n",
       " 'wanna': 2108,\n",
       " 'see': 1638,\n",
       " 'doctor': 527,\n",
       " 'bc': 176,\n",
       " 'sister': 1703,\n",
       " 'already': 79,\n",
       " 'massively': 1147,\n",
       " 'put': 1475,\n",
       " 'parents': 1358,\n",
       " 'through': 1947,\n",
       " 'again': 52,\n",
       " 'omg': 1309,\n",
       " 'sorry': 1757,\n",
       " 'someone': 1748,\n",
       " 'sent': 1657,\n",
       " 'message': 1174,\n",
       " 'too': 1976,\n",
       " 'totally': 1982,\n",
       " 'understand': 2048,\n",
       " 'where': 2149,\n",
       " 're': 1501,\n",
       " 'sickening': 1689,\n",
       " 'around': 125,\n",
       " 'august': 148,\n",
       " 'getting': 775,\n",
       " 'by': 281,\n",
       " 'especially': 612,\n",
       " 'all': 69,\n",
       " 'tiktok': 1957,\n",
       " 'rn': 1588,\n",
       " 'do': 524,\n",
       " 'spend': 1769,\n",
       " 'time': 1959,\n",
       " 'related': 1546,\n",
       " 'content': 387,\n",
       " 'whether': 2150,\n",
       " 'engage': 597,\n",
       " 'others': 1334,\n",
       " 'heard': 863,\n",
       " 'or': 1326,\n",
       " 'feeds': 681,\n",
       " 'irony': 978,\n",
       " 'further': 757,\n",
       " 'helps': 880,\n",
       " 'keep': 1010,\n",
       " 'wondering': 2177,\n",
       " 'same': 1610,\n",
       " 'belief': 194,\n",
       " 'pushed': 1474,\n",
       " 'cousin': 409,\n",
       " 'friend': 738,\n",
       " 'develop': 485,\n",
       " 'nervosa': 1258,\n",
       " 'led': 1052,\n",
       " 'them': 1913,\n",
       " 'developing': 487,\n",
       " 'serious': 1659,\n",
       " 'any': 103,\n",
       " 'go': 786,\n",
       " 'sights': 1693,\n",
       " 'motivate': 1219,\n",
       " 'yourself': 2225,\n",
       " 'honest': 905,\n",
       " 'could': 401,\n",
       " 'literally': 1081,\n",
       " 'hours': 915,\n",
       " 'myproana': 1238,\n",
       " 'addicting': 34,\n",
       " 'love': 1112,\n",
       " 'bulimia': 272,\n",
       " 'discussions': 510,\n",
       " 'different': 500,\n",
       " 'reasons': 1517,\n",
       " 'coworker': 411,\n",
       " 'her': 882,\n",
       " 'recover': 1527,\n",
       " 'thought': 1941,\n",
       " 'she': 1672,\n",
       " 'confiding': 378,\n",
       " 'trying': 2016,\n",
       " 'supportive': 1838,\n",
       " 'doesn': 530,\n",
       " 'talking': 1872,\n",
       " 'everyone': 622,\n",
       " 'things': 1931,\n",
       " 'sad': 1603,\n",
       " 'taking': 1869,\n",
       " 'kind': 1023,\n",
       " 'class': 341,\n",
       " 'several': 1663,\n",
       " 'intake': 967,\n",
       " 'stuff': 1815,\n",
       " 'at': 140,\n",
       " 'level': 1060,\n",
       " 'didn': 493,\n",
       " 'graduate': 804,\n",
       " 'tweeting': 2025,\n",
       " 'into': 974,\n",
       " 'void': 2099,\n",
       " 'completely': 369,\n",
       " 'fine': 700,\n",
       " 'hi': 887,\n",
       " 'alexa': 66,\n",
       " 'old': 1307,\n",
       " 'developed': 486,\n",
       " 'maintained': 1131,\n",
       " 'higher': 893,\n",
       " 'couple': 407,\n",
       " 'sixties': 1710,\n",
       " 'creeped': 419,\n",
       " 'majorly': 1135,\n",
       " 'finished': 701,\n",
       " 'reading': 1507,\n",
       " 'hurts': 927,\n",
       " 'probably': 1445,\n",
       " 'book': 236,\n",
       " 'found': 728,\n",
       " 'helpful': 877,\n",
       " 'actually': 29,\n",
       " 'incredibly': 949,\n",
       " 'bored': 238,\n",
       " 'read': 1505,\n",
       " 'consumed': 385,\n",
       " 'far': 666,\n",
       " 'much': 1227,\n",
       " 'add': 30,\n",
       " 'coming': 358,\n",
       " 'having': 855,\n",
       " 'end': 592,\n",
       " 'range': 1495,\n",
       " 'as': 128,\n",
       " 'recently': 1522,\n",
       " 'went': 2141,\n",
       " 'trauma': 1996,\n",
       " 'letting': 1059,\n",
       " 'decide': 457,\n",
       " 'show': 1682,\n",
       " 'willingly': 2163,\n",
       " 'appeared': 115,\n",
       " 'fueled': 750,\n",
       " 'descent': 474,\n",
       " 'exercise': 632,\n",
       " 'extremely': 647,\n",
       " 'still': 1795,\n",
       " 'lizzo': 1085,\n",
       " 'ps': 1457,\n",
       " 'bodyshred': 231,\n",
       " 'exercises': 633,\n",
       " 'bullshit': 274,\n",
       " 'man': 1139,\n",
       " 'angers': 91,\n",
       " 'celebrities': 311,\n",
       " 'advertising': 44,\n",
       " 'flat': 711,\n",
       " 'tummy': 2019,\n",
       " 'teas': 1883,\n",
       " 'suffered': 1828,\n",
       " 'track': 1988,\n",
       " 'calories': 289,\n",
       " 'diary': 491,\n",
       " 'week': 2128,\n",
       " 'nutrition': 1288,\n",
       " 'calorie': 288,\n",
       " 'count': 405,\n",
       " 'nevrosa': 1260,\n",
       " 'relapse': 1542,\n",
       " 'used': 2077,\n",
       " 'vegetarian': 2082,\n",
       " 'two': 2030,\n",
       " 'handle': 838,\n",
       " 'form': 724,\n",
       " 'restrictive': 1569,\n",
       " 'yes': 2214,\n",
       " 'animal': 93,\n",
       " 'abuse': 8,\n",
       " 'cruel': 422,\n",
       " 'industry': 950,\n",
       " 'better': 199,\n",
       " 'start': 1781,\n",
       " 'soon': 1754,\n",
       " 'fasting': 669,\n",
       " 'smoked': 1732,\n",
       " 'choc': 334,\n",
       " 'yoghurt': 2219,\n",
       " 'minding': 1190,\n",
       " 'business': 277,\n",
       " 'actor': 27,\n",
       " 'movie': 1222,\n",
       " 'we': 2126,\n",
       " 'watching': 2122,\n",
       " 'smoking': 1733,\n",
       " 'cop': 397,\n",
       " 'caught': 304,\n",
       " 'him': 895,\n",
       " 'goes': 791,\n",
       " 'horrible': 908,\n",
       " 'gave': 766,\n",
       " 'quick': 1484,\n",
       " 'disorders': 519,\n",
       " 'really': 1514,\n",
       " 'worst': 2191,\n",
       " 'part': 1359,\n",
       " 'going': 792,\n",
       " 'watch': 2119,\n",
       " 'instagram': 963,\n",
       " 'knows': 1031,\n",
       " 'spread': 1773,\n",
       " 'shitty': 1675,\n",
       " 'memes': 1167,\n",
       " 'lie': 1062,\n",
       " 'lost': 1109,\n",
       " 'school': 1627,\n",
       " 'thanks': 1907,\n",
       " 'month': 1211,\n",
       " 'guess': 820,\n",
       " 'terrified': 1896,\n",
       " 'supposed': 1840,\n",
       " 'senior': 1654,\n",
       " 'sophomore': 1756,\n",
       " 'hear': 862,\n",
       " 'goddamn': 789,\n",
       " 'thing': 1930,\n",
       " 'playing': 1406,\n",
       " 'mind': 1189,\n",
       " 'along': 77,\n",
       " 'story': 1803,\n",
       " 'jgfgkhhhjjjj': 995,\n",
       " 'patients': 1369,\n",
       " 'history': 897,\n",
       " 'carnivore': 300,\n",
       " 'seems': 1642,\n",
       " 'works': 2186,\n",
       " 'very': 2087,\n",
       " 'well': 2140,\n",
       " 'nourishing': 1279,\n",
       " 'simple': 1699,\n",
       " 'fussing': 758,\n",
       " 'macros': 1126,\n",
       " 'ratios': 1500,\n",
       " 'weighing': 2132,\n",
       " 'often': 1303,\n",
       " 'article': 126,\n",
       " 'reinforced': 1541,\n",
       " 'labeled': 1034,\n",
       " 'subtype': 1822,\n",
       " 'solely': 1744,\n",
       " 'based': 168,\n",
       " 'low': 1116,\n",
       " 'bmi': 226,\n",
       " 'restricts': 1570,\n",
       " 'skewed': 1713,\n",
       " 'ideal': 930,\n",
       " 'behavior': 190,\n",
       " 'wise': 2166,\n",
       " 'fully': 752,\n",
       " 'bulimic': 273,\n",
       " 'cw': 437,\n",
       " 'mention': 1172,\n",
       " 'talked': 1871,\n",
       " 'bed': 186,\n",
       " 'your': 2223,\n",
       " 'views': 2092,\n",
       " 'lose': 1106,\n",
       " 'without': 2171,\n",
       " 'eds': 576,\n",
       " 'orthorexia': 1329,\n",
       " 'ppl': 1428,\n",
       " 'might': 1183,\n",
       " 'struggle': 1810,\n",
       " 'wanting': 2111,\n",
       " 'younger': 2222,\n",
       " 'hospitalised': 912,\n",
       " 'girls': 780,\n",
       " 'never': 1259,\n",
       " 'bikinis': 203,\n",
       " 'night': 1267,\n",
       " 'island': 982,\n",
       " 'brownie': 265,\n",
       " 'loving': 1115,\n",
       " 'twitter': 2029,\n",
       " 'keeps': 1011,\n",
       " 'promoting': 1454,\n",
       " 'apps': 120,\n",
       " 'poppin': 1416,\n",
       " 'gollum': 793,\n",
       " 'lmao': 1087,\n",
       " 'yesterday': 2215,\n",
       " 'tv': 2022,\n",
       " 'mum': 1228,\n",
       " 'istg': 987,\n",
       " 'got': 799,\n",
       " 'dead': 450,\n",
       " 'silent': 1696,\n",
       " 'good': 796,\n",
       " 'hour': 914,\n",
       " 'chart': 319,\n",
       " 'harmful': 849,\n",
       " 'please': 1408,\n",
       " 'quote': 1490,\n",
       " 'tweet': 2024,\n",
       " 'says': 1616,\n",
       " 'height': 870,\n",
       " 'depths': 473,\n",
       " 'haha': 829,\n",
       " 'french': 732,\n",
       " 'making': 1138,\n",
       " 'magazine': 1129,\n",
       " 'whatever': 2145,\n",
       " 'called': 285,\n",
       " 'abt': 7,\n",
       " 'addictions': 36,\n",
       " 'together': 1970,\n",
       " 'pairs': 1352,\n",
       " 'each': 563,\n",
       " 'us': 2075,\n",
       " 'write': 2200,\n",
       " 'addiction': 35,\n",
       " 'irl': 977,\n",
       " 'recovered': 1528,\n",
       " 'hey': 886,\n",
       " 'let': 1057,\n",
       " 'take': 1866,\n",
       " 'always': 83,\n",
       " 'makes': 1137,\n",
       " 'uncomfortable': 2046,\n",
       " 'lily': 1072,\n",
       " 'collins': 353,\n",
       " 'fought': 727,\n",
       " 'tons': 1975,\n",
       " 'film': 696,\n",
       " 'bone': 232,\n",
       " 'anything': 106,\n",
       " 'become': 184,\n",
       " 'extreme': 646,\n",
       " 'stereotype': 1791,\n",
       " 'screen': 1630,\n",
       " 'millions': 1188,\n",
       " 'restored': 1565,\n",
       " 'main': 1130,\n",
       " 'invalid': 976,\n",
       " 'won': 2176,\n",
       " 'crazy': 413,\n",
       " 'bad': 162,\n",
       " 'weren': 2143,\n",
       " 'system': 1860,\n",
       " 'rather': 1499,\n",
       " 'supposedly': 1841,\n",
       " 'slightly': 1722,\n",
       " 'unhealthy': 2057,\n",
       " 'fun': 753,\n",
       " 'random': 1494,\n",
       " 'pop': 1415,\n",
       " 'graphic': 807,\n",
       " 'posts': 1423,\n",
       " 'luckily': 1122,\n",
       " 'battle': 171,\n",
       " 'long': 1097,\n",
       " 'ruin': 1599,\n",
       " 'work': 2182,\n",
       " 'its': 989,\n",
       " 'fucked': 746,\n",
       " 'allow': 71,\n",
       " 'such': 1823,\n",
       " 'damaging': 441,\n",
       " 'cool': 396,\n",
       " 'bring': 256,\n",
       " 'buffet': 269,\n",
       " 'slap': 1719,\n",
       " 'fact': 653,\n",
       " 'friendless': 739,\n",
       " 'youtube': 2227,\n",
       " 'stories': 1802,\n",
       " 'pictures': 1398,\n",
       " 'title': 1965,\n",
       " 'purposely': 1472,\n",
       " 'ourselves': 1336,\n",
       " 'ahhhhhhhhhh': 60,\n",
       " 'wnna': 2173,\n",
       " 'tone': 1974,\n",
       " 'loose': 1104,\n",
       " 'lil': 1071,\n",
       " 'thinking': 1933,\n",
       " 'gym': 825,\n",
       " 'gt': 818,\n",
       " 'stuck': 1814,\n",
       " 'here': 883,\n",
       " 'marshmallow': 1144,\n",
       " 'apparently': 112,\n",
       " 'friends': 740,\n",
       " 'off': 1300,\n",
       " 'restriction': 1568,\n",
       " 'one': 1313,\n",
       " 'most': 1216,\n",
       " 'irresponsible': 979,\n",
       " 'restricting': 1567,\n",
       " 'may': 1149,\n",
       " 'short': 1678,\n",
       " 'term': 1894,\n",
       " 'benefits': 195,\n",
       " 'ask': 132,\n",
       " 'euphoric': 616,\n",
       " 'feeling': 683,\n",
       " 'dangerous': 444,\n",
       " 'ok': 1305,\n",
       " 'listen': 1076,\n",
       " 'jessie': 994,\n",
       " 'paege': 1348,\n",
       " 'new': 1261,\n",
       " 'song': 1752,\n",
       " 'skeleton': 1712,\n",
       " 'assume': 138,\n",
       " 'ab': 1,\n",
       " 'will': 2162,\n",
       " 'definitely': 461,\n",
       " 'll': 1086,\n",
       " 'try': 2015,\n",
       " 'cause': 305,\n",
       " 'curious': 429,\n",
       " 'tbh': 1879,\n",
       " 'severe': 1664,\n",
       " 'bit': 210,\n",
       " 'chunky': 339,\n",
       " 'wants': 2112,\n",
       " 'normal': 1273,\n",
       " 'dieting': 498,\n",
       " 'counting': 406,\n",
       " 'find': 698,\n",
       " 'hungry': 924,\n",
       " 'straight': 1804,\n",
       " 'away': 156,\n",
       " 'hungrier': 923,\n",
       " 'crying': 425,\n",
       " 'finally': 697,\n",
       " 'exactly': 629,\n",
       " 'watched': 2120,\n",
       " 'video': 2089,\n",
       " 'subject': 1819,\n",
       " 'kept': 1013,\n",
       " 'starving': 1787,\n",
       " 'right': 1584,\n",
       " 'ptsd': 1463,\n",
       " 'bright': 255,\n",
       " 'side': 1691,\n",
       " 'reached': 1502,\n",
       " 'point': 1413,\n",
       " 'anxiety': 101,\n",
       " 'many': 1143,\n",
       " 'attempts': 145,\n",
       " 'bpd': 245,\n",
       " 'addition': 37,\n",
       " 'made': 1128,\n",
       " 'conscious': 379,\n",
       " 'killed': 1022,\n",
       " 'confidence': 377,\n",
       " 'mother': 1218,\n",
       " 'longer': 1098,\n",
       " 'allows': 73,\n",
       " 'snack': 1735,\n",
       " 'drink': 547,\n",
       " 'soda': 1742,\n",
       " 'hides': 890,\n",
       " 'snacks': 1736,\n",
       " 'way': 2124,\n",
       " 'priv': 1440,\n",
       " 'girl': 778,\n",
       " 'say': 1614,\n",
       " 'god': 788,\n",
       " 'nooooo': 1272,\n",
       " 'working': 2184,\n",
       " 'homework': 904,\n",
       " 'clicked': 346,\n",
       " 'recommended': 1525,\n",
       " 'holy': 902,\n",
       " 'fucking': 747,\n",
       " 'oh': 1304,\n",
       " 'fuck': 745,\n",
       " 'help': 875,\n",
       " 'sometimes': 1751,\n",
       " 'lots': 1111,\n",
       " 'everyday': 621,\n",
       " 'exhausting': 635,\n",
       " 'social': 1741,\n",
       " 'media': 1162,\n",
       " 'huge': 918,\n",
       " 'leas': 1048,\n",
       " 'beautiful': 180,\n",
       " 'seem': 1641,\n",
       " 'junk': 1005,\n",
       " 'fussy': 759,\n",
       " 'meals': 1153,\n",
       " 'learn': 1046,\n",
       " 'alright': 80,\n",
       " 'once': 1312,\n",
       " 'pa': 1347,\n",
       " 'seek': 1640,\n",
       " 'treatment': 2000,\n",
       " 'changed': 317,\n",
       " 'realized': 1513,\n",
       " 'gone': 794,\n",
       " 'little': 1082,\n",
       " 'until': 2068,\n",
       " 'change': 316,\n",
       " 'give': 781,\n",
       " 'hand': 837,\n",
       " 'ill': 938,\n",
       " 'limit': 1073,\n",
       " 'possible': 1419,\n",
       " 'comes': 355,\n",
       " 'smallest': 1728,\n",
       " 'stupid': 1817,\n",
       " 'remind': 1550,\n",
       " 'specific': 1766,\n",
       " 'moment': 1207,\n",
       " 'delete': 464,\n",
       " 'living': 1084,\n",
       " 'looking': 1103,\n",
       " 'dealt': 454,\n",
       " 'super': 1834,\n",
       " 'excited': 630,\n",
       " 'actual': 28,\n",
       " 'representation': 1557,\n",
       " 'okay': 1306,\n",
       " 'sick': 1688,\n",
       " 'majority': 1134,\n",
       " 'pregnant': 1432,\n",
       " 'hunger': 922,\n",
       " 'damn': 442,\n",
       " 'powerful': 1427,\n",
       " 'means': 1155,\n",
       " 'doing': 532,\n",
       " 'something': 1750,\n",
       " 'chase': 320,\n",
       " 'sees': 1645,\n",
       " 'took': 1978,\n",
       " 'best': 196,\n",
       " 'shutting': 1687,\n",
       " 'humans': 920,\n",
       " 'loosing': 1105,\n",
       " 'open': 1322,\n",
       " 'nice': 1266,\n",
       " 'real': 1509,\n",
       " 'run': 1602,\n",
       " 'ocd': 1296,\n",
       " 'easy': 567,\n",
       " 'struggles': 1812,\n",
       " 'remotely': 1552,\n",
       " 'current': 430,\n",
       " 'explosive': 641,\n",
       " 'rage': 1491,\n",
       " 'brewing': 253,\n",
       " 'pit': 1402,\n",
       " 'stomach': 1797,\n",
       " 'mean': 1154,\n",
       " 'die': 495,\n",
       " 'least': 1049,\n",
       " 'attention': 146,\n",
       " 'those': 1939,\n",
       " 'unnecessary': 2065,\n",
       " 'asking': 133,\n",
       " 'prefer': 1430,\n",
       " 'binge': 204,\n",
       " 'tomorrow': 1973,\n",
       " 'morning': 1215,\n",
       " 'weigh': 2130,\n",
       " 'somehow': 1747,\n",
       " 'figure': 693,\n",
       " 'lol': 1094,\n",
       " 'starting': 1783,\n",
       " 'medical': 1163,\n",
       " 'specialists': 1765,\n",
       " 'ds': 552,\n",
       " 'lo': 1088,\n",
       " 'aba': 2,\n",
       " 'bizarrely': 212,\n",
       " 'anti': 100,\n",
       " 'suppresses': 1843,\n",
       " 'natural': 1245,\n",
       " 'ways': 2125,\n",
       " 'shove': 1681,\n",
       " 'certified': 313,\n",
       " 'evidence': 625,\n",
       " 'face': 649,\n",
       " 'next': 1264,\n",
       " 'deliver': 467,\n",
       " 'theory': 1918,\n",
       " 'mute': 1232,\n",
       " 'words': 2180,\n",
       " 'rexia': 1578,\n",
       " 'hate': 851,\n",
       " 'cc': 310,\n",
       " 'omggg': 1310,\n",
       " 'exciting': 631,\n",
       " 'luv': 1125,\n",
       " 'whoever': 2155,\n",
       " 'sending': 1652,\n",
       " 'messages': 1175,\n",
       " 'daily': 439,\n",
       " 'cus': 433,\n",
       " 'fast': 668,\n",
       " 'oomfs': 1320,\n",
       " 'liked': 1068,\n",
       " 'overweight': 1344,\n",
       " 'weighed': 2131,\n",
       " 'checkup': 325,\n",
       " 'saw': 1613,\n",
       " 'kg': 1014,\n",
       " 'squats': 1775,\n",
       " 'disappointed': 505,\n",
       " 'came': 290,\n",
       " 'docs': 526,\n",
       " 'started': 1782,\n",
       " 'tumblr': 2018,\n",
       " 'stopped': 1800,\n",
       " 'eatin': 570,\n",
       " 'uncensored': 2044,\n",
       " 'vent': 2084,\n",
       " 'space': 1761,\n",
       " 'type': 2034,\n",
       " 'reflective': 1532,\n",
       " 'roughly': 1595,\n",
       " 'faced': 651,\n",
       " 'death': 456,\n",
       " 'stone': 1798,\n",
       " 'pounds': 1425,\n",
       " 'diagnosed': 488,\n",
       " 'absolutely': 6,\n",
       " 'fail': 656,\n",
       " 'miserably': 1197,\n",
       " 'unfortunately': 2055,\n",
       " 'causing': 308,\n",
       " 'feelings': 684,\n",
       " 'control': 391,\n",
       " 'fighting': 692,\n",
       " 'disease': 511,\n",
       " 'helplessness': 879,\n",
       " 'endure': 595,\n",
       " 'unhappy': 2056,\n",
       " 'tired': 1964,\n",
       " 'does': 529,\n",
       " 'pulling': 1466,\n",
       " 'nighter': 1268,\n",
       " 'extra': 645,\n",
       " 'depressed': 470,\n",
       " 'kicking': 1017,\n",
       " 'ass': 136,\n",
       " 'proud': 1456,\n",
       " 'th': 1903,\n",
       " 'nspo': 1284,\n",
       " 'kinda': 1024,\n",
       " 'documentaries': 528,\n",
       " 'vids': 2091,\n",
       " 'yt': 2229,\n",
       " 'goal': 787,\n",
       " 'accomplished': 14,\n",
       " '𝙒𝘼𝙍𝙉𝙄𝙉𝙂': 2231,\n",
       " 'account': 16,\n",
       " 'discuss': 507,\n",
       " 'relapses': 1544,\n",
       " 'tweets': 2026,\n",
       " 'exposing': 643,\n",
       " 'blogs': 223,\n",
       " 'high': 892,\n",
       " 'wouldn': 2195,\n",
       " 'dangerously': 445,\n",
       " 'stars': 1780,\n",
       " 'exorcism': 637,\n",
       " 'grady': 805,\n",
       " 'hendrix': 881,\n",
       " 'cover': 410,\n",
       " 'dragged': 542,\n",
       " 'left': 1053,\n",
       " 'unexplained': 2051,\n",
       " 'weightloss': 2134,\n",
       " 'phrases': 1393,\n",
       " 'insulted': 965,\n",
       " 'essentially': 613,\n",
       " 'happened': 840,\n",
       " 'chilled': 332,\n",
       " 'behaviors': 191,\n",
       " 'followed': 715,\n",
       " 'complex': 370,\n",
       " 'namby': 1244,\n",
       " 'pamby': 1354,\n",
       " 'doesnt': 531,\n",
       " 'facts': 654,\n",
       " 'helping': 878,\n",
       " 'logically': 1093,\n",
       " 'fear': 676,\n",
       " 'growing': 817,\n",
       " 'chance': 315,\n",
       " 'remark': 1548,\n",
       " 'matter': 1148,\n",
       " 'wqnt': 2198,\n",
       " 'progress': 1450,\n",
       " 'mqde': 1225,\n",
       " 'relqpse': 1547,\n",
       " 'counseling': 403,\n",
       " 'biggest': 202,\n",
       " 'pet': 1388,\n",
       " 'peeve': 1373,\n",
       " 'adults': 43,\n",
       " 'bones': 233,\n",
       " 'hurting': 926,\n",
       " 'coo': 394,\n",
       " 'gains': 765,\n",
       " 'thank': 1905,\n",
       " 'voice': 2098,\n",
       " 'suffer': 1827,\n",
       " 'normally': 1274,\n",
       " 'choose': 336,\n",
       " 'consume': 384,\n",
       " 'educate': 579,\n",
       " 'instead': 964,\n",
       " 'enveloped': 606,\n",
       " 'losing': 1107,\n",
       " 'finding': 699,\n",
       " 'happiness': 843,\n",
       " 'thin': 1929,\n",
       " 'scary': 1624,\n",
       " 'classmates': 343,\n",
       " 'idk': 931,\n",
       " 'he': 856,\n",
       " 'knew': 1027,\n",
       " 'regardless': 1535,\n",
       " 'disgusting': 514,\n",
       " 'violated': 2094,\n",
       " 'ever': 618,\n",
       " 'past': 1365,\n",
       " 'gender': 769,\n",
       " 'dysphoria': 562,\n",
       " 'common': 363,\n",
       " 'fixate': 707,\n",
       " 'obsess': 1292,\n",
       " 'talk': 1870,\n",
       " 'describe': 475,\n",
       " 'gd': 768,\n",
       " 'sense': 1655,\n",
       " 'condition': 375,\n",
       " 'phone': 1390,\n",
       " 'overheard': 1343,\n",
       " 'venting': 2085,\n",
       " 'intermittent': 972,\n",
       " 'targeted': 1876,\n",
       " 'ads': 40,\n",
       " 'millennial': 1187,\n",
       " 'cunt': 427,\n",
       " 'sub': 1818,\n",
       " ...}"
      ]
     },
     "execution_count": 42,
     "metadata": {},
     "output_type": "execute_result"
    }
   ],
   "source": [
    "# Mapping between words and rows/columns in coocurrence matrix\n",
    "count_model.vocabulary_"
   ]
  },
  {
   "cell_type": "code",
   "execution_count": 43,
   "metadata": {
    "colab": {
     "base_uri": "https://localhost:8080/"
    },
    "executionInfo": {
     "elapsed": 3,
     "status": "ok",
     "timestamp": 1657891680994,
     "user": {
      "displayName": "Yelena Mejova",
      "userId": "11766611928577248962"
     },
     "user_tz": -120
    },
    "id": "gFbqRadoxSep",
    "outputId": "0718eff3-7e82-4416-fbfb-cd37bd235b39"
   },
   "outputs": [
    {
     "data": {
      "text/plain": [
       "[2006,\n",
       " 2008,\n",
       " 2009,\n",
       " 2010,\n",
       " 2115,\n",
       " 334,\n",
       " 2219,\n",
       " 397,\n",
       " 78,\n",
       " 1689,\n",
       " 2114,\n",
       " 1471,\n",
       " 1190,\n",
       " 27,\n",
       " 1732,\n",
       " 528,\n",
       " 339,\n",
       " 1424,\n",
       " 1233,\n",
       " 2065,\n",
       " 2003,\n",
       " 507,\n",
       " 772,\n",
       " 761,\n",
       " 1652,\n",
       " 1733,\n",
       " 2091,\n",
       " 1222,\n",
       " 1666,\n",
       " 2119,\n",
       " 2230,\n",
       " 1288,\n",
       " 1238,\n",
       " 1525,\n",
       " 170,\n",
       " 977,\n",
       " 1484,\n",
       " 1957,\n",
       " 1493,\n",
       " 1294,\n",
       " 1323,\n",
       " 277,\n",
       " 1550,\n",
       " 926,\n",
       " 647,\n",
       " 2054,\n",
       " 465,\n",
       " 1555,\n",
       " 304,\n",
       " 154]"
      ]
     },
     "execution_count": 43,
     "metadata": {},
     "output_type": "execute_result"
    }
   ],
   "source": [
    "# Select only rows and columns we're interested in\n",
    "items_of_interest = [count_model.vocabulary_[x] for x in words_of_interest]\n",
    "items_of_interest"
   ]
  },
  {
   "cell_type": "code",
   "execution_count": 44,
   "metadata": {
    "colab": {
     "base_uri": "https://localhost:8080/"
    },
    "executionInfo": {
     "elapsed": 1,
     "status": "ok",
     "timestamp": 1657891682915,
     "user": {
      "displayName": "Yelena Mejova",
      "userId": "11766611928577248962"
     },
     "user_tz": -120
    },
    "id": "9gE-DmiF69W6",
    "outputId": "010c43fc-3ffe-4fae-ba88-31ba2934c159"
   },
   "outputs": [
    {
     "data": {
      "text/plain": [
       "(50, 50)"
      ]
     },
     "execution_count": 44,
     "metadata": {},
     "output_type": "execute_result"
    }
   ],
   "source": [
    "# Select co-occurrences that are interested in\n",
    "cooc_of_interest = cooc.todense()[items_of_interest,:][:,items_of_interest]\n",
    "cooc_of_interest.shape"
   ]
  },
  {
   "cell_type": "code",
   "execution_count": 45,
   "metadata": {
    "colab": {
     "base_uri": "https://localhost:8080/"
    },
    "executionInfo": {
     "elapsed": 2,
     "status": "ok",
     "timestamp": 1657891683279,
     "user": {
      "displayName": "Yelena Mejova",
      "userId": "11766611928577248962"
     },
     "user_tz": -120
    },
    "id": "V4-k6o4M20rn",
    "outputId": "d669f330-44be-4d6e-ca6e-1585f46f220f"
   },
   "outputs": [
    {
     "data": {
      "text/plain": [
       "matrix([[0, 5, 3, ..., 2, 0, 1],\n",
       "        [5, 0, 3, ..., 0, 3, 1],\n",
       "        [3, 3, 0, ..., 1, 0, 0],\n",
       "        ...,\n",
       "        [2, 0, 1, ..., 0, 0, 0],\n",
       "        [0, 3, 0, ..., 0, 0, 0],\n",
       "        [1, 1, 0, ..., 0, 0, 0]])"
      ]
     },
     "execution_count": 45,
     "metadata": {},
     "output_type": "execute_result"
    }
   ],
   "source": [
    "cooc_of_interest"
   ]
  },
  {
   "cell_type": "markdown",
   "metadata": {
    "id": "DubqGUjYEhRy"
   },
   "source": [
    "### Plot co-occurrence networks"
   ]
  },
  {
   "cell_type": "code",
   "execution_count": 46,
   "metadata": {
    "colab": {
     "base_uri": "https://localhost:8080/",
     "height": 424
    },
    "executionInfo": {
     "elapsed": 7,
     "status": "ok",
     "timestamp": 1657891684335,
     "user": {
      "displayName": "Yelena Mejova",
      "userId": "11766611928577248962"
     },
     "user_tz": -120
    },
    "id": "fL8-nYEM-KI8",
    "outputId": "87a8558c-b43e-4774-dbd8-590b2ea426c6"
   },
   "outputs": [
    {
     "data": {
      "text/html": [
       "<div>\n",
       "<style scoped>\n",
       "    .dataframe tbody tr th:only-of-type {\n",
       "        vertical-align: middle;\n",
       "    }\n",
       "\n",
       "    .dataframe tbody tr th {\n",
       "        vertical-align: top;\n",
       "    }\n",
       "\n",
       "    .dataframe thead th {\n",
       "        text-align: right;\n",
       "    }\n",
       "</style>\n",
       "<table border=\"1\" class=\"dataframe\">\n",
       "  <thead>\n",
       "    <tr style=\"text-align: right;\">\n",
       "      <th></th>\n",
       "      <th>from</th>\n",
       "      <th>to</th>\n",
       "      <th>weight</th>\n",
       "    </tr>\n",
       "  </thead>\n",
       "  <tbody>\n",
       "    <tr>\n",
       "      <th>153</th>\n",
       "      <td>warning</td>\n",
       "      <td>trigger</td>\n",
       "      <td>35</td>\n",
       "    </tr>\n",
       "    <tr>\n",
       "      <th>6</th>\n",
       "      <td>trigger</td>\n",
       "      <td>warning</td>\n",
       "      <td>35</td>\n",
       "    </tr>\n",
       "    <tr>\n",
       "      <th>55</th>\n",
       "      <td>triggered</td>\n",
       "      <td>watch</td>\n",
       "      <td>9</td>\n",
       "    </tr>\n",
       "    <tr>\n",
       "      <th>281</th>\n",
       "      <td>watch</td>\n",
       "      <td>triggered</td>\n",
       "      <td>9</td>\n",
       "    </tr>\n",
       "    <tr>\n",
       "      <th>374</th>\n",
       "      <td>extremely</td>\n",
       "      <td>triggering</td>\n",
       "      <td>8</td>\n",
       "    </tr>\n",
       "    <tr>\n",
       "      <th>...</th>\n",
       "      <td>...</td>\n",
       "      <td>...</td>\n",
       "      <td>...</td>\n",
       "    </tr>\n",
       "    <tr>\n",
       "      <th>66</th>\n",
       "      <td>triggered</td>\n",
       "      <td>remind</td>\n",
       "      <td>1</td>\n",
       "    </tr>\n",
       "    <tr>\n",
       "      <th>63</th>\n",
       "      <td>triggered</td>\n",
       "      <td>obsessive</td>\n",
       "      <td>1</td>\n",
       "    </tr>\n",
       "    <tr>\n",
       "      <th>62</th>\n",
       "      <td>triggered</td>\n",
       "      <td>ramadan</td>\n",
       "      <td>1</td>\n",
       "    </tr>\n",
       "    <tr>\n",
       "      <th>275</th>\n",
       "      <td>sh</td>\n",
       "      <td>warnings</td>\n",
       "      <td>1</td>\n",
       "    </tr>\n",
       "    <tr>\n",
       "      <th>403</th>\n",
       "      <td>avoid</td>\n",
       "      <td>triggers</td>\n",
       "      <td>1</td>\n",
       "    </tr>\n",
       "  </tbody>\n",
       "</table>\n",
       "<p>404 rows × 3 columns</p>\n",
       "</div>"
      ],
      "text/plain": [
       "          from          to  weight\n",
       "153    warning     trigger      35\n",
       "6      trigger     warning      35\n",
       "55   triggered       watch       9\n",
       "281      watch   triggered       9\n",
       "374  extremely  triggering       8\n",
       "..         ...         ...     ...\n",
       "66   triggered      remind       1\n",
       "63   triggered   obsessive       1\n",
       "62   triggered     ramadan       1\n",
       "275         sh    warnings       1\n",
       "403      avoid    triggers       1\n",
       "\n",
       "[404 rows x 3 columns]"
      ]
     },
     "execution_count": 46,
     "metadata": {},
     "output_type": "execute_result"
    }
   ],
   "source": [
    "# Make a table of all co-occurrences that are not 0\n",
    "nonzero_coocs = list(zip(cooc_of_interest.nonzero()[0], cooc_of_interest.nonzero()[1]))\n",
    "cooc_table = pd.DataFrame({\"from\": [words_of_interest[x] for x in cooc_of_interest.nonzero()[0]],\n",
    "                           \"to\": [words_of_interest[x] for x in cooc_of_interest.nonzero()[1]],\n",
    "                           \"weight\": [cooc_of_interest[x,y] for (x,y) in nonzero_coocs]})\n",
    "cooc_table.sort_values(by=\"weight\", ascending=False)"
   ]
  },
  {
   "cell_type": "code",
   "execution_count": 47,
   "metadata": {
    "executionInfo": {
     "elapsed": 1,
     "status": "ok",
     "timestamp": 1657891685499,
     "user": {
      "displayName": "Yelena Mejova",
      "userId": "11766611928577248962"
     },
     "user_tz": -120
    },
    "id": "L_H082dZ-vtU"
   },
   "outputs": [],
   "source": [
    "with open(\"Data/trigger_cooc.graphml\", 'w') as f:\n",
    "    # Header\n",
    "    f.write('<?xml version=\"1.0\" encoding=\"UTF-8\"?>\\n' + \n",
    "            '<graphml xmlns=\"http://graphml.graphdrawing.org/xmlns\"\\n' + \n",
    "            '    xmlns:xsi=\"http://www.w3.org/2001/XMLSchema-instance\"\\n' + \n",
    "            '    xsi:schemaLocation=\"http://graphml.graphdrawing.org/xmlns\\n' + \n",
    "            '    http://graphml.graphdrawing.org/xmlns/1.0/graphml.xsd\">\\n' + \n",
    "            '<key id=\"n_label\" for=\"node\" attr.name=\"label\" attr.type=\"string\"/>\\n' + \n",
    "            '<key id=\"n_count\" for=\"node\" attr.name=\"count\" attr.type=\"double\"/>\\n' + \n",
    "            '<key id=\"e_weight\" for=\"edge\" attr.name=\"weight\" attr.type=\"double\"/>\\n' + \n",
    "            '<graph id=\"G\" edgedefault=\"undirected\">\\n')\n",
    "    \n",
    "    # Nodes\n",
    "    for i in range(len(words_of_interest)):\n",
    "        f.write('<node id=\"' + str(i) + '\">\\n' +\n",
    "               ' <data key=\"n_label\">' + words_of_interest[i] + '</data>\\n' +\n",
    "               ' <data key=\"n_count\">' + str(words_of_interest_weight[words_of_interest[i]]) + '</data>\\n' +\n",
    "               '</node>\\n')\n",
    "        \n",
    "    # Edges\n",
    "    for pair in nonzero_coocs:\n",
    "        f.write('<edge source=\"' + str(pair[0]) + '\" target=\"' + str(pair[1]) + '\">\\n' + \n",
    "                ' <data key=\"e_weight\">' + str(math.log(cooc_of_interest[pair]+1)) + '</data>\\n' +  # applying a log transform to dampen the distribution : math.log()\n",
    "                '</edge>\\n')\n",
    "        \n",
    "    # Footer\n",
    "    f.write(\"</graph>\\n</graphml>\\n\")"
   ]
  },
  {
   "cell_type": "markdown",
   "metadata": {
    "id": "0GIe4wjBcQua"
   },
   "source": [
    "Download the trigger_cooc.graphml file and open in using Gephi (https://gephi.org/).\n",
    "\n",
    "Try these steps (in Overview pane):\n",
    "1. In Layout, select ForceAtlas 2, click Run - this will position the nodes such that most connected ones are closer together\n",
    "2. In Layout, select Expansion, run it a couple of times - this will push the nodes out so they more spread out\n",
    "3. Open bottom panel and click on Labels, and tick Node - this will put the textual labels on the nodes\n",
    "4. Back in Layout, select Label adjust and run it - this will adjust the node positioning so the labels are not overlapping\n",
    "5. In Appearance, select node size (circles), then Ranking, then count, and click Apply - this will resize the nodes by the word count associated with each word\n",
    "6. Click on Preview and hit Refresh. Useful options to explore are:\n",
    "  * Edge Opacity\n",
    "  * Node Opacity\n",
    "  * Node Labels - Font (size)\n",
    "7. Save the graph as a file by clicking on Export: SVG/PDF/PNG and saving it\n",
    "\n",
    "The output could be something like Data/trigger_cooc.png"
   ]
  },
  {
   "cell_type": "markdown",
   "metadata": {
    "id": "_nE8LeA3d7_f"
   },
   "source": [
    "## 2.3 Linguistic analysis with external resources: LIWC\n",
    "\n",
    "Linguistic Inquiry and Word Count (LIWC; pronounced \"Luke\") a program that counts the number of words that fall into one or more linguistic, psychological and topical categories indicating various social, cognitive, and affective processes. The latest version is for sale, but the earlier versions of the dictionary exist (see Resources_sentiment folder). For more: https://www.liwc.app/\n",
    "\n",
    "Liwc categories:\n",
    "\n",
    "| | | | |\n",
    "|-|-|-|-|\n",
    "| 1\tfunction | 19\tinterrog | 37\ttentat | 55\tfocuspast |\n",
    "| 2\tpronoun | 20\tnumber | 38\tcertain | 56\tfocuspresent |\n",
    "| 3\tppron | 21\tquant | 39\tdiffer | 57\tfocusfuture |\n",
    "| 4\ti | 22\taffect | 40\tpercept | 58\trelativ |\n",
    "| 5\twe | 23\tposemo | 41\tsee | 59\tmotion |\n",
    "| 6\tyou | 24\tnegemo | 42\thear | 60\tspace |\n",
    "| 7\tshehe | 25\tanx | 43\tfeel | 61\ttime |\n",
    "| 8\tthey | 26\tanger | 44\tbio | 62\twork |\n",
    "| 9\tipron | 27\tsad | 45\tbody | 63\tleisure |\n",
    "| 10\tarticle | 28\tsocial | 46\thealth | 64\thome |\n",
    "| 11\tprep | 29\tfamily | 47\tsexual | 65\tmoney |\n",
    "| 12\tauxverb | 30\tfriend | 48\tingest | 66\trelig |\n",
    "| 13\tadverb | 31\tfemale | 49\tdrives | 67\tdeath |\n",
    "| 14\tconj | 32\tmale | 50\taffiliation | 68\tinformal |\n",
    "| 15\tnegate | 33\tcogproc | 51\tachiev | 69\tswear |\n",
    "| 16\tverb | 34\tinsight | 52\tpower | 70\tnetspeak |\n",
    "| 17\tadj | 35\tcause | 53\treward | 71\tassent |\n",
    "| 18\tcompare | 36\tdiscrep | 54\trisk | 72\tnonflu |\n",
    "|  | | |73\tfiller | \n"
   ]
  },
  {
   "cell_type": "markdown",
   "metadata": {
    "id": "IoAiMazADd7u"
   },
   "source": [
    "### Define functions for applying LIWC dictionaries"
   ]
  },
  {
   "cell_type": "code",
   "execution_count": 48,
   "metadata": {
    "executionInfo": {
     "elapsed": 326,
     "status": "ok",
     "timestamp": 1657891697901,
     "user": {
      "displayName": "Yelena Mejova",
      "userId": "11766611928577248962"
     },
     "user_tz": -120
    },
    "id": "B29dwb0T5UWV"
   },
   "outputs": [],
   "source": [
    "# Read in the LIWC 2015 dictionary\n",
    "categories = []\n",
    "numbers = {}\n",
    "wordtoclass = {}\n",
    "regexes = []\n",
    "regextoclass = {}\n",
    "with open(\"Resources_sentiment/LIWC2015_English_Flat.dic\", 'r') as f:\n",
    "  readingclasses = False\n",
    "  readingwords = False\n",
    "  c = 0\n",
    "  for l in f:\n",
    "    l = l.strip()\n",
    "    if (l == \"%\") and (not readingclasses):\n",
    "      readingclasses = True\n",
    "      continue\n",
    "    if (l == \"%\") and (readingclasses) and (not readingwords):\n",
    "      readingwords = True\n",
    "      readingclasses = False\n",
    "      continue\n",
    "    p = l.split(\"\\t\")\n",
    "    if readingclasses:\n",
    "      categories.append(p[1])\n",
    "      numbers[p[0]] = c\n",
    "      c += 1\n",
    "    if readingwords:\n",
    "      if len(p) < 2:\n",
    "        continue\n",
    "      if \"*\" in p[0]:\n",
    "        w = p[0].replace(\"*\",\"\")\n",
    "        regexes.append(w)\n",
    "        regextoclass[w] = p[1:]\n",
    "      else:\n",
    "        wordtoclass[p[0]] = p[1:]\n"
   ]
  },
  {
   "cell_type": "code",
   "execution_count": 49,
   "metadata": {
    "collapsed": true,
    "id": "meQSuLqZaJIG"
   },
   "outputs": [
    {
     "data": {
      "text/plain": [
       "['function',\n",
       " 'pronoun',\n",
       " 'ppron',\n",
       " 'i',\n",
       " 'we',\n",
       " 'you',\n",
       " 'shehe',\n",
       " 'they',\n",
       " 'ipron',\n",
       " 'article',\n",
       " 'prep',\n",
       " 'auxverb',\n",
       " 'adverb',\n",
       " 'conj',\n",
       " 'negate',\n",
       " 'verb',\n",
       " 'adj',\n",
       " 'compare',\n",
       " 'interrog',\n",
       " 'number',\n",
       " 'quant',\n",
       " 'affect',\n",
       " 'posemo',\n",
       " 'negemo',\n",
       " 'anx',\n",
       " 'anger',\n",
       " 'sad',\n",
       " 'social',\n",
       " 'family',\n",
       " 'friend',\n",
       " 'female',\n",
       " 'male',\n",
       " 'cogproc',\n",
       " 'insight',\n",
       " 'cause',\n",
       " 'discrep',\n",
       " 'tentat',\n",
       " 'certain',\n",
       " 'differ',\n",
       " 'percept',\n",
       " 'see',\n",
       " 'hear',\n",
       " 'feel',\n",
       " 'bio',\n",
       " 'body',\n",
       " 'health',\n",
       " 'sexual',\n",
       " 'ingest',\n",
       " 'drives',\n",
       " 'affiliation',\n",
       " 'achiev',\n",
       " 'power',\n",
       " 'reward',\n",
       " 'risk',\n",
       " 'focuspast',\n",
       " 'focuspresent',\n",
       " 'focusfuture',\n",
       " 'relativ',\n",
       " 'motion',\n",
       " 'space',\n",
       " 'time',\n",
       " 'work',\n",
       " 'leisure',\n",
       " 'home',\n",
       " 'money',\n",
       " 'relig',\n",
       " 'death',\n",
       " 'informal',\n",
       " 'swear',\n",
       " 'netspeak',\n",
       " 'assent',\n",
       " 'nonflu',\n",
       " 'filler']"
      ]
     },
     "execution_count": 49,
     "metadata": {},
     "output_type": "execute_result"
    }
   ],
   "source": [
    "categories"
   ]
  },
  {
   "cell_type": "code",
   "execution_count": 50,
   "metadata": {
    "executionInfo": {
     "elapsed": 341,
     "status": "ok",
     "timestamp": 1657880440057,
     "user": {
      "displayName": "Yelena Mejova",
      "userId": "11766611928577248962"
     },
     "user_tz": -120
    },
    "id": "MVK2tWVCJuql"
   },
   "outputs": [],
   "source": [
    "# Function to locate the LIWC words in our data\n",
    "def textToLIWC(text):\n",
    "  tokens = tokenizer.tokenize(cleantext(text))   # Clean and tokenize the text\n",
    "  cats = [0] * len(numbers)                      # Initialize category array to 0s\n",
    "  for t in tokens:\n",
    "    tcat = wordtoclass.get(t, [])                # Look for word in dictionary\n",
    "    if tcat != []:\n",
    "      for ci in tcat:\n",
    "        cats[numbers[ci]] += 1\n",
    "    for suffix in regexes:                       # Match with suffexes\n",
    "      if t.startswith(suffix):\n",
    "        for ci in regextoclass[suffix]:\n",
    "          cats[numbers[ci]] += 1\n",
    "  return cats"
   ]
  },
  {
   "cell_type": "code",
   "execution_count": 51,
   "metadata": {
    "colab": {
     "base_uri": "https://localhost:8080/",
     "height": 35
    },
    "executionInfo": {
     "elapsed": 455,
     "status": "ok",
     "timestamp": 1657880441896,
     "user": {
      "displayName": "Yelena Mejova",
      "userId": "11766611928577248962"
     },
     "user_tz": -120
    },
    "id": "r_ctzqwKTeVy",
    "outputId": "79e7044f-61b2-448e-c617-7e77912d65a7"
   },
   "outputs": [
    {
     "data": {
      "text/plain": [
       "'me searching for meanspo to trigger me vs when a proana sends me it https://t.co/g8AMyJyP4F'"
      ]
     },
     "execution_count": 51,
     "metadata": {},
     "output_type": "execute_result"
    }
   ],
   "source": [
    "tweets_trigger.iloc[2].text"
   ]
  },
  {
   "cell_type": "code",
   "execution_count": 52,
   "metadata": {
    "collapsed": true,
    "id": "8DNhUWMYTexG"
   },
   "outputs": [
    {
     "data": {
      "text/plain": [
       "[9,\n",
       " 4,\n",
       " 3,\n",
       " 3,\n",
       " 0,\n",
       " 0,\n",
       " 0,\n",
       " 0,\n",
       " 1,\n",
       " 1,\n",
       " 3,\n",
       " 0,\n",
       " 1,\n",
       " 1,\n",
       " 0,\n",
       " 1,\n",
       " 0,\n",
       " 0,\n",
       " 1,\n",
       " 0,\n",
       " 0,\n",
       " 0,\n",
       " 0,\n",
       " 0,\n",
       " 0,\n",
       " 0,\n",
       " 0,\n",
       " 1,\n",
       " 0,\n",
       " 0,\n",
       " 0,\n",
       " 0,\n",
       " 2,\n",
       " 0,\n",
       " 1,\n",
       " 0,\n",
       " 0,\n",
       " 0,\n",
       " 1,\n",
       " 1,\n",
       " 1,\n",
       " 0,\n",
       " 0,\n",
       " 0,\n",
       " 0,\n",
       " 0,\n",
       " 0,\n",
       " 0,\n",
       " 0,\n",
       " 0,\n",
       " 0,\n",
       " 0,\n",
       " 0,\n",
       " 0,\n",
       " 0,\n",
       " 1,\n",
       " 0,\n",
       " 2,\n",
       " 1,\n",
       " 0,\n",
       " 1,\n",
       " 0,\n",
       " 0,\n",
       " 0,\n",
       " 0,\n",
       " 0,\n",
       " 0,\n",
       " 0,\n",
       " 0,\n",
       " 0,\n",
       " 0,\n",
       " 0,\n",
       " 0]"
      ]
     },
     "execution_count": 52,
     "metadata": {},
     "output_type": "execute_result"
    }
   ],
   "source": [
    "scores = textToLIWC(tweets_trigger.iloc[2].text)\n",
    "scores"
   ]
  },
  {
   "cell_type": "code",
   "execution_count": 53,
   "metadata": {
    "colab": {
     "base_uri": "https://localhost:8080/",
     "height": 677
    },
    "executionInfo": {
     "elapsed": 331,
     "status": "ok",
     "timestamp": 1657880585926,
     "user": {
      "displayName": "Yelena Mejova",
      "userId": "11766611928577248962"
     },
     "user_tz": -120
    },
    "id": "aPV8tzGtVNzL",
    "outputId": "325d58bf-7b45-4d74-dca6-b420d2b46364"
   },
   "outputs": [
    {
     "data": {
      "text/html": [
       "<div>\n",
       "<style scoped>\n",
       "    .dataframe tbody tr th:only-of-type {\n",
       "        vertical-align: middle;\n",
       "    }\n",
       "\n",
       "    .dataframe tbody tr th {\n",
       "        vertical-align: top;\n",
       "    }\n",
       "\n",
       "    .dataframe thead th {\n",
       "        text-align: right;\n",
       "    }\n",
       "</style>\n",
       "<table border=\"1\" class=\"dataframe\">\n",
       "  <thead>\n",
       "    <tr style=\"text-align: right;\">\n",
       "      <th></th>\n",
       "      <th>category</th>\n",
       "      <th>score</th>\n",
       "    </tr>\n",
       "  </thead>\n",
       "  <tbody>\n",
       "    <tr>\n",
       "      <th>0</th>\n",
       "      <td>function</td>\n",
       "      <td>9</td>\n",
       "    </tr>\n",
       "    <tr>\n",
       "      <th>1</th>\n",
       "      <td>pronoun</td>\n",
       "      <td>4</td>\n",
       "    </tr>\n",
       "    <tr>\n",
       "      <th>2</th>\n",
       "      <td>ppron</td>\n",
       "      <td>3</td>\n",
       "    </tr>\n",
       "    <tr>\n",
       "      <th>3</th>\n",
       "      <td>i</td>\n",
       "      <td>3</td>\n",
       "    </tr>\n",
       "    <tr>\n",
       "      <th>10</th>\n",
       "      <td>prep</td>\n",
       "      <td>3</td>\n",
       "    </tr>\n",
       "    <tr>\n",
       "      <th>32</th>\n",
       "      <td>cogproc</td>\n",
       "      <td>2</td>\n",
       "    </tr>\n",
       "    <tr>\n",
       "      <th>57</th>\n",
       "      <td>relativ</td>\n",
       "      <td>2</td>\n",
       "    </tr>\n",
       "    <tr>\n",
       "      <th>18</th>\n",
       "      <td>interrog</td>\n",
       "      <td>1</td>\n",
       "    </tr>\n",
       "    <tr>\n",
       "      <th>40</th>\n",
       "      <td>see</td>\n",
       "      <td>1</td>\n",
       "    </tr>\n",
       "    <tr>\n",
       "      <th>39</th>\n",
       "      <td>percept</td>\n",
       "      <td>1</td>\n",
       "    </tr>\n",
       "    <tr>\n",
       "      <th>38</th>\n",
       "      <td>differ</td>\n",
       "      <td>1</td>\n",
       "    </tr>\n",
       "    <tr>\n",
       "      <th>34</th>\n",
       "      <td>cause</td>\n",
       "      <td>1</td>\n",
       "    </tr>\n",
       "    <tr>\n",
       "      <th>55</th>\n",
       "      <td>focuspresent</td>\n",
       "      <td>1</td>\n",
       "    </tr>\n",
       "    <tr>\n",
       "      <th>27</th>\n",
       "      <td>social</td>\n",
       "      <td>1</td>\n",
       "    </tr>\n",
       "    <tr>\n",
       "      <th>58</th>\n",
       "      <td>motion</td>\n",
       "      <td>1</td>\n",
       "    </tr>\n",
       "    <tr>\n",
       "      <th>60</th>\n",
       "      <td>time</td>\n",
       "      <td>1</td>\n",
       "    </tr>\n",
       "    <tr>\n",
       "      <th>9</th>\n",
       "      <td>article</td>\n",
       "      <td>1</td>\n",
       "    </tr>\n",
       "    <tr>\n",
       "      <th>15</th>\n",
       "      <td>verb</td>\n",
       "      <td>1</td>\n",
       "    </tr>\n",
       "    <tr>\n",
       "      <th>13</th>\n",
       "      <td>conj</td>\n",
       "      <td>1</td>\n",
       "    </tr>\n",
       "    <tr>\n",
       "      <th>12</th>\n",
       "      <td>adverb</td>\n",
       "      <td>1</td>\n",
       "    </tr>\n",
       "  </tbody>\n",
       "</table>\n",
       "</div>"
      ],
      "text/plain": [
       "        category  score\n",
       "0       function      9\n",
       "1        pronoun      4\n",
       "2          ppron      3\n",
       "3              i      3\n",
       "10          prep      3\n",
       "32       cogproc      2\n",
       "57       relativ      2\n",
       "18      interrog      1\n",
       "40           see      1\n",
       "39       percept      1\n",
       "38        differ      1\n",
       "34         cause      1\n",
       "55  focuspresent      1\n",
       "27        social      1\n",
       "58        motion      1\n",
       "60          time      1\n",
       "9        article      1\n",
       "15          verb      1\n",
       "13          conj      1\n",
       "12        adverb      1"
      ]
     },
     "execution_count": 53,
     "metadata": {},
     "output_type": "execute_result"
    }
   ],
   "source": [
    "# Combine with categories for clarity\n",
    "pd.DataFrame({\"category\": categories, \"score\": scores}).sort_values(\"score\", ascending=False).head(20)"
   ]
  },
  {
   "cell_type": "markdown",
   "metadata": {
    "id": "YlwmDgS1DnuT"
   },
   "source": [
    "### Apply LIWC dictionary to our data"
   ]
  },
  {
   "cell_type": "code",
   "execution_count": 54,
   "metadata": {
    "colab": {
     "base_uri": "https://localhost:8080/"
    },
    "executionInfo": {
     "elapsed": 791,
     "status": "ok",
     "timestamp": 1657881349006,
     "user": {
      "displayName": "Yelena Mejova",
      "userId": "11766611928577248962"
     },
     "user_tz": -120
    },
    "id": "X4AuXF_BYYbS",
    "outputId": "4754b9b9-00ea-42ab-c688-e60a92b0008c"
   },
   "outputs": [
    {
     "data": {
      "text/plain": [
       "(6749, 2)"
      ]
     },
     "execution_count": 54,
     "metadata": {},
     "output_type": "execute_result"
    }
   ],
   "source": [
    "# Let's compare tweets mentioning anorexia with those mentioning bodypositivity\n",
    "\n",
    "# Read in body positivity data (same time frame as anorexia data)\n",
    "tweets_bodypositive = pd.read_csv(\"Data/bodypositive_2020_jan_feb_apr_may.tsv\", sep=\"\\t\", lineterminator='\\n',\n",
    "                  low_memory=False, quoting=csv.QUOTE_NONE, escapechar=None, header=None, \n",
    "                  names=[\"text\", \"id\"], dtype={'id': object})\n",
    "tweets_bodypositive.shape"
   ]
  },
  {
   "cell_type": "code",
   "execution_count": 55,
   "metadata": {
    "colab": {
     "base_uri": "https://localhost:8080/"
    },
    "executionInfo": {
     "elapsed": 325,
     "status": "ok",
     "timestamp": 1657881923764,
     "user": {
      "displayName": "Yelena Mejova",
      "userId": "11766611928577248962"
     },
     "user_tz": -120
    },
    "id": "cpzJsJzidipu",
    "outputId": "7037067d-96bc-4c9d-b7c6-242f6a17c77f"
   },
   "outputs": [
    {
     "data": {
      "text/plain": [
       "(3184, 3)"
      ]
     },
     "execution_count": 55,
     "metadata": {},
     "output_type": "execute_result"
    }
   ],
   "source": [
    "tweets_bodypositive[\"text_clean\"] = tweets_bodypositive.text.apply(lambda x: cleantext(x))\n",
    "tweets_bodypositive = tweets_bodypositive.drop_duplicates(\"text_clean\")\n",
    "tweets_bodypositive.shape"
   ]
  },
  {
   "cell_type": "code",
   "execution_count": 56,
   "metadata": {
    "colab": {
     "base_uri": "https://localhost:8080/"
    },
    "executionInfo": {
     "elapsed": 328,
     "status": "ok",
     "timestamp": 1657881529916,
     "user": {
      "displayName": "Yelena Mejova",
      "userId": "11766611928577248962"
     },
     "user_tz": -120
    },
    "id": "Ro3WFMysbcV_",
    "outputId": "f95bef73-bafc-45ec-e74d-625d3c3108e6"
   },
   "outputs": [
    {
     "data": {
      "text/plain": [
       "(11973, 4)"
      ]
     },
     "execution_count": 56,
     "metadata": {},
     "output_type": "execute_result"
    }
   ],
   "source": [
    "# Combine the anorexia data into one table\n",
    "tweets_anorexia = pd.concat([tweets_beforeCOVID, tweets_duringCOVID], ignore_index=True, sort=False)\n",
    "tweets_anorexia.shape"
   ]
  },
  {
   "cell_type": "code",
   "execution_count": 57,
   "metadata": {
    "colab": {
     "base_uri": "https://localhost:8080/",
     "height": 488
    },
    "executionInfo": {
     "elapsed": 22264,
     "status": "ok",
     "timestamp": 1657883109669,
     "user": {
      "displayName": "Yelena Mejova",
      "userId": "11766611928577248962"
     },
     "user_tz": -120
    },
    "id": "Gw2UGP3jcItE",
    "outputId": "c742f761-1d71-4397-9a98-c99d7328d932"
   },
   "outputs": [
    {
     "data": {
      "text/html": [
       "<div>\n",
       "<style scoped>\n",
       "    .dataframe tbody tr th:only-of-type {\n",
       "        vertical-align: middle;\n",
       "    }\n",
       "\n",
       "    .dataframe tbody tr th {\n",
       "        vertical-align: top;\n",
       "    }\n",
       "\n",
       "    .dataframe thead th {\n",
       "        text-align: right;\n",
       "    }\n",
       "</style>\n",
       "<table border=\"1\" class=\"dataframe\">\n",
       "  <thead>\n",
       "    <tr style=\"text-align: right;\">\n",
       "      <th></th>\n",
       "      <th>function</th>\n",
       "      <th>pronoun</th>\n",
       "      <th>ppron</th>\n",
       "      <th>i</th>\n",
       "      <th>we</th>\n",
       "      <th>you</th>\n",
       "      <th>shehe</th>\n",
       "      <th>they</th>\n",
       "      <th>ipron</th>\n",
       "      <th>article</th>\n",
       "      <th>...</th>\n",
       "      <th>home</th>\n",
       "      <th>money</th>\n",
       "      <th>relig</th>\n",
       "      <th>death</th>\n",
       "      <th>informal</th>\n",
       "      <th>swear</th>\n",
       "      <th>netspeak</th>\n",
       "      <th>assent</th>\n",
       "      <th>nonflu</th>\n",
       "      <th>filler</th>\n",
       "    </tr>\n",
       "  </thead>\n",
       "  <tbody>\n",
       "    <tr>\n",
       "      <th>0</th>\n",
       "      <td>11</td>\n",
       "      <td>4</td>\n",
       "      <td>2</td>\n",
       "      <td>2</td>\n",
       "      <td>0</td>\n",
       "      <td>0</td>\n",
       "      <td>0</td>\n",
       "      <td>0</td>\n",
       "      <td>2</td>\n",
       "      <td>3</td>\n",
       "      <td>...</td>\n",
       "      <td>0</td>\n",
       "      <td>0</td>\n",
       "      <td>0</td>\n",
       "      <td>0</td>\n",
       "      <td>0</td>\n",
       "      <td>0</td>\n",
       "      <td>0</td>\n",
       "      <td>0</td>\n",
       "      <td>0</td>\n",
       "      <td>0</td>\n",
       "    </tr>\n",
       "    <tr>\n",
       "      <th>1</th>\n",
       "      <td>12</td>\n",
       "      <td>4</td>\n",
       "      <td>1</td>\n",
       "      <td>1</td>\n",
       "      <td>0</td>\n",
       "      <td>0</td>\n",
       "      <td>0</td>\n",
       "      <td>0</td>\n",
       "      <td>3</td>\n",
       "      <td>1</td>\n",
       "      <td>...</td>\n",
       "      <td>0</td>\n",
       "      <td>0</td>\n",
       "      <td>0</td>\n",
       "      <td>0</td>\n",
       "      <td>0</td>\n",
       "      <td>0</td>\n",
       "      <td>0</td>\n",
       "      <td>0</td>\n",
       "      <td>0</td>\n",
       "      <td>0</td>\n",
       "    </tr>\n",
       "    <tr>\n",
       "      <th>2</th>\n",
       "      <td>13</td>\n",
       "      <td>1</td>\n",
       "      <td>0</td>\n",
       "      <td>0</td>\n",
       "      <td>0</td>\n",
       "      <td>0</td>\n",
       "      <td>0</td>\n",
       "      <td>0</td>\n",
       "      <td>1</td>\n",
       "      <td>4</td>\n",
       "      <td>...</td>\n",
       "      <td>0</td>\n",
       "      <td>0</td>\n",
       "      <td>0</td>\n",
       "      <td>1</td>\n",
       "      <td>0</td>\n",
       "      <td>0</td>\n",
       "      <td>0</td>\n",
       "      <td>0</td>\n",
       "      <td>0</td>\n",
       "      <td>0</td>\n",
       "    </tr>\n",
       "    <tr>\n",
       "      <th>3</th>\n",
       "      <td>10</td>\n",
       "      <td>3</td>\n",
       "      <td>2</td>\n",
       "      <td>2</td>\n",
       "      <td>0</td>\n",
       "      <td>0</td>\n",
       "      <td>0</td>\n",
       "      <td>0</td>\n",
       "      <td>1</td>\n",
       "      <td>1</td>\n",
       "      <td>...</td>\n",
       "      <td>0</td>\n",
       "      <td>0</td>\n",
       "      <td>0</td>\n",
       "      <td>0</td>\n",
       "      <td>0</td>\n",
       "      <td>0</td>\n",
       "      <td>0</td>\n",
       "      <td>0</td>\n",
       "      <td>0</td>\n",
       "      <td>0</td>\n",
       "    </tr>\n",
       "    <tr>\n",
       "      <th>4</th>\n",
       "      <td>3</td>\n",
       "      <td>0</td>\n",
       "      <td>0</td>\n",
       "      <td>0</td>\n",
       "      <td>0</td>\n",
       "      <td>0</td>\n",
       "      <td>0</td>\n",
       "      <td>0</td>\n",
       "      <td>0</td>\n",
       "      <td>1</td>\n",
       "      <td>...</td>\n",
       "      <td>0</td>\n",
       "      <td>0</td>\n",
       "      <td>0</td>\n",
       "      <td>0</td>\n",
       "      <td>0</td>\n",
       "      <td>0</td>\n",
       "      <td>0</td>\n",
       "      <td>0</td>\n",
       "      <td>0</td>\n",
       "      <td>0</td>\n",
       "    </tr>\n",
       "    <tr>\n",
       "      <th>...</th>\n",
       "      <td>...</td>\n",
       "      <td>...</td>\n",
       "      <td>...</td>\n",
       "      <td>...</td>\n",
       "      <td>...</td>\n",
       "      <td>...</td>\n",
       "      <td>...</td>\n",
       "      <td>...</td>\n",
       "      <td>...</td>\n",
       "      <td>...</td>\n",
       "      <td>...</td>\n",
       "      <td>...</td>\n",
       "      <td>...</td>\n",
       "      <td>...</td>\n",
       "      <td>...</td>\n",
       "      <td>...</td>\n",
       "      <td>...</td>\n",
       "      <td>...</td>\n",
       "      <td>...</td>\n",
       "      <td>...</td>\n",
       "      <td>...</td>\n",
       "    </tr>\n",
       "    <tr>\n",
       "      <th>3179</th>\n",
       "      <td>18</td>\n",
       "      <td>6</td>\n",
       "      <td>5</td>\n",
       "      <td>2</td>\n",
       "      <td>2</td>\n",
       "      <td>0</td>\n",
       "      <td>1</td>\n",
       "      <td>0</td>\n",
       "      <td>1</td>\n",
       "      <td>2</td>\n",
       "      <td>...</td>\n",
       "      <td>0</td>\n",
       "      <td>0</td>\n",
       "      <td>0</td>\n",
       "      <td>0</td>\n",
       "      <td>1</td>\n",
       "      <td>1</td>\n",
       "      <td>0</td>\n",
       "      <td>0</td>\n",
       "      <td>0</td>\n",
       "      <td>0</td>\n",
       "    </tr>\n",
       "    <tr>\n",
       "      <th>3180</th>\n",
       "      <td>4</td>\n",
       "      <td>1</td>\n",
       "      <td>1</td>\n",
       "      <td>1</td>\n",
       "      <td>0</td>\n",
       "      <td>0</td>\n",
       "      <td>0</td>\n",
       "      <td>0</td>\n",
       "      <td>0</td>\n",
       "      <td>1</td>\n",
       "      <td>...</td>\n",
       "      <td>0</td>\n",
       "      <td>0</td>\n",
       "      <td>0</td>\n",
       "      <td>0</td>\n",
       "      <td>0</td>\n",
       "      <td>0</td>\n",
       "      <td>0</td>\n",
       "      <td>0</td>\n",
       "      <td>0</td>\n",
       "      <td>0</td>\n",
       "    </tr>\n",
       "    <tr>\n",
       "      <th>3181</th>\n",
       "      <td>15</td>\n",
       "      <td>4</td>\n",
       "      <td>2</td>\n",
       "      <td>1</td>\n",
       "      <td>1</td>\n",
       "      <td>0</td>\n",
       "      <td>0</td>\n",
       "      <td>0</td>\n",
       "      <td>2</td>\n",
       "      <td>0</td>\n",
       "      <td>...</td>\n",
       "      <td>0</td>\n",
       "      <td>0</td>\n",
       "      <td>0</td>\n",
       "      <td>0</td>\n",
       "      <td>0</td>\n",
       "      <td>0</td>\n",
       "      <td>0</td>\n",
       "      <td>0</td>\n",
       "      <td>0</td>\n",
       "      <td>0</td>\n",
       "    </tr>\n",
       "    <tr>\n",
       "      <th>3182</th>\n",
       "      <td>2</td>\n",
       "      <td>1</td>\n",
       "      <td>1</td>\n",
       "      <td>1</td>\n",
       "      <td>0</td>\n",
       "      <td>0</td>\n",
       "      <td>0</td>\n",
       "      <td>0</td>\n",
       "      <td>0</td>\n",
       "      <td>0</td>\n",
       "      <td>...</td>\n",
       "      <td>0</td>\n",
       "      <td>0</td>\n",
       "      <td>0</td>\n",
       "      <td>0</td>\n",
       "      <td>0</td>\n",
       "      <td>0</td>\n",
       "      <td>0</td>\n",
       "      <td>0</td>\n",
       "      <td>0</td>\n",
       "      <td>0</td>\n",
       "    </tr>\n",
       "    <tr>\n",
       "      <th>3183</th>\n",
       "      <td>14</td>\n",
       "      <td>5</td>\n",
       "      <td>4</td>\n",
       "      <td>0</td>\n",
       "      <td>3</td>\n",
       "      <td>1</td>\n",
       "      <td>0</td>\n",
       "      <td>0</td>\n",
       "      <td>1</td>\n",
       "      <td>1</td>\n",
       "      <td>...</td>\n",
       "      <td>0</td>\n",
       "      <td>0</td>\n",
       "      <td>0</td>\n",
       "      <td>0</td>\n",
       "      <td>0</td>\n",
       "      <td>0</td>\n",
       "      <td>0</td>\n",
       "      <td>0</td>\n",
       "      <td>0</td>\n",
       "      <td>0</td>\n",
       "    </tr>\n",
       "  </tbody>\n",
       "</table>\n",
       "<p>3184 rows × 73 columns</p>\n",
       "</div>"
      ],
      "text/plain": [
       "      function  pronoun  ppron  i  we  you  shehe  they  ipron  article  ...  \\\n",
       "0           11        4      2  2   0    0      0     0      2        3  ...   \n",
       "1           12        4      1  1   0    0      0     0      3        1  ...   \n",
       "2           13        1      0  0   0    0      0     0      1        4  ...   \n",
       "3           10        3      2  2   0    0      0     0      1        1  ...   \n",
       "4            3        0      0  0   0    0      0     0      0        1  ...   \n",
       "...        ...      ...    ... ..  ..  ...    ...   ...    ...      ...  ...   \n",
       "3179        18        6      5  2   2    0      1     0      1        2  ...   \n",
       "3180         4        1      1  1   0    0      0     0      0        1  ...   \n",
       "3181        15        4      2  1   1    0      0     0      2        0  ...   \n",
       "3182         2        1      1  1   0    0      0     0      0        0  ...   \n",
       "3183        14        5      4  0   3    1      0     0      1        1  ...   \n",
       "\n",
       "      home  money  relig  death  informal  swear  netspeak  assent  nonflu  \\\n",
       "0        0      0      0      0         0      0         0       0       0   \n",
       "1        0      0      0      0         0      0         0       0       0   \n",
       "2        0      0      0      1         0      0         0       0       0   \n",
       "3        0      0      0      0         0      0         0       0       0   \n",
       "4        0      0      0      0         0      0         0       0       0   \n",
       "...    ...    ...    ...    ...       ...    ...       ...     ...     ...   \n",
       "3179     0      0      0      0         1      1         0       0       0   \n",
       "3180     0      0      0      0         0      0         0       0       0   \n",
       "3181     0      0      0      0         0      0         0       0       0   \n",
       "3182     0      0      0      0         0      0         0       0       0   \n",
       "3183     0      0      0      0         0      0         0       0       0   \n",
       "\n",
       "      filler  \n",
       "0          0  \n",
       "1          0  \n",
       "2          0  \n",
       "3          0  \n",
       "4          0  \n",
       "...      ...  \n",
       "3179       0  \n",
       "3180       0  \n",
       "3181       0  \n",
       "3182       0  \n",
       "3183       0  \n",
       "\n",
       "[3184 rows x 73 columns]"
      ]
     },
     "execution_count": 57,
     "metadata": {},
     "output_type": "execute_result"
    }
   ],
   "source": [
    "# Discover LIWC categories in each tweet -------- may take a while\n",
    "liwc_bodypositive = tweets_bodypositive.text.apply(lambda x: textToLIWC(x))\n",
    "liwc_bodypositive = pd.DataFrame(list(liwc_bodypositive), columns=categories)\n",
    "liwc_bodypositive"
   ]
  },
  {
   "cell_type": "code",
   "execution_count": 58,
   "metadata": {
    "executionInfo": {
     "elapsed": 140588,
     "status": "ok",
     "timestamp": 1657883289427,
     "user": {
      "displayName": "Yelena Mejova",
      "userId": "11766611928577248962"
     },
     "user_tz": -120
    },
    "id": "6u4_WwyghF5C"
   },
   "outputs": [],
   "source": [
    "# May take a couple of minutes to run\n",
    "liwc_anorexia = tweets_anorexia.text.apply(lambda x: textToLIWC(x))\n",
    "liwc_anorexia = pd.DataFrame(list(liwc_anorexia), columns=categories)"
   ]
  },
  {
   "cell_type": "markdown",
   "metadata": {
    "id": "n1KmmgLADaF9"
   },
   "source": [
    "### Plot boxplots of categories of interest for the two datasets"
   ]
  },
  {
   "cell_type": "code",
   "execution_count": 59,
   "metadata": {
    "executionInfo": {
     "elapsed": 422,
     "status": "ok",
     "timestamp": 1657887531277,
     "user": {
      "displayName": "Yelena Mejova",
      "userId": "11766611928577248962"
     },
     "user_tz": -120
    },
    "id": "kA3ob9flqG0Z"
   },
   "outputs": [],
   "source": [
    "liwc_anorexia[\"topic\"] = \"AN\"\n",
    "liwc_bodypositive[\"topic\"] = \"BP\""
   ]
  },
  {
   "cell_type": "code",
   "execution_count": 60,
   "metadata": {
    "colab": {
     "base_uri": "https://localhost:8080/",
     "height": 424
    },
    "executionInfo": {
     "elapsed": 337,
     "status": "ok",
     "timestamp": 1657888962776,
     "user": {
      "displayName": "Yelena Mejova",
      "userId": "11766611928577248962"
     },
     "user_tz": -120
    },
    "id": "g0vaiwlS4V10",
    "outputId": "a5814486-6d21-4ec2-8bc3-4120cc7a1b44"
   },
   "outputs": [
    {
     "data": {
      "text/html": [
       "<div>\n",
       "<style scoped>\n",
       "    .dataframe tbody tr th:only-of-type {\n",
       "        vertical-align: middle;\n",
       "    }\n",
       "\n",
       "    .dataframe tbody tr th {\n",
       "        vertical-align: top;\n",
       "    }\n",
       "\n",
       "    .dataframe thead th {\n",
       "        text-align: right;\n",
       "    }\n",
       "</style>\n",
       "<table border=\"1\" class=\"dataframe\">\n",
       "  <thead>\n",
       "    <tr style=\"text-align: right;\">\n",
       "      <th></th>\n",
       "      <th>topic</th>\n",
       "      <th>variable</th>\n",
       "      <th>value</th>\n",
       "    </tr>\n",
       "  </thead>\n",
       "  <tbody>\n",
       "    <tr>\n",
       "      <th>0</th>\n",
       "      <td>AN</td>\n",
       "      <td>function</td>\n",
       "      <td>24</td>\n",
       "    </tr>\n",
       "    <tr>\n",
       "      <th>1</th>\n",
       "      <td>AN</td>\n",
       "      <td>function</td>\n",
       "      <td>25</td>\n",
       "    </tr>\n",
       "    <tr>\n",
       "      <th>2</th>\n",
       "      <td>AN</td>\n",
       "      <td>function</td>\n",
       "      <td>13</td>\n",
       "    </tr>\n",
       "    <tr>\n",
       "      <th>3</th>\n",
       "      <td>AN</td>\n",
       "      <td>function</td>\n",
       "      <td>18</td>\n",
       "    </tr>\n",
       "    <tr>\n",
       "      <th>4</th>\n",
       "      <td>AN</td>\n",
       "      <td>function</td>\n",
       "      <td>21</td>\n",
       "    </tr>\n",
       "    <tr>\n",
       "      <th>...</th>\n",
       "      <td>...</td>\n",
       "      <td>...</td>\n",
       "      <td>...</td>\n",
       "    </tr>\n",
       "    <tr>\n",
       "      <th>1106456</th>\n",
       "      <td>BP</td>\n",
       "      <td>filler</td>\n",
       "      <td>0</td>\n",
       "    </tr>\n",
       "    <tr>\n",
       "      <th>1106457</th>\n",
       "      <td>BP</td>\n",
       "      <td>filler</td>\n",
       "      <td>0</td>\n",
       "    </tr>\n",
       "    <tr>\n",
       "      <th>1106458</th>\n",
       "      <td>BP</td>\n",
       "      <td>filler</td>\n",
       "      <td>0</td>\n",
       "    </tr>\n",
       "    <tr>\n",
       "      <th>1106459</th>\n",
       "      <td>BP</td>\n",
       "      <td>filler</td>\n",
       "      <td>0</td>\n",
       "    </tr>\n",
       "    <tr>\n",
       "      <th>1106460</th>\n",
       "      <td>BP</td>\n",
       "      <td>filler</td>\n",
       "      <td>0</td>\n",
       "    </tr>\n",
       "  </tbody>\n",
       "</table>\n",
       "<p>1106461 rows × 3 columns</p>\n",
       "</div>"
      ],
      "text/plain": [
       "        topic  variable  value\n",
       "0          AN  function     24\n",
       "1          AN  function     25\n",
       "2          AN  function     13\n",
       "3          AN  function     18\n",
       "4          AN  function     21\n",
       "...       ...       ...    ...\n",
       "1106456    BP    filler      0\n",
       "1106457    BP    filler      0\n",
       "1106458    BP    filler      0\n",
       "1106459    BP    filler      0\n",
       "1106460    BP    filler      0\n",
       "\n",
       "[1106461 rows x 3 columns]"
      ]
     },
     "execution_count": 60,
     "metadata": {},
     "output_type": "execute_result"
    }
   ],
   "source": [
    "liwc_stats = pd.concat([pd.melt(liwc_anorexia, id_vars=\"topic\", value_vars=categories),\n",
    "                        pd.melt(liwc_bodypositive, id_vars=\"topic\", value_vars=categories)], ignore_index=True, sort=False)\n",
    "liwc_stats"
   ]
  },
  {
   "cell_type": "code",
   "execution_count": 61,
   "metadata": {
    "colab": {
     "base_uri": "https://localhost:8080/"
    },
    "executionInfo": {
     "elapsed": 369,
     "status": "ok",
     "timestamp": 1657889054121,
     "user": {
      "displayName": "Yelena Mejova",
      "userId": "11766611928577248962"
     },
     "user_tz": -120
    },
    "id": "s9MZAIuh4fPn",
    "outputId": "6ebca483-9ee2-431c-e4f4-65196f9d398c"
   },
   "outputs": [],
   "source": [
    "# Select topics of interest -- pronouns\n",
    "liwc_stats_sub = liwc_stats[liwc_stats.variable.isin([\"pronoun\",\"ppron\",\"i\",\"we\",\"you\",\"shehe\",\"they\",\"topic\"])]"
   ]
  },
  {
   "cell_type": "code",
   "execution_count": 62,
   "metadata": {
    "colab": {
     "base_uri": "https://localhost:8080/",
     "height": 230
    },
    "executionInfo": {
     "elapsed": 1000,
     "status": "ok",
     "timestamp": 1657889252304,
     "user": {
      "displayName": "Yelena Mejova",
      "userId": "11766611928577248962"
     },
     "user_tz": -120
    },
    "id": "HVPBZUPB4o1Z",
    "outputId": "b00f8d48-79b1-452f-8adf-3e543b96536a"
   },
   "outputs": [
    {
     "data": {
      "image/png": "[encoded data removed]",
      "text/plain": [
       "<Figure size 720x216 with 1 Axes>"
      ]
     },
     "metadata": {},
     "output_type": "display_data"
    }
   ],
   "source": [
    "# Plot boxplots\n",
    "import seaborn as sns\n",
    "sns.set(rc={'figure.figsize':(10,3)})\n",
    "sns.set_theme(style=\"whitegrid\")\n",
    "ax = sns.boxplot(x=\"variable\", y=\"value\", hue=\"topic\", data=liwc_stats_sub, palette=\"Set3\")"
   ]
  },
  {
   "cell_type": "code",
   "execution_count": 63,
   "metadata": {
    "colab": {
     "base_uri": "https://localhost:8080/",
     "height": 230
    },
    "executionInfo": {
     "elapsed": 1518,
     "status": "ok",
     "timestamp": 1657889534722,
     "user": {
      "displayName": "Yelena Mejova",
      "userId": "11766611928577248962"
     },
     "user_tz": -120
    },
    "id": "U71xohbw43jp",
    "outputId": "87bc5de3-d854-4960-d5b6-d58f8bc199b5"
   },
   "outputs": [
    {
     "data": {
      "image/png": "[encoded data removed]",
      "text/plain": [
       "<Figure size 720x216 with 1 Axes>"
      ]
     },
     "metadata": {},
     "output_type": "display_data"
    }
   ],
   "source": [
    "# Select topics of interest -- relevant to emotion\n",
    "liwc_stats_sub = liwc_stats[liwc_stats.variable.isin([\"affect\",\"posemo\",\"negemo\",\"anx\",\"anger\",\"sad\",\"feel\",\"body\",\"health\"])]\n",
    "ax = sns.boxplot(x=\"variable\", y=\"value\", hue=\"topic\", data=liwc_stats_sub, palette=\"Set3\")"
   ]
  },
  {
   "cell_type": "code",
   "execution_count": 64,
   "metadata": {
    "colab": {
     "base_uri": "https://localhost:8080/"
    },
    "executionInfo": {
     "elapsed": 831,
     "status": "ok",
     "timestamp": 1657889845188,
     "user": {
      "displayName": "Yelena Mejova",
      "userId": "11766611928577248962"
     },
     "user_tz": -120
    },
    "id": "GdNC2pkb6qYS",
    "outputId": "e9580776-58a7-403c-c0fb-0dc2910223b1"
   },
   "outputs": [
    {
     "data": {
      "text/plain": [
       "MannwhitneyuResult(statistic=27927834.0, pvalue=0.0)"
      ]
     },
     "execution_count": 64,
     "metadata": {},
     "output_type": "execute_result"
    }
   ],
   "source": [
    "# Comparing distributions using Mann-Whitney U test\n",
    "# https://en.wikipedia.org/wiki/Mann%E2%80%93Whitney_U_test\n",
    "stats.mannwhitneyu(liwc_stats[(liwc_stats.topic==\"AN\") & (liwc_stats.variable==\"negemo\")].value,\n",
    "                   liwc_stats[(liwc_stats.topic==\"BP\") & (liwc_stats.variable==\"negemo\")].value)"
   ]
  },
  {
   "cell_type": "code",
   "execution_count": 65,
   "metadata": {
    "colab": {
     "base_uri": "https://localhost:8080/"
    },
    "executionInfo": {
     "elapsed": 803,
     "status": "ok",
     "timestamp": 1657889884728,
     "user": {
      "displayName": "Yelena Mejova",
      "userId": "11766611928577248962"
     },
     "user_tz": -120
    },
    "id": "H7gD2H-z7SzM",
    "outputId": "4edf6841-2cce-4a6a-f286-9579a34c3798"
   },
   "outputs": [
    {
     "data": {
      "text/plain": [
       "MannwhitneyuResult(statistic=17308427.0, pvalue=3.190741203838059e-17)"
      ]
     },
     "execution_count": 65,
     "metadata": {},
     "output_type": "execute_result"
    }
   ],
   "source": [
    "stats.mannwhitneyu(liwc_stats[(liwc_stats.topic==\"AN\") & (liwc_stats.variable==\"posemo\")].value,\n",
    "                   liwc_stats[(liwc_stats.topic==\"BP\") & (liwc_stats.variable==\"posemo\")].value)"
   ]
  },
  {
   "cell_type": "code",
   "execution_count": 66,
   "metadata": {
    "colab": {
     "base_uri": "https://localhost:8080/"
    },
    "executionInfo": {
     "elapsed": 376,
     "status": "ok",
     "timestamp": 1657889951266,
     "user": {
      "displayName": "Yelena Mejova",
      "userId": "11766611928577248962"
     },
     "user_tz": -120
    },
    "id": "U0v6nCfr7v_g",
    "outputId": "48d0a1c8-8b8b-4744-ca39-5c69b4c86d23"
   },
   "outputs": [
    {
     "data": {
      "text/plain": [
       "count    11973.000000\n",
       "mean         0.256744\n",
       "std          0.549638\n",
       "min          0.000000\n",
       "25%          0.000000\n",
       "50%          0.000000\n",
       "75%          0.000000\n",
       "max          4.000000\n",
       "Name: value, dtype: float64"
      ]
     },
     "execution_count": 66,
     "metadata": {},
     "output_type": "execute_result"
    }
   ],
   "source": [
    "liwc_stats[(liwc_stats.topic==\"AN\") & (liwc_stats.variable==\"anx\")].value.describe()"
   ]
  },
  {
   "cell_type": "code",
   "execution_count": 67,
   "metadata": {
    "colab": {
     "base_uri": "https://localhost:8080/"
    },
    "executionInfo": {
     "elapsed": 312,
     "status": "ok",
     "timestamp": 1657889962162,
     "user": {
      "displayName": "Yelena Mejova",
      "userId": "11766611928577248962"
     },
     "user_tz": -120
    },
    "id": "TSj9j22O8G-8",
    "outputId": "58ad29f8-53a6-4529-9af6-4c1c5769f1c2"
   },
   "outputs": [
    {
     "data": {
      "text/plain": [
       "count    3184.000000\n",
       "mean        0.048681\n",
       "std         0.266141\n",
       "min         0.000000\n",
       "25%         0.000000\n",
       "50%         0.000000\n",
       "75%         0.000000\n",
       "max         4.000000\n",
       "Name: value, dtype: float64"
      ]
     },
     "execution_count": 67,
     "metadata": {},
     "output_type": "execute_result"
    }
   ],
   "source": [
    "liwc_stats[(liwc_stats.topic==\"BP\") & (liwc_stats.variable==\"anx\")].value.describe()"
   ]
  },
  {
   "cell_type": "code",
   "execution_count": null,
   "metadata": {
    "id": "qLofeOzb8TT_"
   },
   "outputs": [],
   "source": []
  }
 ],
 "metadata": {
  "colab": {
   "authorship_tag": "ABX9TyMmVT5TR2UY6TXpBMc7kmy4",
   "collapsed_sections": [],
   "name": "MentalHealth.ipynb",
   "provenance": [],
   "toc_visible": true
  },
  "kernelspec": {
   "display_name": "Python 3 (ipykernel)",
   "language": "python",
   "name": "python3"
  },
  "language_info": {
   "codemirror_mode": {
    "name": "ipython",
    "version": 3
   },
   "file_extension": ".py",
   "mimetype": "text/x-python",
   "name": "python",
   "nbconvert_exporter": "python",
   "pygments_lexer": "ipython3",
   "version": "3.9.13"
  }
 },
 "nbformat": 4,
 "nbformat_minor": 1
}
