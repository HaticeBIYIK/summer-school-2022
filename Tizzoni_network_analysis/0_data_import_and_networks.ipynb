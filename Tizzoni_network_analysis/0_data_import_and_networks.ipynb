{
 "cells": [
  {
   "cell_type": "markdown",
   "metadata": {},
   "source": [
    "# Basic network import and representation"
   ]
  },
  {
   "cell_type": "markdown",
   "metadata": {},
   "source": [
    "Here, we play a bit with some network datasets using the standard Python library."
   ]
  },
  {
   "cell_type": "markdown",
   "metadata": {},
   "source": [
    "We analyze the dataset 'cit-HepTh' available from the SNAP repository: http://snap.stanford.edu/data/index.html\n",
    "\n",
    "There are several other repositories of network datasets, for instance:\n",
    "- http://konect.cc/networks/\n",
    "- https://networks.skewed.de/\n",
    "- http://networkrepository.com/\n",
    "- http://cnets.indiana.edu/resources/data-repository/\n",
    "- http://www.sociopatterns.org/datasets/"
   ]
  },
  {
   "cell_type": "code",
   "execution_count": null,
   "metadata": {},
   "outputs": [],
   "source": [
    "import sys, math"
   ]
  },
  {
   "cell_type": "code",
   "execution_count": null,
   "metadata": {},
   "outputs": [],
   "source": [
    "%pylab inline"
   ]
  },
  {
   "cell_type": "code",
   "execution_count": null,
   "metadata": {},
   "outputs": [],
   "source": [
    "import collections as col"
   ]
  },
  {
   "cell_type": "markdown",
   "metadata": {},
   "source": [
    "We use a dictionary that associates a key (node) to a list of nodes (neighbours)"
   ]
  },
  {
   "cell_type": "code",
   "execution_count": null,
   "metadata": {},
   "outputs": [],
   "source": [
    "links_out=col.defaultdict(list)\n",
    "print(links_out)"
   ]
  },
  {
   "cell_type": "markdown",
   "metadata": {},
   "source": [
    "### Citation network\n",
    "We analyze the HepTh citation network from the SNAP repository.\n",
    "We open the file containing the network and read each line."
   ]
  },
  {
   "cell_type": "code",
   "execution_count": null,
   "metadata": {},
   "outputs": [],
   "source": [
    "filepath='./network_data/cit-HepTh.txt'"
   ]
  },
  {
   "cell_type": "code",
   "execution_count": null,
   "metadata": {},
   "outputs": [],
   "source": [
    "fh=open(filepath,'r')"
   ]
  },
  {
   "cell_type": "code",
   "execution_count": null,
   "metadata": {},
   "outputs": [],
   "source": [
    "fh"
   ]
  },
  {
   "cell_type": "code",
   "execution_count": null,
   "metadata": {},
   "outputs": [],
   "source": [
    "s=fh.readlines()"
   ]
  },
  {
   "cell_type": "code",
   "execution_count": null,
   "metadata": {},
   "outputs": [],
   "source": [
    "s[:4]"
   ]
  },
  {
   "cell_type": "code",
   "execution_count": null,
   "metadata": {},
   "outputs": [],
   "source": [
    "s[10].strip().split()"
   ]
  },
  {
   "cell_type": "code",
   "execution_count": null,
   "metadata": {},
   "outputs": [],
   "source": [
    "for line in s:\n",
    "    #remove \"\\n\" characters (.strip()) and split the line at blank spaces (split.())\n",
    "    t=line.strip().split()\n",
    "    if t[0]!='#':\n",
    "        #the first lines are comments\n",
    "        origin=int(t[0])\n",
    "        dest=int(t[1])\n",
    "        links_out[origin].append(dest)\n",
    "    \n",
    "#close the file\n",
    "fh.close()"
   ]
  },
  {
   "cell_type": "code",
   "execution_count": null,
   "metadata": {},
   "outputs": [],
   "source": [
    "len(links_out[1001])"
   ]
  },
  {
   "cell_type": "markdown",
   "metadata": {},
   "source": [
    "How many nodes are in the network?"
   ]
  },
  {
   "cell_type": "code",
   "execution_count": null,
   "metadata": {},
   "outputs": [],
   "source": [
    "tot_nodes=len(links_out)\n",
    "print(tot_nodes)"
   ]
  },
  {
   "cell_type": "markdown",
   "metadata": {},
   "source": [
    "<img src=\"figure/node_degree.png\" width=\"60%\">\n",
    "\n",
    "The degree of a node is the total number of links connected to it. Let's first look at the *unidrected* graph **Node 4** has degree $k_4 = 3$. \n",
    "\n",
    "In the directed Graph, for **Node 4**, $k_4^{\\text{in}}=1$ while $k_4^{\\text{out}}=2$.\n",
    "\n",
    "We calculate the out-degree distribution of the cit-HepTh network.\n",
    "\n",
    "The degree distribution, as the term implies, is the **probability distribution** of all node degrees over the entire network."
   ]
  },
  {
   "cell_type": "code",
   "execution_count": null,
   "metadata": {},
   "outputs": [],
   "source": [
    "degree_out={}\n",
    "\n",
    "for i in links_out:\n",
    "\n",
    "    deg_out=len(links_out[i])\n",
    "\n",
    "    if deg_out in degree_out:\n",
    "        degree_out[deg_out]+=1\n",
    "    else:\n",
    "        degree_out[deg_out]=1"
   ]
  },
  {
   "cell_type": "code",
   "execution_count": null,
   "metadata": {},
   "outputs": [],
   "source": [
    "print(sorted(degree_out.keys()))"
   ]
  },
  {
   "cell_type": "code",
   "execution_count": null,
   "metadata": {},
   "outputs": [],
   "source": [
    "degree_out"
   ]
  },
  {
   "cell_type": "markdown",
   "metadata": {},
   "source": [
    "We export the degree distribution to an output file."
   ]
  },
  {
   "cell_type": "code",
   "execution_count": null,
   "metadata": {},
   "outputs": [],
   "source": [
    "s_deg=sorted(degree_out.keys())"
   ]
  },
  {
   "cell_type": "code",
   "execution_count": null,
   "metadata": {},
   "outputs": [],
   "source": [
    "fout=open('./../datasets/Cit-HepTh-degout-distri.txt','w')\n",
    "for d in s_deg:\n",
    "    deg_freq=float(degree_out[d])/tot_nodes \n",
    "    \n",
    "    fout.write(str(d)+'  '+str(deg_freq)+'\\n')\n",
    "\n",
    "fout.close()"
   ]
  },
  {
   "cell_type": "code",
   "execution_count": null,
   "metadata": {},
   "outputs": [],
   "source": [
    "for i in degree_out.items():\n",
    "    print(i)"
   ]
  },
  {
   "cell_type": "code",
   "execution_count": null,
   "metadata": {},
   "outputs": [],
   "source": [
    "from operator import itemgetter"
   ]
  },
  {
   "cell_type": "code",
   "execution_count": null,
   "metadata": {},
   "outputs": [],
   "source": [
    "x=[]\n",
    "y=[]\n",
    "\n",
    "for i in sorted(degree_out.items(), key=itemgetter(0)):\n",
    "    x.append(i[0])\n",
    "    y.append(float(i[1])/tot_nodes)"
   ]
  },
  {
   "cell_type": "code",
   "execution_count": null,
   "metadata": {},
   "outputs": [],
   "source": [
    "plt.figure(figsize=(10,7))   \n",
    "\n",
    "plt.plot(x,y)\n",
    "\n",
    "plt.xlabel('$k_{out}$', fontsize=24)\n",
    "plt.ylabel('$P(k_{out})$', fontsize=24)\n",
    "plt.xticks(fontsize=24)\n",
    "plt.yticks(fontsize=24)\n",
    "plt.yscale('log')\n",
    "plt.xscale('log')"
   ]
  },
  {
   "cell_type": "markdown",
   "metadata": {},
   "source": [
    "Let's have a look at the degree-in distribution."
   ]
  },
  {
   "cell_type": "code",
   "execution_count": null,
   "metadata": {},
   "outputs": [],
   "source": [
    "links_in=col.defaultdict(list)\n",
    "\n",
    "fh=open(filepath,'r')\n",
    "#reading all the file lines\n",
    "for line in fh.readlines():\n",
    "    #remove \"\\n\" characters (.strip()) and split the line at blank spaces (split.())\n",
    "    s=line.strip().split()\n",
    "    if s[0]!='#':\n",
    "        #the first lines are comments\n",
    "        origin=int(s[0])\n",
    "        dest=int(s[1])\n",
    "        links_in[dest].append(origin)\n",
    "    \n",
    "fh.close()"
   ]
  },
  {
   "cell_type": "code",
   "execution_count": null,
   "metadata": {},
   "outputs": [],
   "source": [
    "degree_in=col.defaultdict(int)\n",
    "for i in links_in.keys():\n",
    "    deg=len(links_in[i])\n",
    "    degree_in[deg]+=1\n",
    "\n",
    "tot_nodes_in=len(links_in)\n",
    "print(tot_nodes_in)"
   ]
  },
  {
   "cell_type": "markdown",
   "metadata": {},
   "source": [
    "What is the difference from an exponential distribution?"
   ]
  },
  {
   "cell_type": "code",
   "execution_count": null,
   "metadata": {},
   "outputs": [],
   "source": [
    "def f(t):\n",
    "    return np.exp(-0.5*t)\n",
    "\n",
    "x=[]\n",
    "y=[]\n",
    "for i in sorted(degree_in.items(), key=itemgetter(0)):\n",
    "    x.append(i[0])\n",
    "    y.append(float(i[1])/tot_nodes_in)\n",
    "\n",
    "plt.figure(figsize=(10,7))   \n",
    "    \n",
    "plt.plot(np.array(x),np.array(y))\n",
    "plt.plot(np.array(x), f(np.array(x)), label='Exponential')\n",
    "plt.xlabel('$k_{in}$', fontsize=24)\n",
    "plt.ylabel('$P(k_{in})$', fontsize=24)\n",
    "plt.xticks(fontsize=24)\n",
    "plt.yticks(fontsize=24)\n",
    "plt.yscale('log')\n",
    "plt.xscale('log')\n",
    "plt.axis([1,10000,0.00001,1])\n",
    "plt.legend()\n",
    "plt.show()"
   ]
  },
  {
   "cell_type": "code",
   "execution_count": null,
   "metadata": {},
   "outputs": [],
   "source": []
  },
  {
   "cell_type": "code",
   "execution_count": null,
   "metadata": {},
   "outputs": [],
   "source": []
  }
 ],
 "metadata": {
  "kernelspec": {
   "display_name": "Python 3 (ipykernel)",
   "language": "python",
   "name": "python3"
  },
  "language_info": {
   "codemirror_mode": {
    "name": "ipython",
    "version": 3
   },
   "file_extension": ".py",
   "mimetype": "text/x-python",
   "name": "python",
   "nbconvert_exporter": "python",
   "pygments_lexer": "ipython3",
   "version": "3.8.2"
  },
  "toc": {
   "base_numbering": 1,
   "nav_menu": {},
   "number_sections": true,
   "sideBar": true,
   "skip_h1_title": false,
   "title_cell": "Table of Contents",
   "title_sidebar": "Contents",
   "toc_cell": false,
   "toc_position": {},
   "toc_section_display": true,
   "toc_window_display": false
  }
 },
 "nbformat": 4,
 "nbformat_minor": 4
}
